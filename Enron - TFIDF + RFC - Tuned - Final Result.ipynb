{
 "cells": [
  {
   "cell_type": "markdown",
   "metadata": {},
   "source": [
    "# Before you refer to this notebook, make sure you checked out the GridCV - Parameter Tuning Notebook, the parameters used here were incorporated after results of the same"
   ]
  },
  {
   "cell_type": "code",
   "execution_count": 1,
   "metadata": {},
   "outputs": [],
   "source": [
    "import pandas as pd\n",
    "import re\n",
    "from nltk.stem import WordNetLemmatizer\n",
    "from nltk import word_tokenize\n",
    "from nltk.corpus import stopwords\n",
    "from sklearn.model_selection import train_test_split\n",
    "from sklearn.pipeline import Pipeline\n",
    "from sklearn.feature_extraction.text import TfidfVectorizer\n",
    "from sklearn.linear_model import LogisticRegression\n",
    "from sklearn.ensemble import RandomForestClassifier\n",
    "\n",
    "from sklearn.metrics import accuracy_score, f1_score\n",
    "from sklearn.metrics import classification_report"
   ]
  },
  {
   "cell_type": "markdown",
   "metadata": {},
   "source": [
    "# Reading Data in"
   ]
  },
  {
   "cell_type": "code",
   "execution_count": 2,
   "metadata": {},
   "outputs": [],
   "source": [
    "df_train=pd.read_csv(\"enron_train.txt\",sep=\"\\t\",header=None)\n",
    "df_test=pd.read_csv(\"enron_test.txt\",sep=\"\\t\",header=None)"
   ]
  },
  {
   "cell_type": "code",
   "execution_count": 3,
   "metadata": {},
   "outputs": [],
   "source": [
    "df_train.columns=[\"pred\",\"content\"]\n",
    "df_test.columns=[\"pred\",\"content\"]"
   ]
  },
  {
   "cell_type": "code",
   "execution_count": 4,
   "metadata": {},
   "outputs": [
    {
     "data": {
      "text/html": [
       "<div>\n",
       "<style scoped>\n",
       "    .dataframe tbody tr th:only-of-type {\n",
       "        vertical-align: middle;\n",
       "    }\n",
       "\n",
       "    .dataframe tbody tr th {\n",
       "        vertical-align: top;\n",
       "    }\n",
       "\n",
       "    .dataframe thead th {\n",
       "        text-align: right;\n",
       "    }\n",
       "</style>\n",
       "<table border=\"1\" class=\"dataframe\">\n",
       "  <thead>\n",
       "    <tr style=\"text-align: right;\">\n",
       "      <th></th>\n",
       "      <th>pred</th>\n",
       "      <th>content</th>\n",
       "    </tr>\n",
       "  </thead>\n",
       "  <tbody>\n",
       "    <tr>\n",
       "      <th>0</th>\n",
       "      <td>No</td>\n",
       "      <td>&gt;&gt;&gt; [1]Contact Me Now to Make $100 Today!$LINK</td>\n",
       "    </tr>\n",
       "    <tr>\n",
       "      <th>1</th>\n",
       "      <td>No</td>\n",
       "      <td>Act now to keep your life on the go!</td>\n",
       "    </tr>\n",
       "    <tr>\n",
       "      <th>2</th>\n",
       "      <td>No</td>\n",
       "      <td>Choose between $500 and $10000 dollars with up...</td>\n",
       "    </tr>\n",
       "    <tr>\n",
       "      <th>3</th>\n",
       "      <td>No</td>\n",
       "      <td>Click above to earn today.</td>\n",
       "    </tr>\n",
       "    <tr>\n",
       "      <th>4</th>\n",
       "      <td>No</td>\n",
       "      <td>Click here to receive your first $10 today:</td>\n",
       "    </tr>\n",
       "  </tbody>\n",
       "</table>\n",
       "</div>"
      ],
      "text/plain": [
       "  pred                                            content\n",
       "0   No     >>> [1]Contact Me Now to Make $100 Today!$LINK\n",
       "1   No               Act now to keep your life on the go!\n",
       "2   No  Choose between $500 and $10000 dollars with up...\n",
       "3   No                         Click above to earn today.\n",
       "4   No        Click here to receive your first $10 today:"
      ]
     },
     "execution_count": 4,
     "metadata": {},
     "output_type": "execute_result"
    }
   ],
   "source": [
    "df_train.head()"
   ]
  },
  {
   "cell_type": "code",
   "execution_count": 5,
   "metadata": {},
   "outputs": [
    {
     "data": {
      "text/html": [
       "<div>\n",
       "<style scoped>\n",
       "    .dataframe tbody tr th:only-of-type {\n",
       "        vertical-align: middle;\n",
       "    }\n",
       "\n",
       "    .dataframe tbody tr th {\n",
       "        vertical-align: top;\n",
       "    }\n",
       "\n",
       "    .dataframe thead th {\n",
       "        text-align: right;\n",
       "    }\n",
       "</style>\n",
       "<table border=\"1\" class=\"dataframe\">\n",
       "  <thead>\n",
       "    <tr style=\"text-align: right;\">\n",
       "      <th></th>\n",
       "      <th>pred</th>\n",
       "      <th>content</th>\n",
       "    </tr>\n",
       "  </thead>\n",
       "  <tbody>\n",
       "    <tr>\n",
       "      <th>987</th>\n",
       "      <td>Yes</td>\n",
       "      <td>Could you call me on Monday with further infor...</td>\n",
       "    </tr>\n",
       "    <tr>\n",
       "      <th>988</th>\n",
       "      <td>Yes</td>\n",
       "      <td>Please call me at your convenience to discuss.</td>\n",
       "    </tr>\n",
       "    <tr>\n",
       "      <th>989</th>\n",
       "      <td>Yes</td>\n",
       "      <td>Please call the list around 200 to see if peop...</td>\n",
       "    </tr>\n",
       "    <tr>\n",
       "      <th>990</th>\n",
       "      <td>Yes</td>\n",
       "      <td>Please give us a call tomorrow to discuss brie...</td>\n",
       "    </tr>\n",
       "    <tr>\n",
       "      <th>991</th>\n",
       "      <td>Yes</td>\n",
       "      <td>Please review the below and lets discuss if th...</td>\n",
       "    </tr>\n",
       "  </tbody>\n",
       "</table>\n",
       "</div>"
      ],
      "text/plain": [
       "    pred                                            content\n",
       "987  Yes  Could you call me on Monday with further infor...\n",
       "988  Yes     Please call me at your convenience to discuss.\n",
       "989  Yes  Please call the list around 200 to see if peop...\n",
       "990  Yes  Please give us a call tomorrow to discuss brie...\n",
       "991  Yes  Please review the below and lets discuss if th..."
      ]
     },
     "execution_count": 5,
     "metadata": {},
     "output_type": "execute_result"
    }
   ],
   "source": [
    "df_test.tail()"
   ]
  },
  {
   "cell_type": "markdown",
   "metadata": {},
   "source": [
    "## Step 1 : Data Preprocessing, Expanding contractions & performing data cleaning operations on the text data"
   ]
  },
  {
   "cell_type": "code",
   "execution_count": 6,
   "metadata": {},
   "outputs": [],
   "source": [
    "cList = {\n",
    "  \"ain't\": \"am not\",\n",
    "  \"aren't\": \"are not\",\n",
    "  \"can't\": \"cannot\",\n",
    "  \"can't've\": \"cannot have\",\n",
    "  \"'cause\": \"because\",\n",
    "  \"could've\": \"could have\",\n",
    "  \"couldn't\": \"could not\",\n",
    "  \"couldn't've\": \"could not have\",\n",
    "  \"didn't\": \"did not\",\n",
    "  \"doesn't\": \"does not\",\n",
    "  \"don't\": \"do not\",\n",
    "  \"hadn't\": \"had not\",\n",
    "  \"hadn't've\": \"had not have\",\n",
    "  \"hasn't\": \"has not\",\n",
    "  \"haven't\": \"have not\",\n",
    "  \"he'd\": \"he would\",\n",
    "  \"he'd've\": \"he would have\",\n",
    "  \"he'll\": \"he will\",\n",
    "  \"he'll've\": \"he will have\",\n",
    "  \"he's\": \"he is\",\n",
    "  \"how'd\": \"how did\",\n",
    "  \"how'd'y\": \"how do you\",\n",
    "  \"how'll\": \"how will\",\n",
    "  \"how's\": \"how is\",\n",
    "  \"I'd\": \"I would\",\n",
    "  \"I'd've\": \"I would have\",\n",
    "  \"I'll\": \"I will\",\n",
    "  \"I'll've\": \"I will have\",\n",
    "  \"I'm\": \"I am\",\n",
    "  \"I've\": \"I have\",\n",
    "  \"isn't\": \"is not\",\n",
    "  \"it'd\": \"it had\",\n",
    "  \"it'd've\": \"it would have\",\n",
    "  \"it'll\": \"it will\",\n",
    "  \"it'll've\": \"it will have\",\n",
    "  \"it's\": \"it is\",\n",
    "  \"let's\": \"let us\",\n",
    "  \"ma'am\": \"madam\",\n",
    "  \"mayn't\": \"may not\",\n",
    "  \"might've\": \"might have\",\n",
    "  \"mightn't\": \"might not\",\n",
    "  \"mightn't've\": \"might not have\",\n",
    "  \"must've\": \"must have\",\n",
    "  \"mustn't\": \"must not\",\n",
    "  \"mustn't've\": \"must not have\",\n",
    "  \"needn't\": \"need not\",\n",
    "  \"needn't've\": \"need not have\",\n",
    "  \"o'clock\": \"of the clock\",\n",
    "  \"oughtn't\": \"ought not\",\n",
    "  \"oughtn't've\": \"ought not have\",\n",
    "  \"shan't\": \"shall not\",\n",
    "  \"sha'n't\": \"shall not\",\n",
    "  \"shan't've\": \"shall not have\",\n",
    "  \"she'd\": \"she would\",\n",
    "  \"she'd've\": \"she would have\",\n",
    "  \"she'll\": \"she will\",\n",
    "  \"she'll've\": \"she will have\",\n",
    "  \"she's\": \"she is\",\n",
    "  \"should've\": \"should have\",\n",
    "  \"shouldn't\": \"should not\",\n",
    "  \"shouldn't've\": \"should not have\",\n",
    "  \"so've\": \"so have\",\n",
    "  \"so's\": \"so is\",\n",
    "  \"that'd\": \"that would\",\n",
    "  \"that'd've\": \"that would have\",\n",
    "  \"that's\": \"that is\",\n",
    "  \"there'd\": \"there had\",\n",
    "  \"there'd've\": \"there would have\",\n",
    "  \"there's\": \"there is\",\n",
    "  \"they'd\": \"they would\",\n",
    "  \"they'd've\": \"they would have\",\n",
    "  \"they'll\": \"they will\",\n",
    "  \"they'll've\": \"they will have\",\n",
    "  \"they're\": \"they are\",\n",
    "  \"they've\": \"they have\",\n",
    "  \"to've\": \"to have\",\n",
    "  \"wasn't\": \"was not\",\n",
    "  \"we'd\": \"we had\",\n",
    "  \"we'd've\": \"we would have\",\n",
    "  \"we'll\": \"we will\",\n",
    "  \"we'll've\": \"we will have\",\n",
    "  \"we're\": \"we are\",\n",
    "  \"we've\": \"we have\",\n",
    "  \"weren't\": \"were not\",\n",
    "  \"what'll\": \"what will\",\n",
    "  \"what'll've\": \"what will have\",\n",
    "  \"what're\": \"what are\",\n",
    "  \"what's\": \"what is\",\n",
    "  \"what've\": \"what have\",\n",
    "  \"when's\": \"when is\",\n",
    "  \"when've\": \"when have\",\n",
    "  \"where'd\": \"where did\",\n",
    "  \"where's\": \"where is\",\n",
    "  \"where've\": \"where have\",\n",
    "  \"who'll\": \"who will\",\n",
    "  \"who'll've\": \"who will have\",\n",
    "  \"who's\": \"who is\",\n",
    "  \"who've\": \"who have\",\n",
    "  \"why's\": \"why is\",\n",
    "  \"why've\": \"why have\",\n",
    "  \"will've\": \"will have\",\n",
    "  \"won't\": \"will not\",\n",
    "  \"won't've\": \"will not have\",\n",
    "  \"would've\": \"would have\",\n",
    "  \"wouldn't\": \"would not\",\n",
    "  \"wouldn't've\": \"would not have\",\n",
    "  \"y'all\": \"you all\",\n",
    "  \"y'alls\": \"you alls\",\n",
    "  \"y'all'd\": \"you all would\",\n",
    "  \"y'all'd've\": \"you all would have\",\n",
    "  \"y'all're\": \"you all are\",\n",
    "  \"y'all've\": \"you all have\",\n",
    "  \"you'd\": \"you had\",\n",
    "  \"you'd've\": \"you would have\",\n",
    "  \"you'll\": \"you you will\",\n",
    "  \"you'll've\": \"you you will have\",\n",
    "  \"you're\": \"you are\",\n",
    "  \"you've\": \"you have\"\n",
    "}\n",
    "\n",
    "c_re = re.compile('(%s)' % '|'.join(cList.keys()))\n",
    "\n",
    "def expandContractions(text, c_re=c_re):\n",
    "    def replace(match):\n",
    "        return cList[match.group(0)]\n",
    "    return c_re.sub(replace, text)"
   ]
  },
  {
   "cell_type": "markdown",
   "metadata": {},
   "source": [
    "## Cleaning Text - removing stopwords, excess spaces, punctuations, special characters, removing httml tags & email IDs."
   ]
  },
  {
   "cell_type": "code",
   "execution_count": 7,
   "metadata": {},
   "outputs": [],
   "source": [
    "REPLACE_BY_SPACE_RE = re.compile('[/(){}\\[\\]\\|@,?#]')\n",
    "def clean_text(text):\n",
    "    text = text.lower()\n",
    "    text = text.strip()\n",
    "    text = text.lstrip()   \n",
    "    text = text.rstrip()\n",
    "    text = expandContractions(text)\n",
    "    text = REPLACE_BY_SPACE_RE.sub(' ', text)\n",
    "    text = re.sub('[^a-zA-Z ]',\" \",text)\n",
    "    text = re.sub(\"'ll\",\" \",text)\n",
    "    text = re.sub(r\"https?://(?:[-\\w.]|(?:%[\\da-fA-F]{2}))+\",\" \",text)\n",
    "    text = re.sub(r\"\\$\\d+\", \" \",text)\n",
    "    text = re.sub(r'[\\w\\.-]+@[\\w\\.-]+', \" \",text)\n",
    "    text = re.sub(r'\\b(me|her|him|us|them|there|that)\\b', \" \",text)  \n",
    "    return text"
   ]
  },
  {
   "cell_type": "code",
   "execution_count": 8,
   "metadata": {},
   "outputs": [],
   "source": [
    "df_train['content'] = df_train['content'].astype(str).apply(clean_text)\n",
    "df_test['content'] = df_test['content'].astype(str).apply(clean_text)"
   ]
  },
  {
   "cell_type": "markdown",
   "metadata": {},
   "source": [
    "# Step 2 : Transforming the text with TF-IDF and related techniques for modelling\n"
   ]
  },
  {
   "cell_type": "markdown",
   "metadata": {},
   "source": [
    "### Lemmatizing the text, lemmatization drills down the words into their root form for better processing"
   ]
  },
  {
   "cell_type": "code",
   "execution_count": 26,
   "metadata": {},
   "outputs": [],
   "source": [
    "lemmatizer = WordNetLemmatizer()\n",
    "\n",
    "def tokenizer(text):\n",
    "    return [lemmatizer.lemmatize(word) for word in word_tokenize(text) if len(word)>2 and (word not in STOPWORDS)]"
   ]
  },
  {
   "cell_type": "code",
   "execution_count": 27,
   "metadata": {},
   "outputs": [],
   "source": [
    "STOPWORDS = set(stopwords.words('english'))"
   ]
  },
  {
   "cell_type": "markdown",
   "metadata": {},
   "source": [
    "### Creating TF-IDF vectors from training set, using parameters obtained from GridSearch"
   ]
  },
  {
   "cell_type": "code",
   "execution_count": 28,
   "metadata": {},
   "outputs": [
    {
     "name": "stderr",
     "output_type": "stream",
     "text": [
      "C:\\Users\\risha\\Anaconda3\\lib\\site-packages\\sklearn\\feature_extraction\\text.py:300: UserWarning: Your stop_words may be inconsistent with your preprocessing. Tokenizing the stop words generated tokens [\"'ll\", \"'re\", \"'ve\", 'could', 'might', 'must', \"n't\", 'need', 'sha', 'would'] not in stop_words.\n",
      "  'stop_words.' % sorted(inconsistent))\n"
     ]
    }
   ],
   "source": [
    "from sklearn.feature_extraction.text import TfidfVectorizer\n",
    "tfidf_vec = TfidfVectorizer(min_df=0.01,tokenizer=tokenizer,stop_words=STOPWORDS,max_df=0.5,ngram_range=(1,2))\n",
    "\n",
    "X_train_tfidf = tfidf_vec.fit_transform(df_train['content'])"
   ]
  },
  {
   "cell_type": "code",
   "execution_count": 29,
   "metadata": {},
   "outputs": [],
   "source": [
    "X_test_tfidf  = tfidf_vec.transform(df_test['content'])"
   ]
  },
  {
   "cell_type": "code",
   "execution_count": 30,
   "metadata": {},
   "outputs": [
    {
     "name": "stdout",
     "output_type": "stream",
     "text": [
      "{'able': 5.42048219503255, 'access': 5.541110182821164, 'account': 5.272846196226485, 'add': 5.144228818404391, 'address': 4.65079493735027, 'also': 4.693812322433961, 'app': 5.567085669224425, 'attached': 5.515792374836875, 'available': 4.65079493735027, 'back': 4.773855030107498, 'best': 5.515792374836875, 'book': 5.398009339180491, 'business': 5.272846196226485, 'call': 3.699340293018448, 'chance': 5.491099762246503, 'change': 5.127134385045092, 'check': 4.956176586901452, 'click': 5.0937979647775, 'com': 4.59950164296272, 'come': 5.0937979647775, 'company': 5.4670022106674425, 'conference': 5.354524227240752, 'contact': 4.928005709934755, 'copy': 5.292648823522665, 'could': 4.27019789582012, 'customer': 5.567085669224425, 'day': 4.504191463158395, 'deal': 5.045788745591139, 'dinner': 5.354524227240752, 'discus': 3.8386958139289598, 'discussion': 5.253428110369383, 'email': 3.829393421266646, 'enron': 5.015017086924385, 'feel': 5.567085669224425, 'find': 5.161620561116261, 'first': 5.376030432461716, 'follow': 5.541110182821164, 'following': 5.4434717132572485, 'forward': 4.352641565031194, 'free': 4.822645194276929, 'friday': 5.179320138215662, 'gas': 5.253428110369383, 'get': 3.1763933087201126, 'getting': 4.8871837154145, 'give': 4.221065207242475, 'give call': 5.33347081804292, 'given': 5.541110182821164, 'going': 4.860866407097127, 'good': 5.376030432461716, 'great': 5.398009339180491, 'group': 5.234379915398689, 'guy': 5.491099762246503, 'help': 4.468473380556316, 'information': 4.773855030107498, 'issue': 4.773855030107498, 'join': 5.11032726672871, 'keep': 5.4434717132572485, 'know': 3.8865518351065944, 'last': 5.161620561116261, 'let': 3.820176766161722, 'let know': 4.45973970058756, 'like': 3.5417113488148653, 'link': 4.000665141874016, 'list': 5.11032726672871, 'look': 4.8871837154145, 'lunch': 5.3128515308401845, 'mail': 4.314322700729058, 'make': 3.8528136954747443, 'make sure': 5.515792374836875, 'may': 4.65079493735027, 'meet': 4.750324532697303, 'meeting': 4.142076795923844, 'message': 4.956176586901452, 'might': 5.253428110369383, 'minute': 5.253428110369383, 'monday': 4.822645194276929, 'need': 3.99518567610939, 'new': 4.59950164296272, 'next': 4.451081637844446, 'next week': 5.161620561116261, 'night': 5.354524227240752, 'note': 5.515792374836875, 'number': 4.985164123774704, 'offer': 5.541110182821164, 'one': 4.640323637482975, 'phone': 5.42048219503255, 'plan': 5.253428110369383, 'please': 2.6767139113282603, 'please send': 5.567085669224425, 'please visit': 5.515792374836875, 'point': 5.515792374836875, 'possible': 5.061537102559278, 'power': 5.541110182821164, 'provide': 5.541110182821164, 'question': 4.716035459218672, 'receive': 4.928005709934755, 'review': 5.161620561116261, 'right': 5.045788745591139, 'schedule': 5.07753744390572, 'see': 4.5699428407211755, 'send': 4.214239242172075, 'service': 5.215687782386537, 'set': 5.253428110369383, 'share': 5.398009339180491, 'still': 5.491099762246503, 'support': 5.376030432461716, 'sure': 4.956176586901452, 'take': 4.716035459218672, 'talk': 5.0937979647775, 'team': 5.515792374836875, 'tell': 5.541110182821164, 'thing': 5.215687782386537, 'think': 4.640323637482975, 'thursday': 5.292648823522665, 'time': 4.174233907558376, 'today': 4.738763710296228, 'together': 4.91421238780242, 'tomorrow': 4.425548335839282, 'try': 4.970565324353552, 'two': 5.491099762246503, 'update': 5.4434717132572485, 'use': 4.970565324353552, 'visit': 4.999979209559845, 'want': 3.6062498699524363, 'way': 5.541110182821164, 'wednesday': 5.541110182821164, 'week': 4.051380234453032, 'well': 5.567085669224425, 'work': 4.822645194276929, 'would': 3.4208466466210736, 'would like': 4.299397050512381, 'year': 5.376030432461716}\n"
     ]
    }
   ],
   "source": [
    "print(dict(zip(tfidf_vec.get_feature_names(), tfidf_vec.idf_)))"
   ]
  },
  {
   "cell_type": "code",
   "execution_count": 31,
   "metadata": {},
   "outputs": [
    {
     "name": "stdout",
     "output_type": "stream",
     "text": [
      "Train Shape :  (3657, 132)\n",
      "Test Shape  :  (992, 132)\n"
     ]
    }
   ],
   "source": [
    "print(\"Train Shape : \",X_train_tfidf.shape)\n",
    "print(\"Test Shape  : \",X_test_tfidf.shape)"
   ]
  },
  {
   "cell_type": "code",
   "execution_count": 32,
   "metadata": {},
   "outputs": [],
   "source": [
    "train_pred=df_train[\"pred\"]\n",
    "test_pred=df_test[\"pred\"]"
   ]
  },
  {
   "cell_type": "markdown",
   "metadata": {},
   "source": [
    "# Step 3 :  Splitting training set into 90% train & 10% Validation sets"
   ]
  },
  {
   "cell_type": "code",
   "execution_count": 33,
   "metadata": {},
   "outputs": [],
   "source": [
    "from sklearn.model_selection import train_test_split"
   ]
  },
  {
   "cell_type": "code",
   "execution_count": 34,
   "metadata": {},
   "outputs": [],
   "source": [
    "X_train,X_val,Y_train,Y_val=train_test_split(X_train_tfidf,train_pred,test_size=.10,random_state=40)"
   ]
  },
  {
   "cell_type": "code",
   "execution_count": 35,
   "metadata": {},
   "outputs": [],
   "source": [
    "Y_train=Y_train.map({\"No\":0,\"Yes\":1})\n",
    "Y_val=Y_val.map({\"No\":0,\"Yes\":1})"
   ]
  },
  {
   "cell_type": "markdown",
   "metadata": {},
   "source": [
    "# Step 4 : Building RFC Model with tuned parameters"
   ]
  },
  {
   "cell_type": "markdown",
   "metadata": {},
   "source": [
    "### Using Tuned Random Forests Parameters obtained after GridSearch"
   ]
  },
  {
   "cell_type": "code",
   "execution_count": 36,
   "metadata": {},
   "outputs": [],
   "source": [
    "rfc = RandomForestClassifier(n_estimators=500, random_state=111,n_jobs=-1,max_depth=10,max_features='sqrt')"
   ]
  },
  {
   "cell_type": "code",
   "execution_count": 37,
   "metadata": {},
   "outputs": [
    {
     "name": "stdout",
     "output_type": "stream",
     "text": [
      "Testing accuracy: 0.7103825136612022\n"
     ]
    }
   ],
   "source": [
    "model=rfc.fit(X_train,Y_train)\n",
    "y_pred = model.predict(X_val)\n",
    "print('Testing accuracy: %s' % accuracy_score(Y_val,y_pred))"
   ]
  },
  {
   "cell_type": "code",
   "execution_count": 38,
   "metadata": {},
   "outputs": [],
   "source": [
    "test_pred=test_pred.map({\"No\":0,\"Yes\":1})"
   ]
  },
  {
   "cell_type": "code",
   "execution_count": 39,
   "metadata": {},
   "outputs": [],
   "source": [
    "tester = pd.DataFrame()"
   ]
  },
  {
   "cell_type": "code",
   "execution_count": 40,
   "metadata": {},
   "outputs": [],
   "source": [
    "tester['RF_Model']=rfc.predict(X_test_tfidf)"
   ]
  },
  {
   "cell_type": "markdown",
   "metadata": {},
   "source": [
    "### Printing Results after parameter tuning, without tuning the test accuracy was 78.06% earlier"
   ]
  },
  {
   "cell_type": "code",
   "execution_count": 41,
   "metadata": {},
   "outputs": [
    {
     "name": "stdout",
     "output_type": "stream",
     "text": [
      "Testing accuracy: 0.7913306451612904\n",
      "Classification Report:\n",
      "              precision    recall  f1-score   support\n",
      "\n",
      "           0       0.89      0.82      0.85       744\n",
      "           1       0.57      0.71      0.63       248\n",
      "\n",
      "   micro avg       0.79      0.79      0.79       992\n",
      "   macro avg       0.73      0.76      0.74       992\n",
      "weighted avg       0.81      0.79      0.80       992\n",
      "\n"
     ]
    }
   ],
   "source": [
    "print('Testing accuracy: %s' % accuracy_score(tester['RF_Model'],test_pred))\n",
    "print('Classification Report:')\n",
    "print(classification_report(tester['RF_Model'],test_pred))"
   ]
  },
  {
   "cell_type": "markdown",
   "metadata": {},
   "source": [
    "# Inference : We can clearly see here, that the parameter tuning with GridSearch has clearly worked out, as test accuracy from 78.06 has gone up to 79.133%"
   ]
  },
  {
   "cell_type": "code",
   "execution_count": null,
   "metadata": {},
   "outputs": [],
   "source": []
  }
 ],
 "metadata": {
  "kernelspec": {
   "display_name": "Python 3",
   "language": "python",
   "name": "python3"
  },
  "language_info": {
   "codemirror_mode": {
    "name": "ipython",
    "version": 3
   },
   "file_extension": ".py",
   "mimetype": "text/x-python",
   "name": "python",
   "nbconvert_exporter": "python",
   "pygments_lexer": "ipython3",
   "version": "3.7.3"
  }
 },
 "nbformat": 4,
 "nbformat_minor": 2
}
