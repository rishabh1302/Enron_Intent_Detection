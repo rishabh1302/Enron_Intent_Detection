{
 "cells": [
  {
   "cell_type": "markdown",
   "metadata": {
    "colab_type": "text",
    "id": "-ExzPI0_-rdl"
   },
   "source": [
    "# Intent Detection - Enron - Binary Text Classification\n"
   ]
  },
  {
   "cell_type": "code",
   "execution_count": 1,
   "metadata": {
    "colab": {},
    "colab_type": "code",
    "id": "QqbyErpA9-2M"
   },
   "outputs": [],
   "source": [
    "import pandas as pd\n",
    "import re\n",
    "from nltk.stem import WordNetLemmatizer\n",
    "from nltk import word_tokenize\n",
    "from nltk.corpus import stopwords\n",
    "from sklearn.model_selection import train_test_split\n",
    "from sklearn.pipeline import Pipeline\n",
    "from sklearn.feature_extraction.text import TfidfVectorizer\n",
    "from sklearn.linear_model import LogisticRegression\n",
    "from sklearn.ensemble import RandomForestClassifier\n",
    "\n",
    "from sklearn.metrics import accuracy_score, f1_score\n",
    "from sklearn.metrics import classification_report"
   ]
  },
  {
   "cell_type": "code",
   "execution_count": 2,
   "metadata": {
    "colab": {},
    "colab_type": "code",
    "id": "XcE_YVhY9-2Y"
   },
   "outputs": [],
   "source": [
    "df_train=pd.read_csv(\"enron_train.txt\",sep=\"\\t\",header=None)\n",
    "df_test=pd.read_csv(\"enron_test.txt\",sep=\"\\t\",header=None)"
   ]
  },
  {
   "cell_type": "code",
   "execution_count": 3,
   "metadata": {
    "colab": {},
    "colab_type": "code",
    "id": "nHbsVyq79-2f"
   },
   "outputs": [],
   "source": [
    "df_train.columns=[\"pred\",\"content\"]\n",
    "df_test.columns=[\"pred\",\"content\"]"
   ]
  },
  {
   "cell_type": "code",
   "execution_count": 4,
   "metadata": {
    "colab": {
     "base_uri": "https://localhost:8080/",
     "height": 68
    },
    "colab_type": "code",
    "id": "9-CjYJVR9-2m",
    "outputId": "b5ea9fad-32a1-483e-c954-622358dada70"
   },
   "outputs": [
    {
     "data": {
      "text/plain": [
       "No     1938\n",
       "Yes    1719\n",
       "Name: pred, dtype: int64"
      ]
     },
     "execution_count": 4,
     "metadata": {},
     "output_type": "execute_result"
    }
   ],
   "source": [
    "df_train['pred'].value_counts()"
   ]
  },
  {
   "cell_type": "code",
   "execution_count": 5,
   "metadata": {
    "colab": {
     "base_uri": "https://localhost:8080/",
     "height": 68
    },
    "colab_type": "code",
    "id": "wxk_1Bvo9-2w",
    "outputId": "fd12c272-ab40-47b5-f47d-4043ce875fce"
   },
   "outputs": [
    {
     "data": {
      "text/plain": [
       "No     683\n",
       "Yes    309\n",
       "Name: pred, dtype: int64"
      ]
     },
     "execution_count": 5,
     "metadata": {},
     "output_type": "execute_result"
    }
   ],
   "source": [
    "df_test['pred'].value_counts()"
   ]
  },
  {
   "cell_type": "markdown",
   "metadata": {},
   "source": [
    "# Step 1 : Data Preprocessing - Expanding contractions & data cleaning"
   ]
  },
  {
   "cell_type": "code",
   "execution_count": 6,
   "metadata": {
    "colab": {},
    "colab_type": "code",
    "id": "X7mYdt_n9-23"
   },
   "outputs": [],
   "source": [
    "cList = {\n",
    "  \"ain't\": \"am not\",\n",
    "  \"aren't\": \"are not\",\n",
    "  \"can't\": \"cannot\",\n",
    "  \"can't've\": \"cannot have\",\n",
    "  \"'cause\": \"because\",\n",
    "  \"could've\": \"could have\",\n",
    "  \"couldn't\": \"could not\",\n",
    "  \"couldn't've\": \"could not have\",\n",
    "  \"didn't\": \"did not\",\n",
    "  \"doesn't\": \"does not\",\n",
    "  \"don't\": \"do not\",\n",
    "  \"hadn't\": \"had not\",\n",
    "  \"hadn't've\": \"had not have\",\n",
    "  \"hasn't\": \"has not\",\n",
    "  \"haven't\": \"have not\",\n",
    "  \"he'd\": \"he would\",\n",
    "  \"he'd've\": \"he would have\",\n",
    "  \"he'll\": \"he will\",\n",
    "  \"he'll've\": \"he will have\",\n",
    "  \"he's\": \"he is\",\n",
    "  \"how'd\": \"how did\",\n",
    "  \"how'd'y\": \"how do you\",\n",
    "  \"how'll\": \"how will\",\n",
    "  \"how's\": \"how is\",\n",
    "  \"I'd\": \"I would\",\n",
    "  \"I'd've\": \"I would have\",\n",
    "  \"I'll\": \"I will\",\n",
    "  \"I'll've\": \"I will have\",\n",
    "  \"I'm\": \"I am\",\n",
    "  \"I've\": \"I have\",\n",
    "  \"isn't\": \"is not\",\n",
    "  \"it'd\": \"it had\",\n",
    "  \"it'd've\": \"it would have\",\n",
    "  \"it'll\": \"it will\",\n",
    "  \"it'll've\": \"it will have\",\n",
    "  \"it's\": \"it is\",\n",
    "  \"let's\": \"let us\",\n",
    "  \"ma'am\": \"madam\",\n",
    "  \"mayn't\": \"may not\",\n",
    "  \"might've\": \"might have\",\n",
    "  \"mightn't\": \"might not\",\n",
    "  \"mightn't've\": \"might not have\",\n",
    "  \"must've\": \"must have\",\n",
    "  \"mustn't\": \"must not\",\n",
    "  \"mustn't've\": \"must not have\",\n",
    "  \"needn't\": \"need not\",\n",
    "  \"needn't've\": \"need not have\",\n",
    "  \"o'clock\": \"of the clock\",\n",
    "  \"oughtn't\": \"ought not\",\n",
    "  \"oughtn't've\": \"ought not have\",\n",
    "  \"shan't\": \"shall not\",\n",
    "  \"sha'n't\": \"shall not\",\n",
    "  \"shan't've\": \"shall not have\",\n",
    "  \"she'd\": \"she would\",\n",
    "  \"she'd've\": \"she would have\",\n",
    "  \"she'll\": \"she will\",\n",
    "  \"she'll've\": \"she will have\",\n",
    "  \"she's\": \"she is\",\n",
    "  \"should've\": \"should have\",\n",
    "  \"shouldn't\": \"should not\",\n",
    "  \"shouldn't've\": \"should not have\",\n",
    "  \"so've\": \"so have\",\n",
    "  \"so's\": \"so is\",\n",
    "  \"that'd\": \"that would\",\n",
    "  \"that'd've\": \"that would have\",\n",
    "  \"that's\": \"that is\",\n",
    "  \"there'd\": \"there had\",\n",
    "  \"there'd've\": \"there would have\",\n",
    "  \"there's\": \"there is\",\n",
    "  \"they'd\": \"they would\",\n",
    "  \"they'd've\": \"they would have\",\n",
    "  \"they'll\": \"they will\",\n",
    "  \"they'll've\": \"they will have\",\n",
    "  \"they're\": \"they are\",\n",
    "  \"they've\": \"they have\",\n",
    "  \"to've\": \"to have\",\n",
    "  \"wasn't\": \"was not\",\n",
    "  \"we'd\": \"we had\",\n",
    "  \"we'd've\": \"we would have\",\n",
    "  \"we'll\": \"we will\",\n",
    "  \"we'll've\": \"we will have\",\n",
    "  \"we're\": \"we are\",\n",
    "  \"we've\": \"we have\",\n",
    "  \"weren't\": \"were not\",\n",
    "  \"what'll\": \"what will\",\n",
    "  \"what'll've\": \"what will have\",\n",
    "  \"what're\": \"what are\",\n",
    "  \"what's\": \"what is\",\n",
    "  \"what've\": \"what have\",\n",
    "  \"when's\": \"when is\",\n",
    "  \"when've\": \"when have\",\n",
    "  \"where'd\": \"where did\",\n",
    "  \"where's\": \"where is\",\n",
    "  \"where've\": \"where have\",\n",
    "  \"who'll\": \"who will\",\n",
    "  \"who'll've\": \"who will have\",\n",
    "  \"who's\": \"who is\",\n",
    "  \"who've\": \"who have\",\n",
    "  \"why's\": \"why is\",\n",
    "  \"why've\": \"why have\",\n",
    "  \"will've\": \"will have\",\n",
    "  \"won't\": \"will not\",\n",
    "  \"won't've\": \"will not have\",\n",
    "  \"would've\": \"would have\",\n",
    "  \"wouldn't\": \"would not\",\n",
    "  \"wouldn't've\": \"would not have\",\n",
    "  \"y'all\": \"you all\",\n",
    "  \"y'alls\": \"you alls\",\n",
    "  \"y'all'd\": \"you all would\",\n",
    "  \"y'all'd've\": \"you all would have\",\n",
    "  \"y'all're\": \"you all are\",\n",
    "  \"y'all've\": \"you all have\",\n",
    "  \"you'd\": \"you had\",\n",
    "  \"you'd've\": \"you would have\",\n",
    "  \"you'll\": \"you you will\",\n",
    "  \"you'll've\": \"you you will have\",\n",
    "  \"you're\": \"you are\",\n",
    "  \"you've\": \"you have\"\n",
    "}\n",
    "\n",
    "c_re = re.compile('(%s)' % '|'.join(cList.keys()))\n",
    "\n",
    "def expandContractions(text, c_re=c_re):\n",
    "    def replace(match):\n",
    "        return cList[match.group(0)]\n",
    "    return c_re.sub(replace, text)"
   ]
  },
  {
   "cell_type": "code",
   "execution_count": 7,
   "metadata": {},
   "outputs": [],
   "source": [
    "REPLACE_BY_SPACE_RE = re.compile('[/(){}\\[\\]\\|@,?#]')\n",
    "def clean_text(text):\n",
    "    text = text.lower()\n",
    "    text = text.strip()\n",
    "    text = text.lstrip()   \n",
    "    text = text.rstrip()\n",
    "    text = expandContractions(text)\n",
    "    text = REPLACE_BY_SPACE_RE.sub(' ', text)\n",
    "    text = re.sub(r\"https?://(?:[-\\w.]|(?:%[\\da-fA-F]{2}))+\",\" \",text)\n",
    "    text = re.sub(r\"\\$\\d+\", \" \",text)\n",
    "    text = re.sub(r'[\\w\\.-]+@[\\w\\.-]+', \" \",text)\n",
    "    text = re.sub(r'\\b(me|her|him|us|them|there|that)\\b', \" \",text)  \n",
    "    return text"
   ]
  },
  {
   "cell_type": "code",
   "execution_count": 8,
   "metadata": {
    "colab": {},
    "colab_type": "code",
    "id": "f9kUt0BJ9-3B"
   },
   "outputs": [
    {
     "data": {
      "text/plain": [
       "'REPLACE_BY_SPACE_RE = re.compile(\\'[/(){}\\\\[\\\\]\\\\|@,?#]\\')\\ndef clean_text(text):\\n    text = text.lower()\\n    text = text.strip()\\n    text = text.lstrip()   \\n    text = text.rstrip()\\n    text = expandContractions(text)\\n    text = REPLACE_BY_SPACE_RE.sub(\\' \\', text)\\n    text = re.sub(r\"https?://(?:[-\\\\w.]|(?:%[\\\\da-fA-F]{2}))+\",\"$WEBLINKS\",text)\\n    text = re.sub(r\"\\\\$\\\\d+\", \"$CASH\",text)\\n    text = re.sub(r\\'[\\\\w\\\\.-]+@[\\\\w\\\\.-]+\\', \"$EMAIL\",text)\\n    text = re.sub(r\\'\\x08(me|her|him|us|them|there|that)\\x08\\', \"$NOUN\",text)  \\n    return text\\n\\n'"
      ]
     },
     "execution_count": 8,
     "metadata": {},
     "output_type": "execute_result"
    }
   ],
   "source": [
    "'''REPLACE_BY_SPACE_RE = re.compile('[/(){}\\[\\]\\|@,?#]')\n",
    "def clean_text(text):\n",
    "    text = text.lower()\n",
    "    text = text.strip()\n",
    "    text = text.lstrip()   \n",
    "    text = text.rstrip()\n",
    "    text = expandContractions(text)\n",
    "    text = REPLACE_BY_SPACE_RE.sub(' ', text)\n",
    "    text = re.sub(r\"https?://(?:[-\\w.]|(?:%[\\da-fA-F]{2}))+\",\"$WEBLINKS\",text)\n",
    "    text = re.sub(r\"\\$\\d+\", \"$CASH\",text)\n",
    "    text = re.sub(r'[\\w\\.-]+@[\\w\\.-]+', \"$EMAIL\",text)\n",
    "    text = re.sub(r'\\b(me|her|him|us|them|there|that)\\b', \"$NOUN\",text)  \n",
    "    return text\n",
    "\n",
    "'''"
   ]
  },
  {
   "cell_type": "code",
   "execution_count": 9,
   "metadata": {
    "colab": {},
    "colab_type": "code",
    "id": "2ZxZFlUo9-3H"
   },
   "outputs": [],
   "source": [
    "df_train['content'] = df_train['content'].astype(str).apply(clean_text)\n",
    "df_test['content'] = df_test['content'].astype(str).apply(clean_text)"
   ]
  },
  {
   "cell_type": "code",
   "execution_count": 10,
   "metadata": {
    "colab": {},
    "colab_type": "code",
    "id": "kWTJmeC89-3N"
   },
   "outputs": [],
   "source": [
    "df_train.to_excel('train_analyze.xlsx')\n",
    "df_test.to_excel('test_analyze.xlsx')"
   ]
  },
  {
   "cell_type": "code",
   "execution_count": 11,
   "metadata": {},
   "outputs": [],
   "source": [
    "STOPWORDS = set(stopwords.words('english'))"
   ]
  },
  {
   "cell_type": "code",
   "execution_count": 12,
   "metadata": {
    "colab": {},
    "colab_type": "code",
    "id": "dUuJo8Hv9-3R"
   },
   "outputs": [],
   "source": [
    "lemmatizer = WordNetLemmatizer()\n",
    "\n",
    "def tokenizer(text):\n",
    "    return [lemmatizer.lemmatize(word) for word in word_tokenize(text) if len(word)>2 and (word not in STOPWORDS)]"
   ]
  },
  {
   "cell_type": "markdown",
   "metadata": {},
   "source": [
    "# Create TF-IDF Vectors"
   ]
  },
  {
   "cell_type": "code",
   "execution_count": 13,
   "metadata": {
    "colab": {},
    "colab_type": "code",
    "id": "0x5tnzjH9-3U"
   },
   "outputs": [
    {
     "name": "stderr",
     "output_type": "stream",
     "text": [
      "C:\\Users\\risha\\Anaconda3\\lib\\site-packages\\sklearn\\feature_extraction\\text.py:300: UserWarning: Your stop_words may be inconsistent with your preprocessing. Tokenizing the stop words generated tokens [\"'ll\", \"'re\", \"'ve\", 'could', 'might', 'must', \"n't\", 'need', 'sha', 'would'] not in stop_words.\n",
      "  'stop_words.' % sorted(inconsistent))\n"
     ]
    }
   ],
   "source": [
    "from sklearn.feature_extraction.text import TfidfVectorizer\n",
    "tfidf_vec = TfidfVectorizer(min_df=0.01,tokenizer=tokenizer,stop_words=STOPWORDS)\n",
    "\n",
    "X_train_tfidf = tfidf_vec.fit_transform(df_train['content'])"
   ]
  },
  {
   "cell_type": "code",
   "execution_count": 14,
   "metadata": {},
   "outputs": [
    {
     "name": "stdout",
     "output_type": "stream",
     "text": [
      "{\"'ll\": 5.07753744390572, '...': 5.127134385045092, 'able': 5.42048219503255, 'access': 5.541110182821164, 'account': 5.292648823522665, 'add': 5.144228818404391, 'address': 4.661377046680807, 'also': 4.693812322433961, 'app': 5.567085669224425, 'attached': 5.515792374836875, 'available': 4.65079493735027, 'back': 4.773855030107498, 'best': 5.541110182821164, 'book': 5.398009339180491, 'business': 5.292648823522665, 'call': 3.7240329056088197, 'chance': 5.491099762246503, 'change': 5.127134385045092, 'check': 4.970565324353552, 'click': 5.11032726672871, 'come': 5.0937979647775, 'company': 5.4670022106674425, 'conference': 5.354524227240752, 'contact': 4.941991951909495, 'copy': 5.292648823522665, 'could': 4.27019789582012, 'customer': 5.567085669224425, 'day': 4.531842994488905, 'deal': 5.045788745591139, 'dinner': 5.354524227240752, 'discus': 3.8386958139289598, 'discussion': 5.253428110369383, 'e-mail': 4.941991951909495, 'email': 3.8480855542787986, 'enron': 5.07753744390572, 'feel': 5.567085669224425, 'find': 5.161620561116261, 'first': 5.376030432461716, 'following': 5.4434717132572485, 'forward': 4.352641565031194, 'free': 4.87393848866448, 'friday': 5.179320138215662, 'gas': 5.272846196226485, 'get': 3.181224235989778, 'getting': 4.8871837154145, 'give': 4.221065207242475, 'given': 5.541110182821164, 'going': 4.87393848866448, 'good': 5.398009339180491, 'great': 5.398009339180491, 'group': 5.234379915398689, 'guy': 5.491099762246503, 'help': 4.468473380556316, 'information': 4.785831221154213, 'issue': 4.773855030107498, 'join': 5.11032726672871, 'keep': 5.4434717132572485, 'know': 3.8865518351065944, 'last': 5.179320138215662, 'let': 3.820176766161722, 'like': 3.5417113488148653, 'link': 4.000665141874016, 'list': 5.11032726672871, 'look': 4.8871837154145, 'lunch': 5.3128515308401845, 'mail': 5.11032726672871, 'make': 3.8575642982333425, 'may': 4.661377046680807, 'meet': 4.750324532697303, 'meeting': 4.148426023602503, 'message': 4.956176586901452, 'might': 5.253428110369383, 'minute': 5.3128515308401845, 'monday': 4.822645194276929, 'need': 3.99518567610939, 'new': 4.59950164296272, 'next': 4.451081637844446, 'night': 5.354524227240752, 'note': 5.515792374836875, 'number': 4.985164123774704, 'offer': 5.541110182821164, 'one': 4.682883251901771, 'phone': 5.42048219503255, 'plan': 5.253428110369383, 'please': 2.6767139113282603, 'point': 5.515792374836875, 'possible': 5.061537102559278, 'power': 5.541110182821164, 'provide': 5.541110182821164, 'question': 4.716035459218672, 'receive': 4.928005709934755, 'review': 5.161620561116261, 'right': 5.061537102559278, 'schedule': 5.11032726672871, 'see': 4.5699428407211755, 'send': 4.221065207242475, 'service': 5.215687782386537, 'set': 5.272846196226485, 'share': 5.398009339180491, 'still': 5.491099762246503, 'support': 5.376030432461716, 'sure': 4.956176586901452, 'take': 4.716035459218672, 'talk': 5.0937979647775, 'team': 5.541110182821164, 'tell': 5.567085669224425, 'thing': 5.234379915398689, 'think': 4.640323637482975, 'thursday': 5.292648823522665, 'time': 4.180791308104535, 'today': 4.750324532697303, 'together': 4.941991951909495, 'tomorrow': 4.425548335839282, 'try': 4.985164123774704, 'two': 5.491099762246503, 'update': 5.4670022106674425, 'use': 4.970565324353552, 'visit': 4.999979209559845, 'want': 3.6062498699524363, 'way': 5.567085669224425, 'wednesday': 5.567085669224425, 'week': 4.057177352137358, 'work': 4.822645194276929, 'would': 3.4208466466210736, 'year': 5.4670022106674425}\n"
     ]
    }
   ],
   "source": [
    "print(dict(zip(tfidf_vec.get_feature_names(), tfidf_vec.idf_)))"
   ]
  },
  {
   "cell_type": "code",
   "execution_count": 15,
   "metadata": {},
   "outputs": [],
   "source": [
    "X_test_tfidf  = tfidf_vec.transform(df_test['content'])"
   ]
  },
  {
   "cell_type": "code",
   "execution_count": 16,
   "metadata": {
    "colab": {
     "base_uri": "https://localhost:8080/",
     "height": 51
    },
    "colab_type": "code",
    "id": "rGHkx0bD9-3Z",
    "outputId": "1701ee91-b9d1-4fe0-e8ef-ff66874117bd"
   },
   "outputs": [
    {
     "name": "stdout",
     "output_type": "stream",
     "text": [
      "Train Shape :  (3657, 125)\n",
      "Test Shape  :  (992, 125)\n"
     ]
    }
   ],
   "source": [
    "print(\"Train Shape : \",X_train_tfidf.shape)\n",
    "print(\"Test Shape  : \",X_test_tfidf.shape)"
   ]
  },
  {
   "cell_type": "code",
   "execution_count": 17,
   "metadata": {
    "colab": {},
    "colab_type": "code",
    "id": "f9ZJGQhT9-3d"
   },
   "outputs": [],
   "source": [
    "train_pred=df_train[\"pred\"]\n",
    "test_pred=df_test[\"pred\"]"
   ]
  },
  {
   "cell_type": "markdown",
   "metadata": {
    "colab_type": "text",
    "id": "Ay9Ck4Vh9-3h"
   },
   "source": [
    "# Splitting Original Training Set into 80% Train & 20% Validation"
   ]
  },
  {
   "cell_type": "code",
   "execution_count": 18,
   "metadata": {
    "colab": {},
    "colab_type": "code",
    "id": "DE2GScaD9-3i"
   },
   "outputs": [],
   "source": [
    "from sklearn.model_selection import train_test_split"
   ]
  },
  {
   "cell_type": "code",
   "execution_count": 19,
   "metadata": {
    "colab": {},
    "colab_type": "code",
    "id": "R9j5roeA9-3l"
   },
   "outputs": [],
   "source": [
    "X_train,X_val,Y_train,Y_val=train_test_split(X_train_tfidf,train_pred,test_size=.20,random_state=40)"
   ]
  },
  {
   "cell_type": "markdown",
   "metadata": {
    "colab_type": "text",
    "id": "1BISPTQS9-3q"
   },
   "source": [
    "# Changing predictor values into numerics"
   ]
  },
  {
   "cell_type": "code",
   "execution_count": 20,
   "metadata": {
    "colab": {},
    "colab_type": "code",
    "id": "cOemjP959-3r"
   },
   "outputs": [],
   "source": [
    "Y_train=Y_train.map({\"No\":0,\"Yes\":1})\n",
    "Y_val=Y_val.map({\"No\":0,\"Yes\":1})"
   ]
  },
  {
   "cell_type": "markdown",
   "metadata": {
    "colab_type": "text",
    "id": "WsuDGHEq9-3v"
   },
   "source": [
    "# Checking Validation Accuracy with various classifiers"
   ]
  },
  {
   "cell_type": "code",
   "execution_count": 21,
   "metadata": {
    "colab": {},
    "colab_type": "code",
    "id": "SaZ_3KQf9-3w"
   },
   "outputs": [],
   "source": [
    "from sklearn.linear_model import LogisticRegression\n",
    "from sklearn.svm import SVC\n",
    "from sklearn.naive_bayes import MultinomialNB\n",
    "from sklearn.neighbors import KNeighborsClassifier \n",
    "from sklearn.ensemble import RandomForestClassifier\n",
    "from lightgbm import LGBMClassifier\n"
   ]
  },
  {
   "cell_type": "code",
   "execution_count": 22,
   "metadata": {
    "colab": {},
    "colab_type": "code",
    "id": "Cvmji2F49-31"
   },
   "outputs": [],
   "source": [
    "svc = SVC(kernel='rbf', gamma=\"scale\")\n",
    "knc = KNeighborsClassifier(n_neighbors=49)\n",
    "mnb = MultinomialNB(alpha=0.2)\n",
    "lrc = LogisticRegression(solver='liblinear', penalty='l2',C=10.)\n",
    "rfc = RandomForestClassifier(n_estimators=500, random_state=111,n_jobs=-1,max_depth=10,max_features='sqrt')\n",
    "lgbm = LGBMClassifier(n_estimators=200,learning_rate=0.3,max_depth=8,max_features=\"sqrt\",n_jobs=-1,verbosity=1)"
   ]
  },
  {
   "cell_type": "code",
   "execution_count": 23,
   "metadata": {
    "colab": {},
    "colab_type": "code",
    "id": "xTB_MTS99-34"
   },
   "outputs": [],
   "source": [
    "clfs = {'SVC' : svc,'KN' : knc, 'NB': mnb, 'LR': lrc, 'RF': rfc,'LGBM':lgbm}"
   ]
  },
  {
   "cell_type": "markdown",
   "metadata": {},
   "source": [
    "## Writing some standard functions to run all classifiers easily"
   ]
  },
  {
   "cell_type": "code",
   "execution_count": 24,
   "metadata": {
    "colab": {},
    "colab_type": "code",
    "id": "90xnl8ja9-38"
   },
   "outputs": [],
   "source": [
    "def train(clf, features, targets):    \n",
    "    clf.fit(features, targets)\n",
    "\n",
    "def predict(clf, features):\n",
    "    return (clf.predict(features))"
   ]
  },
  {
   "cell_type": "code",
   "execution_count": 25,
   "metadata": {
    "colab": {},
    "colab_type": "code",
    "id": "_6IwXOFH9-3_"
   },
   "outputs": [],
   "source": [
    "pred_scores_word_vectors = []\n",
    "for k,v in clfs.items():\n",
    "    train(v, X_train, Y_train)\n",
    "    pred = predict(v, X_val)\n",
    "    pred_scores_word_vectors.append((k, [accuracy_score(Y_val,pred)]))"
   ]
  },
  {
   "cell_type": "markdown",
   "metadata": {},
   "source": [
    "## Let's check the validation accuracy scores"
   ]
  },
  {
   "cell_type": "code",
   "execution_count": 26,
   "metadata": {
    "colab": {
     "base_uri": "https://localhost:8080/",
     "height": 80
    },
    "colab_type": "code",
    "id": "1Q2oQZzt9-4D",
    "outputId": "5f651f7a-b48c-4fd1-c266-f0f1cfab1c8b"
   },
   "outputs": [
    {
     "name": "stderr",
     "output_type": "stream",
     "text": [
      "C:\\Users\\risha\\Anaconda3\\lib\\site-packages\\ipykernel_launcher.py:1: FutureWarning: from_items is deprecated. Please use DataFrame.from_dict(dict(items), ...) instead. DataFrame.from_dict(OrderedDict(items)) may be used to preserve the key order.\n",
      "  \"\"\"Entry point for launching an IPython kernel.\n"
     ]
    },
    {
     "data": {
      "text/html": [
       "<div>\n",
       "<style scoped>\n",
       "    .dataframe tbody tr th:only-of-type {\n",
       "        vertical-align: middle;\n",
       "    }\n",
       "\n",
       "    .dataframe tbody tr th {\n",
       "        vertical-align: top;\n",
       "    }\n",
       "\n",
       "    .dataframe thead th {\n",
       "        text-align: right;\n",
       "    }\n",
       "</style>\n",
       "<table border=\"1\" class=\"dataframe\">\n",
       "  <thead>\n",
       "    <tr style=\"text-align: right;\">\n",
       "      <th></th>\n",
       "      <th>Score</th>\n",
       "    </tr>\n",
       "  </thead>\n",
       "  <tbody>\n",
       "    <tr>\n",
       "      <th>SVC</th>\n",
       "      <td>0.709016</td>\n",
       "    </tr>\n",
       "    <tr>\n",
       "      <th>KN</th>\n",
       "      <td>0.591530</td>\n",
       "    </tr>\n",
       "    <tr>\n",
       "      <th>NB</th>\n",
       "      <td>0.709016</td>\n",
       "    </tr>\n",
       "    <tr>\n",
       "      <th>LR</th>\n",
       "      <td>0.732240</td>\n",
       "    </tr>\n",
       "    <tr>\n",
       "      <th>RF</th>\n",
       "      <td>0.717213</td>\n",
       "    </tr>\n",
       "    <tr>\n",
       "      <th>LGBM</th>\n",
       "      <td>0.726776</td>\n",
       "    </tr>\n",
       "  </tbody>\n",
       "</table>\n",
       "</div>"
      ],
      "text/plain": [
       "         Score\n",
       "SVC   0.709016\n",
       "KN    0.591530\n",
       "NB    0.709016\n",
       "LR    0.732240\n",
       "RF    0.717213\n",
       "LGBM  0.726776"
      ]
     },
     "execution_count": 26,
     "metadata": {},
     "output_type": "execute_result"
    }
   ],
   "source": [
    "predictions = pd.DataFrame.from_items(pred_scores_word_vectors,orient='index', columns=['Score'])\n",
    "predictions"
   ]
  },
  {
   "cell_type": "code",
   "execution_count": 27,
   "metadata": {
    "colab": {},
    "colab_type": "code",
    "id": "IEKBQeCX9-4H"
   },
   "outputs": [],
   "source": [
    "import matplotlib.pyplot as plt\n",
    "import numpy as np"
   ]
  },
  {
   "cell_type": "code",
   "execution_count": 46,
   "metadata": {
    "colab": {
     "base_uri": "https://localhost:8080/",
     "height": 332
    },
    "colab_type": "code",
    "id": "eeGdwOXp9-4L",
    "outputId": "04e53d74-481a-4142-e807-9877e332ba00"
   },
   "outputs": [
    {
     "data": {
      "image/png": "[encoded data removed]",
      "text/plain": [
       "<Figure size 504x360 with 1 Axes>"
      ]
     },
     "metadata": {
      "needs_background": "light"
     },
     "output_type": "display_data"
    }
   ],
   "source": [
    "predictions.plot(kind='bar', ylim=(0.3,0.9), figsize=(7,5), align='center', colormap=\"Accent\")\n",
    "plt.xticks(np.arange(6), predictions.index)\n",
    "\n",
    "plt.ylabel('Validation Accuracy Score')\n",
    "plt.title('Distribution by Classifier')\n",
    "plt.legend(bbox_to_anchor=(1.05, 1), loc=2, borderaxespad=0.)\n",
    "plt.show()"
   ]
  },
  {
   "cell_type": "markdown",
   "metadata": {
    "colab_type": "text",
    "id": "UI37i3Uu9-4S"
   },
   "source": [
    "## Let's test our models on the test set provided with our various classifiers"
   ]
  },
  {
   "cell_type": "code",
   "execution_count": 29,
   "metadata": {
    "colab": {},
    "colab_type": "code",
    "id": "TEnUs6gq9-4T"
   },
   "outputs": [],
   "source": [
    "test_pred=test_pred.map({\"No\":0,\"Yes\":1})"
   ]
  },
  {
   "cell_type": "code",
   "execution_count": 30,
   "metadata": {
    "colab": {},
    "colab_type": "code",
    "id": "3Os3o27L9-4X"
   },
   "outputs": [],
   "source": [
    "tester = pd.DataFrame()"
   ]
  },
  {
   "cell_type": "code",
   "execution_count": 31,
   "metadata": {
    "colab": {},
    "colab_type": "code",
    "id": "ewhCHuRx9-4a"
   },
   "outputs": [],
   "source": [
    "tester['LR_Model']=lrc.predict(X_test_tfidf)\n",
    "tester['SVC_Model']=svc.predict(X_test_tfidf)\n",
    "tester['RF_Model']=rfc.predict(X_test_tfidf)\n",
    "tester['KNC_Model']=knc.predict(X_test_tfidf)\n",
    "tester['NB_Model']=mnb.predict(X_test_tfidf)\n",
    "tester['LGBM_Model']=lgbm.predict(X_test_tfidf)"
   ]
  },
  {
   "cell_type": "markdown",
   "metadata": {
    "colab_type": "text",
    "id": "LyrtsS529-4e"
   },
   "source": [
    "## Logistic Regression Model"
   ]
  },
  {
   "cell_type": "code",
   "execution_count": 32,
   "metadata": {
    "colab": {
     "base_uri": "https://localhost:8080/",
     "height": 221
    },
    "colab_type": "code",
    "id": "9JyDKOyG9-4e",
    "outputId": "fc099ab7-37c5-4453-9deb-d264c46b5d55"
   },
   "outputs": [
    {
     "name": "stdout",
     "output_type": "stream",
     "text": [
      "Testing accuracy: 0.7590725806451613\n",
      "Classification Report:\n",
      "              precision    recall  f1-score   support\n",
      "\n",
      "           0       0.79      0.85      0.82       632\n",
      "           1       0.70      0.60      0.64       360\n",
      "\n",
      "   micro avg       0.76      0.76      0.76       992\n",
      "   macro avg       0.74      0.72      0.73       992\n",
      "weighted avg       0.75      0.76      0.75       992\n",
      "\n"
     ]
    }
   ],
   "source": [
    "print('Testing accuracy: %s' % accuracy_score(tester['LR_Model'],test_pred))\n",
    "print('Classification Report:')\n",
    "print(classification_report(tester['LR_Model'],test_pred))"
   ]
  },
  {
   "cell_type": "markdown",
   "metadata": {
    "colab_type": "text",
    "id": "5_dRzcaI9-4k"
   },
   "source": [
    "## SVC Model"
   ]
  },
  {
   "cell_type": "code",
   "execution_count": 33,
   "metadata": {
    "colab": {
     "base_uri": "https://localhost:8080/",
     "height": 221
    },
    "colab_type": "code",
    "id": "NmqGOHHp9-4k",
    "outputId": "b2b95222-d922-4faf-f004-5924c7f400d9"
   },
   "outputs": [
    {
     "name": "stdout",
     "output_type": "stream",
     "text": [
      "Testing accuracy: 0.7782258064516129\n",
      "Classification Report:\n",
      "              precision    recall  f1-score   support\n",
      "\n",
      "           0       0.87      0.82      0.84       725\n",
      "           1       0.58      0.67      0.62       267\n",
      "\n",
      "   micro avg       0.78      0.78      0.78       992\n",
      "   macro avg       0.72      0.74      0.73       992\n",
      "weighted avg       0.79      0.78      0.78       992\n",
      "\n"
     ]
    }
   ],
   "source": [
    "print('Testing accuracy: %s' % accuracy_score(tester['SVC_Model'],test_pred))\n",
    "print('Classification Report:')\n",
    "print(classification_report(tester['SVC_Model'],test_pred))"
   ]
  },
  {
   "cell_type": "markdown",
   "metadata": {
    "colab_type": "text",
    "id": "V_0LA5sK9-4o"
   },
   "source": [
    "## Random Forest Model"
   ]
  },
  {
   "cell_type": "code",
   "execution_count": 34,
   "metadata": {
    "colab": {
     "base_uri": "https://localhost:8080/",
     "height": 221
    },
    "colab_type": "code",
    "id": "8TMFIEBq9-4q",
    "outputId": "33fbf589-ece2-4623-881f-7518c3ef27e2"
   },
   "outputs": [
    {
     "name": "stdout",
     "output_type": "stream",
     "text": [
      "Testing accuracy: 0.78125\n",
      "Classification Report:\n",
      "              precision    recall  f1-score   support\n",
      "\n",
      "           0       0.88      0.82      0.85       734\n",
      "           1       0.57      0.68      0.62       258\n",
      "\n",
      "   micro avg       0.78      0.78      0.78       992\n",
      "   macro avg       0.72      0.75      0.73       992\n",
      "weighted avg       0.80      0.78      0.79       992\n",
      "\n"
     ]
    }
   ],
   "source": [
    "print('Testing accuracy: %s' % accuracy_score(tester['RF_Model'],test_pred))\n",
    "print('Classification Report:')\n",
    "print(classification_report(tester['RF_Model'],test_pred))"
   ]
  },
  {
   "cell_type": "markdown",
   "metadata": {},
   "source": [
    "## Checking Feature Importances of RFC"
   ]
  },
  {
   "cell_type": "code",
   "execution_count": 35,
   "metadata": {},
   "outputs": [
    {
     "name": "stdout",
     "output_type": "stream",
     "text": [
      "[(\"'ll\", 0.2345487434412041), ('...', 0.11248564503270332), ('able', 0.079836832365543), ('access', 0.05419545604101607), ('account', 0.040258154960915775), ('add', 0.027968058292912296), ('address', 0.025161782035367446), ('also', 0.02109126521625926), ('app', 0.01987947911997808), ('attached', 0.015346078506743754), ('available', 0.013495699997204427), ('back', 0.012814912053154397), ('best', 0.011027499683140977), ('book', 0.010668182081478465), ('business', 0.009821612727171428), ('call', 0.009743370421086578), ('chance', 0.009450325195400006), ('change', 0.009279206020256354), ('check', 0.009158457108337936), ('click', 0.009004386690409844), ('come', 0.00825739596639436), ('company', 0.008170038024514572), ('conference', 0.008001679004003589), ('contact', 0.007514025063413995), ('copy', 0.0072567236028557155), ('could', 0.006996692222536272), ('customer', 0.006073389746974494), ('day', 0.0060504589758933365), ('deal', 0.006043508404390291), ('dinner', 0.0050753928973880005), ('discus', 0.004837013050403952), ('discussion', 0.004823299537211245), ('e-mail', 0.004487940108345414), ('email', 0.004418836577163219), ('enron', 0.004303308591175108), ('feel', 0.004206673967543406), ('find', 0.003953036574370391), ('first', 0.003916791121039465), ('following', 0.0038018488086139285), ('forward', 0.003569674390983962), ('free', 0.003567727756551399), ('friday', 0.0035333792909364526), ('gas', 0.003501796413063943), ('get', 0.0033351697393576604), ('getting', 0.0033324970045037544), ('give', 0.003193481704802139), ('given', 0.0031842723960542156), ('going', 0.0031664524621355327), ('good', 0.0030949478456100328), ('great', 0.00303624401632798), ('group', 0.002965817244581525), ('guy', 0.002954723419497727), ('help', 0.0028834698269410777), ('information', 0.0027586358275670177), ('issue', 0.0027448227447942294), ('join', 0.002652676829980982), ('keep', 0.0025900372645388343), ('know', 0.0025194916483951358), ('last', 0.0024811763137742274), ('let', 0.002440742806041928), ('like', 0.002419950357770529), ('link', 0.002259465079668523), ('list', 0.0022425335561016575), ('look', 0.002240093562724641), ('lunch', 0.0022275641111861987), ('mail', 0.0022267460919739106), ('make', 0.002192246268298338), ('may', 0.002154235927653659), ('meet', 0.0021536606498731127), ('meeting', 0.0021411336660343153), ('message', 0.00214031037040121), ('might', 0.0020945637318433635), ('minute', 0.002023680437167247), ('monday', 0.001962428348228105), ('need', 0.0019526592426869255), ('new', 0.00191893931045271), ('next', 0.0018944045096720087), ('night', 0.0018365882467785703), ('note', 0.001799517068374229), ('number', 0.0017941257154127773), ('offer', 0.001792827000428868), ('one', 0.0017590832573790725), ('phone', 0.0017258890048906694), ('plan', 0.0017051271651118952), ('please', 0.0016711044127659103), ('point', 0.0016674530947714205), ('possible', 0.0016539345363133981), ('power', 0.001644088880208497), ('provide', 0.00163046577266741), ('question', 0.0016266005161744194), ('receive', 0.0016070568508356217), ('review', 0.0015970473412137707), ('right', 0.0015392243338307003), ('schedule', 0.0015249816423091077), ('see', 0.0014809008265025837), ('send', 0.0014286539426661782), ('service', 0.0013963881175017422), ('set', 0.0012176578647903266), ('share', 0.001215071022326093), ('still', 0.001190698821488547), ('support', 0.0011657719981285695), ('sure', 0.0011619412789287656), ('take', 0.0011315235931205515), ('talk', 0.0011213815876081684), ('team', 0.0010948656180081587), ('tell', 0.0010879762044947129), ('thing', 0.0010685891816492419), ('think', 0.0009727483169977472), ('thursday', 0.0009383802922202499), ('time', 0.0009312696387588318), ('today', 0.0008964246116175006), ('together', 0.0008902649340545443), ('tomorrow', 0.000849413367873903), ('try', 0.0007770983042140517), ('two', 0.0007764401706577295), ('update', 0.0007749360796314948), ('use', 0.0006919402576802468), ('visit', 0.0006655611722320274), ('want', 0.0006579952852718423), ('way', 0.0006256276573512494), ('wednesday', 0.00046447492435274196), ('week', 0.0004613597207908719), ('work', 0.0004571459458670984), ('would', 0.00044180796742837364), ('year', 0.00021552505362916244)]\n"
     ]
    }
   ],
   "source": [
    "print(list((zip(tfidf_vec.get_feature_names(), sorted(rfc.feature_importances_,reverse=True)))))"
   ]
  },
  {
   "cell_type": "markdown",
   "metadata": {
    "colab_type": "text",
    "id": "_uxO2f3E9-4u"
   },
   "source": [
    "## K-Neighbours Classifier"
   ]
  },
  {
   "cell_type": "code",
   "execution_count": 36,
   "metadata": {
    "colab": {
     "base_uri": "https://localhost:8080/",
     "height": 221
    },
    "colab_type": "code",
    "id": "JH1bTvDE9-4u",
    "outputId": "af6bc44e-d4fd-47b4-fb6f-7f7c7492e5b3"
   },
   "outputs": [
    {
     "name": "stdout",
     "output_type": "stream",
     "text": [
      "Testing accuracy: 0.7227822580645161\n",
      "Classification Report:\n",
      "              precision    recall  f1-score   support\n",
      "\n",
      "           0       0.94      0.73      0.82       874\n",
      "           1       0.25      0.64      0.36       118\n",
      "\n",
      "   micro avg       0.72      0.72      0.72       992\n",
      "   macro avg       0.59      0.69      0.59       992\n",
      "weighted avg       0.86      0.72      0.77       992\n",
      "\n"
     ]
    }
   ],
   "source": [
    "print('Testing accuracy: %s' % accuracy_score(tester['KNC_Model'],test_pred))\n",
    "print('Classification Report:')\n",
    "print(classification_report(tester['KNC_Model'],test_pred))"
   ]
  },
  {
   "cell_type": "markdown",
   "metadata": {
    "colab_type": "text",
    "id": "QuJWjK4k9-4y"
   },
   "source": [
    "## Multinomial Naive Bayes Model"
   ]
  },
  {
   "cell_type": "code",
   "execution_count": 37,
   "metadata": {
    "colab": {
     "base_uri": "https://localhost:8080/",
     "height": 221
    },
    "colab_type": "code",
    "id": "o7xG5dmC9-4y",
    "outputId": "fbab8abe-c7a5-411c-a5cc-e77aa793de77"
   },
   "outputs": [
    {
     "name": "stdout",
     "output_type": "stream",
     "text": [
      "Testing accuracy: 0.7338709677419355\n",
      "Classification Report:\n",
      "              precision    recall  f1-score   support\n",
      "\n",
      "           0       0.76      0.84      0.80       617\n",
      "           1       0.68      0.56      0.61       375\n",
      "\n",
      "   micro avg       0.73      0.73      0.73       992\n",
      "   macro avg       0.72      0.70      0.71       992\n",
      "weighted avg       0.73      0.73      0.73       992\n",
      "\n"
     ]
    }
   ],
   "source": [
    "print('Testing accuracy: %s' % accuracy_score(tester['NB_Model'],test_pred))\n",
    "print('Classification Report:')\n",
    "print(classification_report(tester['NB_Model'],test_pred))"
   ]
  },
  {
   "cell_type": "markdown",
   "metadata": {},
   "source": [
    "## LGBM Classifier"
   ]
  },
  {
   "cell_type": "code",
   "execution_count": 38,
   "metadata": {},
   "outputs": [
    {
     "name": "stdout",
     "output_type": "stream",
     "text": [
      "Testing accuracy: 0.7560483870967742\n",
      "Classification Report:\n",
      "              precision    recall  f1-score   support\n",
      "\n",
      "           0       0.78      0.85      0.81       625\n",
      "           1       0.70      0.59      0.64       367\n",
      "\n",
      "   micro avg       0.76      0.76      0.76       992\n",
      "   macro avg       0.74      0.72      0.73       992\n",
      "weighted avg       0.75      0.76      0.75       992\n",
      "\n"
     ]
    }
   ],
   "source": [
    "print('Testing accuracy: %s' % accuracy_score(tester['LGBM_Model'],test_pred))\n",
    "print('Classification Report:')\n",
    "print(classification_report(tester['LGBM_Model'],test_pred))"
   ]
  },
  {
   "cell_type": "markdown",
   "metadata": {},
   "source": [
    "# Post analyzing the results, Random Forest has performed the best giving an accuracy of 78.6% on our test set. Kindly refer to the final notebook with tuned parameters"
   ]
  },
  {
   "cell_type": "code",
   "execution_count": null,
   "metadata": {},
   "outputs": [],
   "source": []
  },
  {
   "cell_type": "code",
   "execution_count": null,
   "metadata": {},
   "outputs": [],
   "source": []
  }
 ],
 "metadata": {
  "colab": {
   "collapsed_sections": [],
   "name": "Enron_Intent_Detection - TF-IDF.ipynb",
   "provenance": []
  },
  "kernelspec": {
   "display_name": "Python 3",
   "language": "python",
   "name": "python3"
  },
  "language_info": {
   "codemirror_mode": {
    "name": "ipython",
    "version": 3
   },
   "file_extension": ".py",
   "mimetype": "text/x-python",
   "name": "python",
   "nbconvert_exporter": "python",
   "pygments_lexer": "ipython3",
   "version": "3.7.3"
  }
 },
 "nbformat": 4,
 "nbformat_minor": 1
}
