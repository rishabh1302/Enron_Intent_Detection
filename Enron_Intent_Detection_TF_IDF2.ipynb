{
 "cells": [
  {
   "cell_type": "markdown",
   "metadata": {
    "colab_type": "text",
    "id": "-ExzPI0_-rdl"
   },
   "source": [
    "**Intent Detection - Enron**\n"
   ]
  },
  {
   "cell_type": "code",
   "execution_count": 38,
   "metadata": {
    "colab": {},
    "colab_type": "code",
    "id": "QqbyErpA9-2M"
   },
   "outputs": [],
   "source": [
    "import pandas as pd\n",
    "import re\n",
    "from nltk.stem import WordNetLemmatizer\n",
    "from nltk import word_tokenize\n",
    "from nltk.corpus import stopwords\n",
    "from sklearn.model_selection import train_test_split\n",
    "from sklearn.pipeline import Pipeline\n",
    "from sklearn.feature_extraction.text import TfidfVectorizer\n",
    "from sklearn.linear_model import LogisticRegression\n",
    "from sklearn.ensemble import RandomForestClassifier\n",
    "\n",
    "from sklearn.metrics import accuracy_score, f1_score\n",
    "from sklearn.metrics import classification_report"
   ]
  },
  {
   "cell_type": "code",
   "execution_count": 39,
   "metadata": {
    "colab": {},
    "colab_type": "code",
    "id": "XcE_YVhY9-2Y"
   },
   "outputs": [],
   "source": [
    "df_train=pd.read_csv(\"enron_train.txt\",sep=\"\\t\",header=None)\n",
    "df_test=pd.read_csv(\"enron_test.txt\",sep=\"\\t\",header=None)"
   ]
  },
  {
   "cell_type": "code",
   "execution_count": 40,
   "metadata": {
    "colab": {},
    "colab_type": "code",
    "id": "nHbsVyq79-2f"
   },
   "outputs": [],
   "source": [
    "df_train.columns=[\"pred\",\"content\"]\n",
    "df_test.columns=[\"pred\",\"content\"]"
   ]
  },
  {
   "cell_type": "code",
   "execution_count": 41,
   "metadata": {
    "colab": {
     "base_uri": "https://localhost:8080/",
     "height": 68
    },
    "colab_type": "code",
    "id": "9-CjYJVR9-2m",
    "outputId": "b5ea9fad-32a1-483e-c954-622358dada70"
   },
   "outputs": [
    {
     "data": {
      "text/plain": [
       "No     1938\n",
       "Yes    1719\n",
       "Name: pred, dtype: int64"
      ]
     },
     "execution_count": 41,
     "metadata": {},
     "output_type": "execute_result"
    }
   ],
   "source": [
    "df_train['pred'].value_counts()"
   ]
  },
  {
   "cell_type": "code",
   "execution_count": 42,
   "metadata": {
    "colab": {
     "base_uri": "https://localhost:8080/",
     "height": 68
    },
    "colab_type": "code",
    "id": "wxk_1Bvo9-2w",
    "outputId": "fd12c272-ab40-47b5-f47d-4043ce875fce"
   },
   "outputs": [
    {
     "data": {
      "text/plain": [
       "No     683\n",
       "Yes    309\n",
       "Name: pred, dtype: int64"
      ]
     },
     "execution_count": 42,
     "metadata": {},
     "output_type": "execute_result"
    }
   ],
   "source": [
    "df_test['pred'].value_counts()"
   ]
  },
  {
   "cell_type": "markdown",
   "metadata": {},
   "source": [
    "# Step 1 : Data Preprocessing - Expanding contractions & data cleaning"
   ]
  },
  {
   "cell_type": "code",
   "execution_count": 43,
   "metadata": {
    "colab": {},
    "colab_type": "code",
    "id": "X7mYdt_n9-23"
   },
   "outputs": [],
   "source": [
    "cList = {\n",
    "  \"ain't\": \"am not\",\n",
    "  \"aren't\": \"are not\",\n",
    "  \"can't\": \"cannot\",\n",
    "  \"can't've\": \"cannot have\",\n",
    "  \"'cause\": \"because\",\n",
    "  \"could've\": \"could have\",\n",
    "  \"couldn't\": \"could not\",\n",
    "  \"couldn't've\": \"could not have\",\n",
    "  \"didn't\": \"did not\",\n",
    "  \"doesn't\": \"does not\",\n",
    "  \"don't\": \"do not\",\n",
    "  \"hadn't\": \"had not\",\n",
    "  \"hadn't've\": \"had not have\",\n",
    "  \"hasn't\": \"has not\",\n",
    "  \"haven't\": \"have not\",\n",
    "  \"he'd\": \"he would\",\n",
    "  \"he'd've\": \"he would have\",\n",
    "  \"he'll\": \"he will\",\n",
    "  \"he'll've\": \"he will have\",\n",
    "  \"he's\": \"he is\",\n",
    "  \"how'd\": \"how did\",\n",
    "  \"how'd'y\": \"how do you\",\n",
    "  \"how'll\": \"how will\",\n",
    "  \"how's\": \"how is\",\n",
    "  \"I'd\": \"I would\",\n",
    "  \"I'd've\": \"I would have\",\n",
    "  \"I'll\": \"I will\",\n",
    "  \"I'll've\": \"I will have\",\n",
    "  \"I'm\": \"I am\",\n",
    "  \"I've\": \"I have\",\n",
    "  \"isn't\": \"is not\",\n",
    "  \"it'd\": \"it had\",\n",
    "  \"it'd've\": \"it would have\",\n",
    "  \"it'll\": \"it will\",\n",
    "  \"it'll've\": \"it will have\",\n",
    "  \"it's\": \"it is\",\n",
    "  \"let's\": \"let us\",\n",
    "  \"ma'am\": \"madam\",\n",
    "  \"mayn't\": \"may not\",\n",
    "  \"might've\": \"might have\",\n",
    "  \"mightn't\": \"might not\",\n",
    "  \"mightn't've\": \"might not have\",\n",
    "  \"must've\": \"must have\",\n",
    "  \"mustn't\": \"must not\",\n",
    "  \"mustn't've\": \"must not have\",\n",
    "  \"needn't\": \"need not\",\n",
    "  \"needn't've\": \"need not have\",\n",
    "  \"o'clock\": \"of the clock\",\n",
    "  \"oughtn't\": \"ought not\",\n",
    "  \"oughtn't've\": \"ought not have\",\n",
    "  \"shan't\": \"shall not\",\n",
    "  \"sha'n't\": \"shall not\",\n",
    "  \"shan't've\": \"shall not have\",\n",
    "  \"she'd\": \"she would\",\n",
    "  \"she'd've\": \"she would have\",\n",
    "  \"she'll\": \"she will\",\n",
    "  \"she'll've\": \"she will have\",\n",
    "  \"she's\": \"she is\",\n",
    "  \"should've\": \"should have\",\n",
    "  \"shouldn't\": \"should not\",\n",
    "  \"shouldn't've\": \"should not have\",\n",
    "  \"so've\": \"so have\",\n",
    "  \"so's\": \"so is\",\n",
    "  \"that'd\": \"that would\",\n",
    "  \"that'd've\": \"that would have\",\n",
    "  \"that's\": \"that is\",\n",
    "  \"there'd\": \"there had\",\n",
    "  \"there'd've\": \"there would have\",\n",
    "  \"there's\": \"there is\",\n",
    "  \"they'd\": \"they would\",\n",
    "  \"they'd've\": \"they would have\",\n",
    "  \"they'll\": \"they will\",\n",
    "  \"they'll've\": \"they will have\",\n",
    "  \"they're\": \"they are\",\n",
    "  \"they've\": \"they have\",\n",
    "  \"to've\": \"to have\",\n",
    "  \"wasn't\": \"was not\",\n",
    "  \"we'd\": \"we had\",\n",
    "  \"we'd've\": \"we would have\",\n",
    "  \"we'll\": \"we will\",\n",
    "  \"we'll've\": \"we will have\",\n",
    "  \"we're\": \"we are\",\n",
    "  \"we've\": \"we have\",\n",
    "  \"weren't\": \"were not\",\n",
    "  \"what'll\": \"what will\",\n",
    "  \"what'll've\": \"what will have\",\n",
    "  \"what're\": \"what are\",\n",
    "  \"what's\": \"what is\",\n",
    "  \"what've\": \"what have\",\n",
    "  \"when's\": \"when is\",\n",
    "  \"when've\": \"when have\",\n",
    "  \"where'd\": \"where did\",\n",
    "  \"where's\": \"where is\",\n",
    "  \"where've\": \"where have\",\n",
    "  \"who'll\": \"who will\",\n",
    "  \"who'll've\": \"who will have\",\n",
    "  \"who's\": \"who is\",\n",
    "  \"who've\": \"who have\",\n",
    "  \"why's\": \"why is\",\n",
    "  \"why've\": \"why have\",\n",
    "  \"will've\": \"will have\",\n",
    "  \"won't\": \"will not\",\n",
    "  \"won't've\": \"will not have\",\n",
    "  \"would've\": \"would have\",\n",
    "  \"wouldn't\": \"would not\",\n",
    "  \"wouldn't've\": \"would not have\",\n",
    "  \"y'all\": \"you all\",\n",
    "  \"y'alls\": \"you alls\",\n",
    "  \"y'all'd\": \"you all would\",\n",
    "  \"y'all'd've\": \"you all would have\",\n",
    "  \"y'all're\": \"you all are\",\n",
    "  \"y'all've\": \"you all have\",\n",
    "  \"you'd\": \"you had\",\n",
    "  \"you'd've\": \"you would have\",\n",
    "  \"you'll\": \"you you will\",\n",
    "  \"you'll've\": \"you you will have\",\n",
    "  \"you're\": \"you are\",\n",
    "  \"you've\": \"you have\"\n",
    "}\n",
    "\n",
    "c_re = re.compile('(%s)' % '|'.join(cList.keys()))\n",
    "\n",
    "def expandContractions(text, c_re=c_re):\n",
    "    def replace(match):\n",
    "        return cList[match.group(0)]\n",
    "    return c_re.sub(replace, text)"
   ]
  },
  {
   "cell_type": "code",
   "execution_count": 44,
   "metadata": {},
   "outputs": [],
   "source": [
    "REPLACE_BY_SPACE_RE = re.compile('[/(){}\\[\\]\\|@,?#]')\n",
    "def clean_text(text):\n",
    "    text = text.lower()\n",
    "    text = text.strip()\n",
    "    text = text.lstrip()   \n",
    "    text = text.rstrip()\n",
    "    text = expandContractions(text)\n",
    "    text = REPLACE_BY_SPACE_RE.sub(' ', text)\n",
    "    text = re.sub(r\"https?://(?:[-\\w.]|(?:%[\\da-fA-F]{2}))+\",\" \",text)\n",
    "    text = re.sub(r\"\\$\\d+\", \" \",text)\n",
    "    text = re.sub(r'[\\w\\.-]+@[\\w\\.-]+', \" \",text)\n",
    "    text = re.sub(r'\\b(me|her|him|us|them|there|that)\\b', \" \",text)  \n",
    "    return text"
   ]
  },
  {
   "cell_type": "code",
   "execution_count": 45,
   "metadata": {
    "colab": {},
    "colab_type": "code",
    "id": "f9kUt0BJ9-3B"
   },
   "outputs": [
    {
     "data": {
      "text/plain": [
       "'REPLACE_BY_SPACE_RE = re.compile(\\'[/(){}\\\\[\\\\]\\\\|@,?#]\\')\\ndef clean_text(text):\\n    text = text.lower()\\n    text = text.strip()\\n    text = text.lstrip()   \\n    text = text.rstrip()\\n    text = expandContractions(text)\\n    text = REPLACE_BY_SPACE_RE.sub(\\' \\', text)\\n    text = re.sub(r\"https?://(?:[-\\\\w.]|(?:%[\\\\da-fA-F]{2}))+\",\"$WEBLINKS\",text)\\n    text = re.sub(r\"\\\\$\\\\d+\", \"$CASH\",text)\\n    text = re.sub(r\\'[\\\\w\\\\.-]+@[\\\\w\\\\.-]+\\', \"$EMAIL\",text)\\n    text = re.sub(r\\'\\x08(me|her|him|us|them|there|that)\\x08\\', \"$NOUN\",text)  \\n    return text\\n\\n'"
      ]
     },
     "execution_count": 45,
     "metadata": {},
     "output_type": "execute_result"
    }
   ],
   "source": [
    "'''REPLACE_BY_SPACE_RE = re.compile('[/(){}\\[\\]\\|@,?#]')\n",
    "def clean_text(text):\n",
    "    text = text.lower()\n",
    "    text = text.strip()\n",
    "    text = text.lstrip()   \n",
    "    text = text.rstrip()\n",
    "    text = expandContractions(text)\n",
    "    text = REPLACE_BY_SPACE_RE.sub(' ', text)\n",
    "    text = re.sub(r\"https?://(?:[-\\w.]|(?:%[\\da-fA-F]{2}))+\",\"$WEBLINKS\",text)\n",
    "    text = re.sub(r\"\\$\\d+\", \"$CASH\",text)\n",
    "    text = re.sub(r'[\\w\\.-]+@[\\w\\.-]+', \"$EMAIL\",text)\n",
    "    text = re.sub(r'\\b(me|her|him|us|them|there|that)\\b', \"$NOUN\",text)  \n",
    "    return text\n",
    "\n",
    "'''"
   ]
  },
  {
   "cell_type": "code",
   "execution_count": 46,
   "metadata": {
    "colab": {},
    "colab_type": "code",
    "id": "2ZxZFlUo9-3H"
   },
   "outputs": [],
   "source": [
    "df_train['content'] = df_train['content'].astype(str).apply(clean_text)\n",
    "df_test['content'] = df_test['content'].astype(str).apply(clean_text)"
   ]
  },
  {
   "cell_type": "code",
   "execution_count": 49,
   "metadata": {
    "colab": {},
    "colab_type": "code",
    "id": "kWTJmeC89-3N"
   },
   "outputs": [],
   "source": [
    "df_train.to_excel('train_analyze.xlsx')\n",
    "df_test.to_excel('test_analyze.xlsx')"
   ]
  },
  {
   "cell_type": "code",
   "execution_count": 50,
   "metadata": {},
   "outputs": [],
   "source": [
    "STOPWORDS = set(stopwords.words('english'))"
   ]
  },
  {
   "cell_type": "code",
   "execution_count": 51,
   "metadata": {
    "colab": {},
    "colab_type": "code",
    "id": "dUuJo8Hv9-3R"
   },
   "outputs": [],
   "source": [
    "lemmatizer = WordNetLemmatizer()\n",
    "\n",
    "def tokenizer(text):\n",
    "    return [lemmatizer.lemmatize(word) for word in word_tokenize(text) if len(word)>2 and (word not in STOPWORDS)]"
   ]
  },
  {
   "cell_type": "markdown",
   "metadata": {},
   "source": [
    "# Create TF-IDF Vectors"
   ]
  },
  {
   "cell_type": "code",
   "execution_count": 52,
   "metadata": {
    "colab": {},
    "colab_type": "code",
    "id": "0x5tnzjH9-3U"
   },
   "outputs": [
    {
     "name": "stderr",
     "output_type": "stream",
     "text": [
      "C:\\Users\\risha\\Anaconda3\\lib\\site-packages\\sklearn\\feature_extraction\\text.py:300: UserWarning: Your stop_words may be inconsistent with your preprocessing. Tokenizing the stop words generated tokens [\"'ll\", \"'re\", \"'ve\", 'could', 'might', 'must', \"n't\", 'need', 'sha', 'would'] not in stop_words.\n",
      "  'stop_words.' % sorted(inconsistent))\n"
     ]
    }
   ],
   "source": [
    "from sklearn.feature_extraction.text import TfidfVectorizer\n",
    "tfidf_vec = TfidfVectorizer(min_df=0.01,tokenizer=tokenizer,stop_words=STOPWORDS)\n",
    "\n",
    "X_train_tfidf = tfidf_vec.fit_transform(df_train['content'])"
   ]
  },
  {
   "cell_type": "code",
   "execution_count": 53,
   "metadata": {},
   "outputs": [
    {
     "name": "stdout",
     "output_type": "stream",
     "text": [
      "{\"'ll\": 5.07753744390572, '...': 5.127134385045092, 'able': 5.42048219503255, 'access': 5.541110182821164, 'account': 5.292648823522665, 'add': 5.144228818404391, 'address': 4.661377046680807, 'also': 4.693812322433961, 'app': 5.567085669224425, 'attached': 5.515792374836875, 'available': 4.65079493735027, 'back': 4.773855030107498, 'best': 5.541110182821164, 'book': 5.398009339180491, 'business': 5.292648823522665, 'call': 3.7240329056088197, 'chance': 5.491099762246503, 'change': 5.127134385045092, 'check': 4.970565324353552, 'click': 5.11032726672871, 'come': 5.0937979647775, 'company': 5.4670022106674425, 'conference': 5.354524227240752, 'contact': 4.941991951909495, 'copy': 5.292648823522665, 'could': 4.27019789582012, 'customer': 5.567085669224425, 'day': 4.531842994488905, 'deal': 5.045788745591139, 'dinner': 5.354524227240752, 'discus': 3.8386958139289598, 'discussion': 5.253428110369383, 'e-mail': 4.941991951909495, 'email': 3.8480855542787986, 'enron': 5.07753744390572, 'feel': 5.567085669224425, 'find': 5.161620561116261, 'first': 5.376030432461716, 'following': 5.4434717132572485, 'forward': 4.352641565031194, 'free': 4.87393848866448, 'friday': 5.179320138215662, 'gas': 5.272846196226485, 'get': 3.181224235989778, 'getting': 4.8871837154145, 'give': 4.221065207242475, 'given': 5.541110182821164, 'going': 4.87393848866448, 'good': 5.398009339180491, 'great': 5.398009339180491, 'group': 5.234379915398689, 'guy': 5.491099762246503, 'help': 4.468473380556316, 'information': 4.785831221154213, 'issue': 4.773855030107498, 'join': 5.11032726672871, 'keep': 5.4434717132572485, 'know': 3.8865518351065944, 'last': 5.179320138215662, 'let': 3.820176766161722, 'like': 3.5417113488148653, 'link': 4.000665141874016, 'list': 5.11032726672871, 'look': 4.8871837154145, 'lunch': 5.3128515308401845, 'mail': 5.11032726672871, 'make': 3.8575642982333425, 'may': 4.661377046680807, 'meet': 4.750324532697303, 'meeting': 4.148426023602503, 'message': 4.956176586901452, 'might': 5.253428110369383, 'minute': 5.3128515308401845, 'monday': 4.822645194276929, 'need': 3.99518567610939, 'new': 4.59950164296272, 'next': 4.451081637844446, 'night': 5.354524227240752, 'note': 5.515792374836875, 'number': 4.985164123774704, 'offer': 5.541110182821164, 'one': 4.682883251901771, 'phone': 5.42048219503255, 'plan': 5.253428110369383, 'please': 2.6767139113282603, 'point': 5.515792374836875, 'possible': 5.061537102559278, 'power': 5.541110182821164, 'provide': 5.541110182821164, 'question': 4.716035459218672, 'receive': 4.928005709934755, 'review': 5.161620561116261, 'right': 5.061537102559278, 'schedule': 5.11032726672871, 'see': 4.5699428407211755, 'send': 4.221065207242475, 'service': 5.215687782386537, 'set': 5.272846196226485, 'share': 5.398009339180491, 'still': 5.491099762246503, 'support': 5.376030432461716, 'sure': 4.956176586901452, 'take': 4.716035459218672, 'talk': 5.0937979647775, 'team': 5.541110182821164, 'tell': 5.567085669224425, 'thing': 5.234379915398689, 'think': 4.640323637482975, 'thursday': 5.292648823522665, 'time': 4.180791308104535, 'today': 4.750324532697303, 'together': 4.941991951909495, 'tomorrow': 4.425548335839282, 'try': 4.985164123774704, 'two': 5.491099762246503, 'update': 5.4670022106674425, 'use': 4.970565324353552, 'visit': 4.999979209559845, 'want': 3.6062498699524363, 'way': 5.567085669224425, 'wednesday': 5.567085669224425, 'week': 4.057177352137358, 'work': 4.822645194276929, 'would': 3.4208466466210736, 'year': 5.4670022106674425}\n"
     ]
    }
   ],
   "source": [
    "print(dict(zip(tfidf_vec.get_feature_names(), tfidf_vec.idf_)))"
   ]
  },
  {
   "cell_type": "code",
   "execution_count": 54,
   "metadata": {},
   "outputs": [],
   "source": [
    "X_test_tfidf  = tfidf_vec.transform(df_test['content'])"
   ]
  },
  {
   "cell_type": "code",
   "execution_count": 55,
   "metadata": {
    "colab": {
     "base_uri": "https://localhost:8080/",
     "height": 51
    },
    "colab_type": "code",
    "id": "rGHkx0bD9-3Z",
    "outputId": "1701ee91-b9d1-4fe0-e8ef-ff66874117bd"
   },
   "outputs": [
    {
     "name": "stdout",
     "output_type": "stream",
     "text": [
      "Train Shape :  (3657, 125)\n",
      "Test Shape  :  (992, 125)\n"
     ]
    }
   ],
   "source": [
    "print(\"Train Shape : \",X_train_tfidf.shape)\n",
    "print(\"Test Shape  : \",X_test_tfidf.shape)"
   ]
  },
  {
   "cell_type": "code",
   "execution_count": 56,
   "metadata": {
    "colab": {},
    "colab_type": "code",
    "id": "f9ZJGQhT9-3d"
   },
   "outputs": [],
   "source": [
    "train_pred=df_train[\"pred\"]\n",
    "test_pred=df_test[\"pred\"]"
   ]
  },
  {
   "cell_type": "markdown",
   "metadata": {
    "colab_type": "text",
    "id": "Ay9Ck4Vh9-3h"
   },
   "source": [
    "# Splitting Original Training Set into 80% Train & 20% Validation"
   ]
  },
  {
   "cell_type": "code",
   "execution_count": 57,
   "metadata": {
    "colab": {},
    "colab_type": "code",
    "id": "DE2GScaD9-3i"
   },
   "outputs": [],
   "source": [
    "from sklearn.model_selection import train_test_split"
   ]
  },
  {
   "cell_type": "code",
   "execution_count": 58,
   "metadata": {
    "colab": {},
    "colab_type": "code",
    "id": "R9j5roeA9-3l"
   },
   "outputs": [],
   "source": [
    "X_train,X_val,Y_train,Y_val=train_test_split(X_train_tfidf,train_pred,test_size=.20,random_state=40)"
   ]
  },
  {
   "cell_type": "markdown",
   "metadata": {
    "colab_type": "text",
    "id": "1BISPTQS9-3q"
   },
   "source": [
    "# Changing predictor values into numerics"
   ]
  },
  {
   "cell_type": "code",
   "execution_count": 59,
   "metadata": {
    "colab": {},
    "colab_type": "code",
    "id": "cOemjP959-3r"
   },
   "outputs": [],
   "source": [
    "Y_train=Y_train.map({\"No\":0,\"Yes\":1})\n",
    "Y_val=Y_val.map({\"No\":0,\"Yes\":1})"
   ]
  },
  {
   "cell_type": "markdown",
   "metadata": {
    "colab_type": "text",
    "id": "WsuDGHEq9-3v"
   },
   "source": [
    "# Checking Validation Accuracy with various classifiers"
   ]
  },
  {
   "cell_type": "code",
   "execution_count": 60,
   "metadata": {
    "colab": {},
    "colab_type": "code",
    "id": "SaZ_3KQf9-3w"
   },
   "outputs": [],
   "source": [
    "from sklearn.linear_model import LogisticRegression\n",
    "from sklearn.svm import SVC\n",
    "from sklearn.naive_bayes import MultinomialNB\n",
    "from sklearn.neighbors import KNeighborsClassifier \n",
    "from sklearn.ensemble import RandomForestClassifier\n",
    "from lightgbm import LGBMClassifier\n"
   ]
  },
  {
   "cell_type": "code",
   "execution_count": 61,
   "metadata": {
    "colab": {},
    "colab_type": "code",
    "id": "Cvmji2F49-31"
   },
   "outputs": [],
   "source": [
    "svc = SVC(kernel='rbf', gamma=\"scale\")\n",
    "knc = KNeighborsClassifier(n_neighbors=49)\n",
    "mnb = MultinomialNB(alpha=0.2)\n",
    "lrc = LogisticRegression(solver='liblinear', penalty='l2',C=10.)\n",
    "rfc = RandomForestClassifier(n_estimators=100, random_state=111,n_jobs=-1,max_depth=7)\n",
    "lgbm = LGBMClassifier(max_depth=10, n_estimators = 150)"
   ]
  },
  {
   "cell_type": "code",
   "execution_count": 62,
   "metadata": {
    "colab": {},
    "colab_type": "code",
    "id": "xTB_MTS99-34"
   },
   "outputs": [],
   "source": [
    "clfs = {'SVC' : svc,'KN' : knc, 'NB': mnb, 'LR': lrc, 'RF': rfc,'LGBM':lgbm}"
   ]
  },
  {
   "cell_type": "code",
   "execution_count": 63,
   "metadata": {
    "colab": {},
    "colab_type": "code",
    "id": "90xnl8ja9-38"
   },
   "outputs": [],
   "source": [
    "def train(clf, features, targets):    \n",
    "    clf.fit(features, targets)\n",
    "\n",
    "def predict(clf, features):\n",
    "    return (clf.predict(features))"
   ]
  },
  {
   "cell_type": "code",
   "execution_count": 64,
   "metadata": {
    "colab": {},
    "colab_type": "code",
    "id": "_6IwXOFH9-3_"
   },
   "outputs": [],
   "source": [
    "pred_scores_word_vectors = []\n",
    "for k,v in clfs.items():\n",
    "    train(v, X_train, Y_train)\n",
    "    pred = predict(v, X_val)\n",
    "    pred_scores_word_vectors.append((k, [accuracy_score(Y_val,pred)]))"
   ]
  },
  {
   "cell_type": "code",
   "execution_count": 65,
   "metadata": {
    "colab": {
     "base_uri": "https://localhost:8080/",
     "height": 80
    },
    "colab_type": "code",
    "id": "1Q2oQZzt9-4D",
    "outputId": "5f651f7a-b48c-4fd1-c266-f0f1cfab1c8b"
   },
   "outputs": [
    {
     "name": "stderr",
     "output_type": "stream",
     "text": [
      "C:\\Users\\risha\\Anaconda3\\lib\\site-packages\\ipykernel_launcher.py:1: FutureWarning: from_items is deprecated. Please use DataFrame.from_dict(dict(items), ...) instead. DataFrame.from_dict(OrderedDict(items)) may be used to preserve the key order.\n",
      "  \"\"\"Entry point for launching an IPython kernel.\n"
     ]
    },
    {
     "data": {
      "text/html": [
       "<div>\n",
       "<style scoped>\n",
       "    .dataframe tbody tr th:only-of-type {\n",
       "        vertical-align: middle;\n",
       "    }\n",
       "\n",
       "    .dataframe tbody tr th {\n",
       "        vertical-align: top;\n",
       "    }\n",
       "\n",
       "    .dataframe thead th {\n",
       "        text-align: right;\n",
       "    }\n",
       "</style>\n",
       "<table border=\"1\" class=\"dataframe\">\n",
       "  <thead>\n",
       "    <tr style=\"text-align: right;\">\n",
       "      <th></th>\n",
       "      <th>Score</th>\n",
       "    </tr>\n",
       "  </thead>\n",
       "  <tbody>\n",
       "    <tr>\n",
       "      <th>SVC</th>\n",
       "      <td>0.709016</td>\n",
       "    </tr>\n",
       "    <tr>\n",
       "      <th>KN</th>\n",
       "      <td>0.591530</td>\n",
       "    </tr>\n",
       "    <tr>\n",
       "      <th>NB</th>\n",
       "      <td>0.709016</td>\n",
       "    </tr>\n",
       "    <tr>\n",
       "      <th>LR</th>\n",
       "      <td>0.732240</td>\n",
       "    </tr>\n",
       "    <tr>\n",
       "      <th>RF</th>\n",
       "      <td>0.698087</td>\n",
       "    </tr>\n",
       "    <tr>\n",
       "      <th>LGBM</th>\n",
       "      <td>0.751366</td>\n",
       "    </tr>\n",
       "  </tbody>\n",
       "</table>\n",
       "</div>"
      ],
      "text/plain": [
       "         Score\n",
       "SVC   0.709016\n",
       "KN    0.591530\n",
       "NB    0.709016\n",
       "LR    0.732240\n",
       "RF    0.698087\n",
       "LGBM  0.751366"
      ]
     },
     "execution_count": 65,
     "metadata": {},
     "output_type": "execute_result"
    }
   ],
   "source": [
    "predictions = pd.DataFrame.from_items(pred_scores_word_vectors,orient='index', columns=['Score'])\n",
    "predictions"
   ]
  },
  {
   "cell_type": "code",
   "execution_count": 66,
   "metadata": {
    "colab": {},
    "colab_type": "code",
    "id": "IEKBQeCX9-4H"
   },
   "outputs": [],
   "source": [
    "import matplotlib.pyplot as plt\n",
    "import numpy as np"
   ]
  },
  {
   "cell_type": "code",
   "execution_count": 67,
   "metadata": {
    "colab": {
     "base_uri": "https://localhost:8080/",
     "height": 332
    },
    "colab_type": "code",
    "id": "eeGdwOXp9-4L",
    "outputId": "04e53d74-481a-4142-e807-9877e332ba00"
   },
   "outputs": [
    {
     "data": {
      "image/png": "[encoded data removed]",
      "text/plain": [
       "<Figure size 504x360 with 1 Axes>"
      ]
     },
     "metadata": {
      "needs_background": "light"
     },
     "output_type": "display_data"
    }
   ],
   "source": [
    "predictions.plot(kind='bar', ylim=(0.3,1.0), figsize=(7,5), align='center', colormap=\"Accent\")\n",
    "plt.xticks(np.arange(5), predictions.index)\n",
    "plt.ylabel('Validation Accuracy Score')\n",
    "plt.title('Distribution by Classifier')\n",
    "plt.legend(bbox_to_anchor=(1.05, 1), loc=2, borderaxespad=0.)\n",
    "plt.show()"
   ]
  },
  {
   "cell_type": "markdown",
   "metadata": {
    "colab_type": "text",
    "id": "UI37i3Uu9-4S"
   },
   "source": [
    "# Let's test our models on the test set provided with our various classifiers"
   ]
  },
  {
   "cell_type": "code",
   "execution_count": 68,
   "metadata": {
    "colab": {},
    "colab_type": "code",
    "id": "TEnUs6gq9-4T"
   },
   "outputs": [],
   "source": [
    "test_pred=test_pred.map({\"No\":0,\"Yes\":1})"
   ]
  },
  {
   "cell_type": "code",
   "execution_count": 69,
   "metadata": {
    "colab": {},
    "colab_type": "code",
    "id": "3Os3o27L9-4X"
   },
   "outputs": [],
   "source": [
    "tester = pd.DataFrame()"
   ]
  },
  {
   "cell_type": "code",
   "execution_count": 70,
   "metadata": {
    "colab": {},
    "colab_type": "code",
    "id": "ewhCHuRx9-4a"
   },
   "outputs": [],
   "source": [
    "tester['LR_Model']=lrc.predict(X_test_tfidf)\n",
    "tester['SVC_Model']=svc.predict(X_test_tfidf)\n",
    "tester['RF_Model']=rfc.predict(X_test_tfidf)\n",
    "tester['KNC_Model']=knc.predict(X_test_tfidf)\n",
    "tester['NB_Model']=mnb.predict(X_test_tfidf)\n",
    "tester['LGBM_Model']=lgbm.predict(X_test_tfidf)"
   ]
  },
  {
   "cell_type": "markdown",
   "metadata": {
    "colab_type": "text",
    "id": "LyrtsS529-4e"
   },
   "source": [
    "# Logistic Regression Model"
   ]
  },
  {
   "cell_type": "code",
   "execution_count": 71,
   "metadata": {
    "colab": {
     "base_uri": "https://localhost:8080/",
     "height": 221
    },
    "colab_type": "code",
    "id": "9JyDKOyG9-4e",
    "outputId": "fc099ab7-37c5-4453-9deb-d264c46b5d55"
   },
   "outputs": [
    {
     "name": "stdout",
     "output_type": "stream",
     "text": [
      "Testing accuracy: 0.7590725806451613\n",
      "Testing F1 score: 0.6427503736920777\n",
      "Classification Report:\n",
      "              precision    recall  f1-score   support\n",
      "\n",
      "           0       0.79      0.85      0.82       632\n",
      "           1       0.70      0.60      0.64       360\n",
      "\n",
      "   micro avg       0.76      0.76      0.76       992\n",
      "   macro avg       0.74      0.72      0.73       992\n",
      "weighted avg       0.75      0.76      0.75       992\n",
      "\n"
     ]
    }
   ],
   "source": [
    "print('Testing accuracy: %s' % accuracy_score(tester['LR_Model'],test_pred))\n",
    "print('Testing F1 score: {}'.format(f1_score(tester['LR_Model'],test_pred), average='weighted'))\n",
    "print('Classification Report:')\n",
    "print(classification_report(tester['LR_Model'],test_pred))"
   ]
  },
  {
   "cell_type": "markdown",
   "metadata": {
    "colab_type": "text",
    "id": "5_dRzcaI9-4k"
   },
   "source": [
    "# SVC Model"
   ]
  },
  {
   "cell_type": "code",
   "execution_count": 72,
   "metadata": {
    "colab": {
     "base_uri": "https://localhost:8080/",
     "height": 221
    },
    "colab_type": "code",
    "id": "NmqGOHHp9-4k",
    "outputId": "b2b95222-d922-4faf-f004-5924c7f400d9"
   },
   "outputs": [
    {
     "name": "stdout",
     "output_type": "stream",
     "text": [
      "Testing accuracy: 0.7782258064516129\n",
      "Testing F1 score: 0.6180555555555556\n",
      "Classification Report:\n",
      "              precision    recall  f1-score   support\n",
      "\n",
      "           0       0.87      0.82      0.84       725\n",
      "           1       0.58      0.67      0.62       267\n",
      "\n",
      "   micro avg       0.78      0.78      0.78       992\n",
      "   macro avg       0.72      0.74      0.73       992\n",
      "weighted avg       0.79      0.78      0.78       992\n",
      "\n"
     ]
    }
   ],
   "source": [
    "print('Testing accuracy: %s' % accuracy_score(tester['SVC_Model'],test_pred))\n",
    "print('Testing F1 score: {}'.format(f1_score(tester['SVC_Model'],test_pred), average='weighted'))\n",
    "print('Classification Report:')\n",
    "print(classification_report(tester['SVC_Model'],test_pred))"
   ]
  },
  {
   "cell_type": "markdown",
   "metadata": {
    "colab_type": "text",
    "id": "V_0LA5sK9-4o"
   },
   "source": [
    "# Random Forest Model"
   ]
  },
  {
   "cell_type": "code",
   "execution_count": 73,
   "metadata": {
    "colab": {
     "base_uri": "https://localhost:8080/",
     "height": 221
    },
    "colab_type": "code",
    "id": "8TMFIEBq9-4q",
    "outputId": "33fbf589-ece2-4623-881f-7518c3ef27e2"
   },
   "outputs": [
    {
     "name": "stdout",
     "output_type": "stream",
     "text": [
      "Testing accuracy: 0.7862903225806451\n",
      "Testing F1 score: 0.6074074074074075\n",
      "Classification Report:\n",
      "              precision    recall  f1-score   support\n",
      "\n",
      "           0       0.90      0.81      0.85       761\n",
      "           1       0.53      0.71      0.61       231\n",
      "\n",
      "   micro avg       0.79      0.79      0.79       992\n",
      "   macro avg       0.72      0.76      0.73       992\n",
      "weighted avg       0.82      0.79      0.80       992\n",
      "\n"
     ]
    }
   ],
   "source": [
    "print('Testing accuracy: %s' % accuracy_score(tester['RF_Model'],test_pred))\n",
    "print('Testing F1 score: {}'.format(f1_score(tester['RF_Model'],test_pred), average='weighted'))\n",
    "print('Classification Report:')\n",
    "print(classification_report(tester['RF_Model'],test_pred))"
   ]
  },
  {
   "cell_type": "markdown",
   "metadata": {},
   "source": [
    "# Checking Feature Importances of RFC"
   ]
  },
  {
   "cell_type": "code",
   "execution_count": 74,
   "metadata": {},
   "outputs": [
    {
     "name": "stdout",
     "output_type": "stream",
     "text": [
      "[(\"'ll\", 0.23110609405782923), ('...', 0.11770564153562349), ('able', 0.08013727975668727), ('access', 0.05601729835865062), ('account', 0.054180826527012345), ('add', 0.0316459720203305), ('address', 0.02712835298286973), ('also', 0.019584672364621428), ('app', 0.016842879028746257), ('attached', 0.016768149606085515), ('available', 0.01656318516407336), ('back', 0.01653276669758887), ('best', 0.013110474069004518), ('book', 0.012940455569082193), ('business', 0.010203395630114322), ('call', 0.00923739875261138), ('chance', 0.008801696614507436), ('change', 0.008801426410322026), ('check', 0.008723978167848484), ('click', 0.008151793527230545), ('come', 0.00783020420880084), ('company', 0.0076390945453741164), ('conference', 0.007573082081973168), ('contact', 0.007480456486946817), ('copy', 0.006855749648202312), ('could', 0.006303250309876714), ('customer', 0.00616426992908247), ('day', 0.006097245733924505), ('deal', 0.005950008812866859), ('dinner', 0.0059423665150454864), ('discus', 0.005662230094311411), ('discussion', 0.005294917759310357), ('e-mail', 0.004491915214309075), ('email', 0.004323772403480062), ('enron', 0.004214025367400019), ('feel', 0.0041692241610449595), ('find', 0.004081119729222753), ('first', 0.003982331572401327), ('following', 0.003954526038204925), ('forward', 0.0036351255027831397), ('free', 0.003626378272344817), ('friday', 0.003506211547952685), ('gas', 0.0033174911717145754), ('get', 0.0032848249461175693), ('getting', 0.00318094223768879), ('give', 0.003141887735532561), ('given', 0.003008320248780563), ('going', 0.002921590678291537), ('good', 0.0028956207960767967), ('great', 0.0027820218291227774), ('group', 0.0027079281581243613), ('guy', 0.0026585412936517565), ('help', 0.0026359204778501014), ('information', 0.0024751577606212413), ('issue', 0.0024716645269960372), ('join', 0.0023585312643830685), ('keep', 0.002289394541086933), ('know', 0.002275576408122668), ('last', 0.0021208723549536214), ('let', 0.0020958254540919623), ('like', 0.001945201924838484), ('link', 0.0019375141964755468), ('list', 0.0019176234465425133), ('look', 0.0019146355317894003), ('lunch', 0.0018586077454592056), ('mail', 0.0018524560911913931), ('make', 0.0017630183036354962), ('may', 0.0017317091398100363), ('meet', 0.0016679249485638658), ('meeting', 0.001650063474984553), ('message', 0.0016442995243485504), ('might', 0.0016169199115807316), ('minute', 0.0015673895659118586), ('monday', 0.0015661350451918526), ('need', 0.0015273150517061296), ('new', 0.0015178867069106838), ('next', 0.001489409434872493), ('night', 0.0014663167877992387), ('note', 0.0013738133102659423), ('number', 0.0013340292090148658), ('offer', 0.0013051978060949516), ('one', 0.0013012693748860756), ('phone', 0.001284650052218719), ('plan', 0.001279180525262302), ('please', 0.0012732666848199457), ('point', 0.0012618319361956132), ('possible', 0.0012546111509281572), ('power', 0.0012501259809408135), ('provide', 0.0012375692505595445), ('question', 0.0012015044615218062), ('receive', 0.0011313169323277467), ('review', 0.0010677034616068267), ('right', 0.0010304919668207351), ('schedule', 0.0010001044278963893), ('see', 0.000993760599197163), ('send', 0.0009711033902898025), ('service', 0.0009511672624032433), ('set', 0.0009143757646011671), ('share', 0.0008938583765498806), ('still', 0.0008827430298880359), ('support', 0.0008579876877248106), ('sure', 0.0008025375673013035), ('take', 0.0007848560623288569), ('talk', 0.00075116982548441), ('team', 0.0007344900237989219), ('tell', 0.0007067083812998247), ('thing', 0.000693566416060937), ('think', 0.0006889987558259176), ('thursday', 0.0006637147682006448), ('time', 0.0006539325715937295), ('today', 0.0006111533801207939), ('together', 0.0005432092655357119), ('tomorrow', 0.0005175905171374166), ('try', 0.0004985165064287578), ('two', 0.00048541838375650335), ('update', 0.00048375464698807046), ('use', 0.00047318647380001274), ('visit', 0.0004709677412346892), ('want', 0.0003882116530639954), ('way', 0.00020510198850942963), ('wednesday', 0.00017069052381389504), ('week', 0.0001666580745705684), ('work', 0.00014483309167805062), ('would', 5.45666333598959e-05), ('year', 3.6722615575813046e-05)]\n"
     ]
    }
   ],
   "source": [
    "print(list((zip(tfidf_vec.get_feature_names(), sorted(rfc.feature_importances_,reverse=True)))))"
   ]
  },
  {
   "cell_type": "markdown",
   "metadata": {
    "colab_type": "text",
    "id": "_uxO2f3E9-4u"
   },
   "source": [
    "# K-Neighbours Classifier"
   ]
  },
  {
   "cell_type": "code",
   "execution_count": 75,
   "metadata": {
    "colab": {
     "base_uri": "https://localhost:8080/",
     "height": 221
    },
    "colab_type": "code",
    "id": "JH1bTvDE9-4u",
    "outputId": "af6bc44e-d4fd-47b4-fb6f-7f7c7492e5b3"
   },
   "outputs": [
    {
     "name": "stdout",
     "output_type": "stream",
     "text": [
      "Testing accuracy: 0.7227822580645161\n",
      "Testing F1 score: 0.3559718969555035\n",
      "Classification Report:\n",
      "              precision    recall  f1-score   support\n",
      "\n",
      "           0       0.94      0.73      0.82       874\n",
      "           1       0.25      0.64      0.36       118\n",
      "\n",
      "   micro avg       0.72      0.72      0.72       992\n",
      "   macro avg       0.59      0.69      0.59       992\n",
      "weighted avg       0.86      0.72      0.77       992\n",
      "\n"
     ]
    }
   ],
   "source": [
    "print('Testing accuracy: %s' % accuracy_score(tester['KNC_Model'],test_pred))\n",
    "print('Testing F1 score: {}'.format(f1_score(tester['KNC_Model'],test_pred), average='weighted'))\n",
    "print('Classification Report:')\n",
    "print(classification_report(tester['KNC_Model'],test_pred))"
   ]
  },
  {
   "cell_type": "markdown",
   "metadata": {
    "colab_type": "text",
    "id": "QuJWjK4k9-4y"
   },
   "source": [
    "# Multinomial Naive Bayes Model"
   ]
  },
  {
   "cell_type": "code",
   "execution_count": 76,
   "metadata": {
    "colab": {
     "base_uri": "https://localhost:8080/",
     "height": 221
    },
    "colab_type": "code",
    "id": "o7xG5dmC9-4y",
    "outputId": "fbab8abe-c7a5-411c-a5cc-e77aa793de77"
   },
   "outputs": [
    {
     "name": "stdout",
     "output_type": "stream",
     "text": [
      "Testing accuracy: 0.7338709677419355\n",
      "Testing F1 score: 0.6140350877192982\n",
      "Classification Report:\n",
      "              precision    recall  f1-score   support\n",
      "\n",
      "           0       0.76      0.84      0.80       617\n",
      "           1       0.68      0.56      0.61       375\n",
      "\n",
      "   micro avg       0.73      0.73      0.73       992\n",
      "   macro avg       0.72      0.70      0.71       992\n",
      "weighted avg       0.73      0.73      0.73       992\n",
      "\n"
     ]
    }
   ],
   "source": [
    "print('Testing accuracy: %s' % accuracy_score(tester['NB_Model'],test_pred))\n",
    "print('Testing F1 score: {}'.format(f1_score(tester['NB_Model'],test_pred), average='weighted'))\n",
    "print('Classification Report:')\n",
    "print(classification_report(tester['NB_Model'],test_pred))"
   ]
  },
  {
   "cell_type": "markdown",
   "metadata": {},
   "source": [
    "# LGBM Classifier"
   ]
  },
  {
   "cell_type": "code",
   "execution_count": 77,
   "metadata": {},
   "outputs": [
    {
     "name": "stdout",
     "output_type": "stream",
     "text": [
      "Testing accuracy: 0.75\n",
      "Testing F1 score: 0.6242424242424242\n",
      "Classification Report:\n",
      "              precision    recall  f1-score   support\n",
      "\n",
      "           0       0.79      0.84      0.81       641\n",
      "           1       0.67      0.59      0.62       351\n",
      "\n",
      "   micro avg       0.75      0.75      0.75       992\n",
      "   macro avg       0.73      0.71      0.72       992\n",
      "weighted avg       0.74      0.75      0.75       992\n",
      "\n"
     ]
    }
   ],
   "source": [
    "print('Testing accuracy: %s' % accuracy_score(tester['LGBM_Model'],test_pred))\n",
    "print('Testing F1 score: {}'.format(f1_score(tester['LGBM_Model'],test_pred), average='weighted'))\n",
    "print('Classification Report:')\n",
    "print(classification_report(tester['LGBM_Model'],test_pred))"
   ]
  },
  {
   "cell_type": "code",
   "execution_count": null,
   "metadata": {},
   "outputs": [],
   "source": []
  },
  {
   "cell_type": "code",
   "execution_count": null,
   "metadata": {},
   "outputs": [],
   "source": []
  }
 ],
 "metadata": {
  "colab": {
   "collapsed_sections": [],
   "name": "Enron_Intent_Detection - TF-IDF.ipynb",
   "provenance": []
  },
  "kernelspec": {
   "display_name": "Python 3",
   "language": "python",
   "name": "python3"
  },
  "language_info": {
   "codemirror_mode": {
    "name": "ipython",
    "version": 3
   },
   "file_extension": ".py",
   "mimetype": "text/x-python",
   "name": "python",
   "nbconvert_exporter": "python",
   "pygments_lexer": "ipython3",
   "version": "3.7.3"
  }
 },
 "nbformat": 4,
 "nbformat_minor": 1
}
