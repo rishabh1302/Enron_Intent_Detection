{
 "cells": [
  {
   "cell_type": "markdown",
   "metadata": {
    "colab_type": "text",
    "id": "-ExzPI0_-rdl"
   },
   "source": [
    "# Intent Detection - Enron - Binary Text Classification\n"
   ]
  },
  {
   "cell_type": "code",
   "execution_count": 1,
   "metadata": {
    "colab": {},
    "colab_type": "code",
    "id": "QqbyErpA9-2M"
   },
   "outputs": [],
   "source": [
    "import pandas as pd\n",
    "import re\n",
    "from nltk.stem import WordNetLemmatizer\n",
    "from nltk import word_tokenize\n",
    "from nltk.corpus import stopwords\n",
    "from sklearn.model_selection import train_test_split\n",
    "from sklearn.pipeline import Pipeline\n",
    "from sklearn.feature_extraction.text import TfidfVectorizer\n",
    "from sklearn.metrics import accuracy_score, f1_score\n",
    "from sklearn.metrics import classification_report"
   ]
  },
  {
   "cell_type": "code",
   "execution_count": 2,
   "metadata": {
    "colab": {},
    "colab_type": "code",
    "id": "XcE_YVhY9-2Y"
   },
   "outputs": [],
   "source": [
    "df_train=pd.read_csv(\"enron_train.txt\",sep=\"\\t\",header=None)\n",
    "df_test=pd.read_csv(\"enron_test.txt\",sep=\"\\t\",header=None)"
   ]
  },
  {
   "cell_type": "code",
   "execution_count": 3,
   "metadata": {
    "colab": {},
    "colab_type": "code",
    "id": "nHbsVyq79-2f"
   },
   "outputs": [],
   "source": [
    "df_train.columns=[\"pred\",\"content\"]\n",
    "df_test.columns=[\"pred\",\"content\"]"
   ]
  },
  {
   "cell_type": "code",
   "execution_count": 4,
   "metadata": {
    "colab": {
     "base_uri": "https://localhost:8080/",
     "height": 68
    },
    "colab_type": "code",
    "id": "9-CjYJVR9-2m",
    "outputId": "b5ea9fad-32a1-483e-c954-622358dada70"
   },
   "outputs": [
    {
     "data": {
      "text/plain": [
       "No     1938\n",
       "Yes    1719\n",
       "Name: pred, dtype: int64"
      ]
     },
     "execution_count": 4,
     "metadata": {},
     "output_type": "execute_result"
    }
   ],
   "source": [
    "df_train['pred'].value_counts()"
   ]
  },
  {
   "cell_type": "code",
   "execution_count": 5,
   "metadata": {
    "colab": {
     "base_uri": "https://localhost:8080/",
     "height": 68
    },
    "colab_type": "code",
    "id": "wxk_1Bvo9-2w",
    "outputId": "fd12c272-ab40-47b5-f47d-4043ce875fce"
   },
   "outputs": [
    {
     "data": {
      "text/plain": [
       "No     683\n",
       "Yes    309\n",
       "Name: pred, dtype: int64"
      ]
     },
     "execution_count": 5,
     "metadata": {},
     "output_type": "execute_result"
    }
   ],
   "source": [
    "df_test['pred'].value_counts()"
   ]
  },
  {
   "cell_type": "markdown",
   "metadata": {},
   "source": [
    "# Step 1 : Data Preprocessing - Expanding contractions & data cleaning"
   ]
  },
  {
   "cell_type": "code",
   "execution_count": 6,
   "metadata": {
    "colab": {},
    "colab_type": "code",
    "id": "X7mYdt_n9-23"
   },
   "outputs": [],
   "source": [
    "cList = {\n",
    "  \"ain't\": \"am not\",\n",
    "  \"aren't\": \"are not\",\n",
    "  \"can't\": \"cannot\",\n",
    "  \"can't've\": \"cannot have\",\n",
    "  \"'cause\": \"because\",\n",
    "  \"could've\": \"could have\",\n",
    "  \"couldn't\": \"could not\",\n",
    "  \"couldn't've\": \"could not have\",\n",
    "  \"didn't\": \"did not\",\n",
    "  \"doesn't\": \"does not\",\n",
    "  \"don't\": \"do not\",\n",
    "  \"hadn't\": \"had not\",\n",
    "  \"hadn't've\": \"had not have\",\n",
    "  \"hasn't\": \"has not\",\n",
    "  \"haven't\": \"have not\",\n",
    "  \"he'd\": \"he would\",\n",
    "  \"he'd've\": \"he would have\",\n",
    "  \"he'll\": \"he will\",\n",
    "  \"he'll've\": \"he will have\",\n",
    "  \"he's\": \"he is\",\n",
    "  \"how'd\": \"how did\",\n",
    "  \"how'd'y\": \"how do you\",\n",
    "  \"how'll\": \"how will\",\n",
    "  \"how's\": \"how is\",\n",
    "  \"I'd\": \"I would\",\n",
    "  \"I'd've\": \"I would have\",\n",
    "  \"I'll\": \"I will\",\n",
    "  \"I'll've\": \"I will have\",\n",
    "  \"I'm\": \"I am\",\n",
    "  \"I've\": \"I have\",\n",
    "  \"isn't\": \"is not\",\n",
    "  \"it'd\": \"it had\",\n",
    "  \"it'd've\": \"it would have\",\n",
    "  \"it'll\": \"it will\",\n",
    "  \"it'll've\": \"it will have\",\n",
    "  \"it's\": \"it is\",\n",
    "  \"let's\": \"let us\",\n",
    "  \"ma'am\": \"madam\",\n",
    "  \"mayn't\": \"may not\",\n",
    "  \"might've\": \"might have\",\n",
    "  \"mightn't\": \"might not\",\n",
    "  \"mightn't've\": \"might not have\",\n",
    "  \"must've\": \"must have\",\n",
    "  \"mustn't\": \"must not\",\n",
    "  \"mustn't've\": \"must not have\",\n",
    "  \"needn't\": \"need not\",\n",
    "  \"needn't've\": \"need not have\",\n",
    "  \"o'clock\": \"of the clock\",\n",
    "  \"oughtn't\": \"ought not\",\n",
    "  \"oughtn't've\": \"ought not have\",\n",
    "  \"shan't\": \"shall not\",\n",
    "  \"sha'n't\": \"shall not\",\n",
    "  \"shan't've\": \"shall not have\",\n",
    "  \"she'd\": \"she would\",\n",
    "  \"she'd've\": \"she would have\",\n",
    "  \"she'll\": \"she will\",\n",
    "  \"she'll've\": \"she will have\",\n",
    "  \"she's\": \"she is\",\n",
    "  \"should've\": \"should have\",\n",
    "  \"shouldn't\": \"should not\",\n",
    "  \"shouldn't've\": \"should not have\",\n",
    "  \"so've\": \"so have\",\n",
    "  \"so's\": \"so is\",\n",
    "  \"that'd\": \"that would\",\n",
    "  \"that'd've\": \"that would have\",\n",
    "  \"that's\": \"that is\",\n",
    "  \"there'd\": \"there had\",\n",
    "  \"there'd've\": \"there would have\",\n",
    "  \"there's\": \"there is\",\n",
    "  \"they'd\": \"they would\",\n",
    "  \"they'd've\": \"they would have\",\n",
    "  \"they'll\": \"they will\",\n",
    "  \"they'll've\": \"they will have\",\n",
    "  \"they're\": \"they are\",\n",
    "  \"they've\": \"they have\",\n",
    "  \"to've\": \"to have\",\n",
    "  \"wasn't\": \"was not\",\n",
    "  \"we'd\": \"we had\",\n",
    "  \"we'd've\": \"we would have\",\n",
    "  \"we'll\": \"we will\",\n",
    "  \"we'll've\": \"we will have\",\n",
    "  \"we're\": \"we are\",\n",
    "  \"we've\": \"we have\",\n",
    "  \"weren't\": \"were not\",\n",
    "  \"what'll\": \"what will\",\n",
    "  \"what'll've\": \"what will have\",\n",
    "  \"what're\": \"what are\",\n",
    "  \"what's\": \"what is\",\n",
    "  \"what've\": \"what have\",\n",
    "  \"when's\": \"when is\",\n",
    "  \"when've\": \"when have\",\n",
    "  \"where'd\": \"where did\",\n",
    "  \"where's\": \"where is\",\n",
    "  \"where've\": \"where have\",\n",
    "  \"who'll\": \"who will\",\n",
    "  \"who'll've\": \"who will have\",\n",
    "  \"who's\": \"who is\",\n",
    "  \"who've\": \"who have\",\n",
    "  \"why's\": \"why is\",\n",
    "  \"why've\": \"why have\",\n",
    "  \"will've\": \"will have\",\n",
    "  \"won't\": \"will not\",\n",
    "  \"won't've\": \"will not have\",\n",
    "  \"would've\": \"would have\",\n",
    "  \"wouldn't\": \"would not\",\n",
    "  \"wouldn't've\": \"would not have\",\n",
    "  \"y'all\": \"you all\",\n",
    "  \"y'alls\": \"you alls\",\n",
    "  \"y'all'd\": \"you all would\",\n",
    "  \"y'all'd've\": \"you all would have\",\n",
    "  \"y'all're\": \"you all are\",\n",
    "  \"y'all've\": \"you all have\",\n",
    "  \"you'd\": \"you had\",\n",
    "  \"you'd've\": \"you would have\",\n",
    "  \"you'll\": \"you you will\",\n",
    "  \"you'll've\": \"you you will have\",\n",
    "  \"you're\": \"you are\",\n",
    "  \"you've\": \"you have\"\n",
    "}\n",
    "\n",
    "c_re = re.compile('(%s)' % '|'.join(cList.keys()))\n",
    "\n",
    "def expandContractions(text, c_re=c_re):\n",
    "    def replace(match):\n",
    "        return cList[match.group(0)]\n",
    "    return c_re.sub(replace, text)"
   ]
  },
  {
   "cell_type": "code",
   "execution_count": 7,
   "metadata": {},
   "outputs": [],
   "source": [
    "REPLACE_BY_SPACE_RE = re.compile('[/(){}\\[\\]\\|@,?#]')\n",
    "def clean_text(text):\n",
    "    text = text.lower()\n",
    "    text = text.strip()\n",
    "    text = text.lstrip()   \n",
    "    text = text.rstrip()\n",
    "    text = expandContractions(text)\n",
    "    text = re.sub('[^a-zA-Z ]',\" \",text)\n",
    "    text = re.sub(\"'ll\",\" \",text)\n",
    "    text = REPLACE_BY_SPACE_RE.sub(' ', text)\n",
    "    text = re.sub(r\"https?://(?:[-\\w.]|(?:%[\\da-fA-F]{2}))+\",\" \",text)\n",
    "    text = re.sub(r\"\\$\\d+\", \" \",text)\n",
    "    text = re.sub(r'[\\w\\.-]+@[\\w\\.-]+', \" \",text) \n",
    "    return text"
   ]
  },
  {
   "cell_type": "code",
   "execution_count": 8,
   "metadata": {
    "colab": {},
    "colab_type": "code",
    "id": "f9kUt0BJ9-3B"
   },
   "outputs": [
    {
     "data": {
      "text/plain": [
       "'REPLACE_BY_SPACE_RE = re.compile(\\'[/(){}\\\\[\\\\]\\\\|@,?#]\\')\\ndef clean_text(text):\\n    text = text.lower()\\n    text = text.strip()\\n    text = text.lstrip()   \\n    text = text.rstrip()\\n    text = expandContractions(text)\\n    text = REPLACE_BY_SPACE_RE.sub(\\' \\', text)\\n    text = re.sub(r\"https?://(?:[-\\\\w.]|(?:%[\\\\da-fA-F]{2}))+\",\"$WEBLINKS\",text)\\n    text = re.sub(r\"\\\\$\\\\d+\", \"$CASH\",text)\\n    text = re.sub(r\\'[\\\\w\\\\.-]+@[\\\\w\\\\.-]+\\', \"$EMAIL\",text)\\n    text = re.sub(r\\'\\x08(me|her|him|us|them|there|that)\\x08\\', \"$NOUN\",text)  \\n    return text\\n\\n'"
      ]
     },
     "execution_count": 8,
     "metadata": {},
     "output_type": "execute_result"
    }
   ],
   "source": [
    "'''REPLACE_BY_SPACE_RE = re.compile('[/(){}\\[\\]\\|@,?#]')\n",
    "def clean_text(text):\n",
    "    text = text.lower()\n",
    "    text = text.strip()\n",
    "    text = text.lstrip()   \n",
    "    text = text.rstrip()\n",
    "    text = expandContractions(text)\n",
    "    text = REPLACE_BY_SPACE_RE.sub(' ', text)\n",
    "    text = re.sub(r\"https?://(?:[-\\w.]|(?:%[\\da-fA-F]{2}))+\",\"$WEBLINKS\",text)\n",
    "    text = re.sub(r\"\\$\\d+\", \"$CASH\",text)\n",
    "    text = re.sub(r'[\\w\\.-]+@[\\w\\.-]+', \"$EMAIL\",text)\n",
    "    text = re.sub(r'\\b(me|her|him|us|them|there|that)\\b', \"$NOUN\",text)  \n",
    "    return text\n",
    "\n",
    "'''"
   ]
  },
  {
   "cell_type": "code",
   "execution_count": 9,
   "metadata": {
    "colab": {},
    "colab_type": "code",
    "id": "2ZxZFlUo9-3H"
   },
   "outputs": [],
   "source": [
    "df_train['content'] = df_train['content'].astype(str).apply(clean_text)\n",
    "df_test['content'] = df_test['content'].astype(str).apply(clean_text)"
   ]
  },
  {
   "cell_type": "code",
   "execution_count": 10,
   "metadata": {
    "colab": {},
    "colab_type": "code",
    "id": "kWTJmeC89-3N"
   },
   "outputs": [],
   "source": [
    "df_train.to_excel('train_analyze.xlsx')\n",
    "df_test.to_excel('test_analyze.xlsx')"
   ]
  },
  {
   "cell_type": "code",
   "execution_count": 11,
   "metadata": {},
   "outputs": [],
   "source": [
    "STOPWORDS = set(stopwords.words('english'))"
   ]
  },
  {
   "cell_type": "code",
   "execution_count": 12,
   "metadata": {
    "colab": {},
    "colab_type": "code",
    "id": "dUuJo8Hv9-3R"
   },
   "outputs": [],
   "source": [
    "lemmatizer = WordNetLemmatizer()\n",
    "\n",
    "def tokenizer(text):\n",
    "    return [lemmatizer.lemmatize(word) for word in word_tokenize(text) if len(word)>2 and (word not in STOPWORDS)]"
   ]
  },
  {
   "cell_type": "markdown",
   "metadata": {},
   "source": [
    "# Create TF-IDF Vectors"
   ]
  },
  {
   "cell_type": "code",
   "execution_count": 13,
   "metadata": {
    "colab": {},
    "colab_type": "code",
    "id": "0x5tnzjH9-3U"
   },
   "outputs": [],
   "source": [
    "from sklearn.feature_extraction.text import TfidfVectorizer\n",
    "tfidf_vec = TfidfVectorizer(min_df=0.01,stop_words=STOPWORDS)\n",
    "X_train_tfidf = tfidf_vec.fit_transform(df_train['content'])"
   ]
  },
  {
   "cell_type": "code",
   "execution_count": 14,
   "metadata": {},
   "outputs": [
    {
     "name": "stdout",
     "output_type": "stream",
     "text": [
      "{'able': 5.42048219503255, 'access': 5.541110182821164, 'account': 5.33347081804292, 'add': 5.144228818404391, 'address': 4.750324532697303, 'also': 4.693812322433961, 'app': 5.567085669224425, 'attached': 5.515792374836875, 'available': 4.65079493735027, 'back': 4.785831221154213, 'best': 5.515792374836875, 'book': 5.567085669224425, 'business': 5.4670022106674425, 'call': 3.7324011552793364, 'check': 4.970565324353552, 'click': 5.0937979647775, 'com': 4.59950164296272, 'come': 5.179320138215662, 'conference': 5.354524227240752, 'contact': 5.061537102559278, 'copy': 5.4434717132572485, 'could': 4.27019789582012, 'day': 4.900606735746641, 'days': 5.515792374836875, 'deal': 5.42048219503255, 'dinner': 5.376030432461716, 'discuss': 3.8386958139289598, 'email': 3.962924813891169, 'enron': 5.015017086924385, 'feel': 5.567085669224425, 'find': 5.161620561116261, 'first': 5.376030432461716, 'follow': 5.541110182821164, 'following': 5.4434717132572485, 'forward': 4.36048474249222, 'free': 4.822645194276929, 'friday': 5.179320138215662, 'gas': 5.253428110369383, 'get': 3.225786064049689, 'getting': 4.8871837154145, 'give': 4.277418143793606, 'given': 5.541110182821164, 'go': 4.57969901566654, 'going': 4.860866407097127, 'good': 5.398009339180491, 'great': 5.398009339180491, 'group': 5.354524227240752, 'help': 4.504191463158395, 'information': 4.773855030107498, 'issues': 5.015017086924385, 'join': 5.11032726672871, 'keep': 5.491099762246503, 'know': 3.8964041315496063, 'last': 5.161620561116261, 'let': 3.9897360713418255, 'like': 3.5417113488148653, 'link': 4.011714978060601, 'list': 5.127134385045092, 'look': 5.030284559055174, 'lunch': 5.33347081804292, 'mail': 4.442497894153055, 'make': 3.9576477567903248, 'may': 4.65079493735027, 'meet': 4.785831221154213, 'meeting': 4.27019789582012, 'message': 5.3128515308401845, 'might': 5.253428110369383, 'monday': 4.822645194276929, 'need': 4.117075493718427, 'new': 4.59950164296272, 'next': 4.451081637844446, 'night': 5.4670022106674425, 'number': 5.33347081804292, 'one': 4.682883251901771, 'phone': 5.4434717132572485, 'please': 2.6767139113282603, 'pm': 5.515792374836875, 'possible': 5.061537102559278, 'power': 5.567085669224425, 'provide': 5.541110182821164, 'questions': 4.860866407097127, 'receive': 4.928005709934755, 'review': 5.253428110369383, 'right': 5.0937979647775, 'schedule': 5.144228818404391, 'see': 4.5699428407211755, 'send': 4.214239242172075, 'set': 5.292648823522665, 'share': 5.42048219503255, 'still': 5.491099762246503, 'support': 5.376030432461716, 'sure': 4.956176586901452, 'take': 4.810222674278372, 'talk': 5.11032726672871, 'th': 5.0937979647775, 'think': 4.661377046680807, 'thursday': 5.292648823522665, 'time': 4.207459555186696, 'today': 4.738763710296228, 'together': 4.91421238780242, 'tomorrow': 4.425548335839282, 'try': 4.970565324353552, 'two': 5.491099762246503, 'us': 3.7536333753851103, 'use': 4.970565324353552, 'visit': 5.015017086924385, 'want': 3.628722725804495, 'wednesday': 5.541110182821164, 'week': 4.2418271986909035, 'work': 5.015017086924385, 'would': 3.4208466466210736}\n"
     ]
    }
   ],
   "source": [
    "print(dict(zip(tfidf_vec.get_feature_names(), tfidf_vec.idf_)))"
   ]
  },
  {
   "cell_type": "code",
   "execution_count": 15,
   "metadata": {},
   "outputs": [],
   "source": [
    "X_test_tfidf  = tfidf_vec.transform(df_test['content'])"
   ]
  },
  {
   "cell_type": "code",
   "execution_count": 16,
   "metadata": {
    "colab": {
     "base_uri": "https://localhost:8080/",
     "height": 51
    },
    "colab_type": "code",
    "id": "rGHkx0bD9-3Z",
    "outputId": "1701ee91-b9d1-4fe0-e8ef-ff66874117bd"
   },
   "outputs": [
    {
     "name": "stdout",
     "output_type": "stream",
     "text": [
      "Train Shape :  (3657, 111)\n",
      "Test Shape  :  (992, 111)\n"
     ]
    }
   ],
   "source": [
    "print(\"Train Shape : \",X_train_tfidf.shape)\n",
    "print(\"Test Shape  : \",X_test_tfidf.shape)"
   ]
  },
  {
   "cell_type": "code",
   "execution_count": 17,
   "metadata": {
    "colab": {},
    "colab_type": "code",
    "id": "f9ZJGQhT9-3d"
   },
   "outputs": [],
   "source": [
    "train_pred=df_train[\"pred\"]\n",
    "test_pred=df_test[\"pred\"]"
   ]
  },
  {
   "cell_type": "markdown",
   "metadata": {
    "colab_type": "text",
    "id": "Ay9Ck4Vh9-3h"
   },
   "source": [
    "# Splitting Original Training Set into 80% Train & 20% Validation"
   ]
  },
  {
   "cell_type": "code",
   "execution_count": 18,
   "metadata": {
    "colab": {},
    "colab_type": "code",
    "id": "DE2GScaD9-3i"
   },
   "outputs": [],
   "source": [
    "from sklearn.model_selection import train_test_split"
   ]
  },
  {
   "cell_type": "code",
   "execution_count": 19,
   "metadata": {
    "colab": {},
    "colab_type": "code",
    "id": "R9j5roeA9-3l"
   },
   "outputs": [],
   "source": [
    "X_train,X_val,Y_train,Y_val=train_test_split(X_train_tfidf,train_pred,test_size=.20,random_state=40)"
   ]
  },
  {
   "cell_type": "markdown",
   "metadata": {
    "colab_type": "text",
    "id": "1BISPTQS9-3q"
   },
   "source": [
    "# Changing predictor values into numerics"
   ]
  },
  {
   "cell_type": "code",
   "execution_count": 20,
   "metadata": {
    "colab": {},
    "colab_type": "code",
    "id": "cOemjP959-3r"
   },
   "outputs": [],
   "source": [
    "Y_train=Y_train.map({\"No\":0,\"Yes\":1})\n",
    "Y_val=Y_val.map({\"No\":0,\"Yes\":1})"
   ]
  },
  {
   "cell_type": "markdown",
   "metadata": {
    "colab_type": "text",
    "id": "WsuDGHEq9-3v"
   },
   "source": [
    "# Checking Validation Accuracy with various classifiers"
   ]
  },
  {
   "cell_type": "code",
   "execution_count": 21,
   "metadata": {
    "colab": {},
    "colab_type": "code",
    "id": "SaZ_3KQf9-3w"
   },
   "outputs": [
    {
     "name": "stderr",
     "output_type": "stream",
     "text": [
      "C:\\Users\\risha\\Anaconda3\\lib\\site-packages\\dask\\config.py:168: YAMLLoadWarning: calling yaml.load() without Loader=... is deprecated, as the default Loader is unsafe. Please read https://msg.pyyaml.org/load for full details.\n",
      "  data = yaml.load(f.read()) or {}\n",
      "C:\\Users\\risha\\Anaconda3\\lib\\site-packages\\distributed\\config.py:20: YAMLLoadWarning: calling yaml.load() without Loader=... is deprecated, as the default Loader is unsafe. Please read https://msg.pyyaml.org/load for full details.\n",
      "  defaults = yaml.load(f)\n"
     ]
    }
   ],
   "source": [
    "from sklearn.linear_model import LogisticRegression\n",
    "from sklearn.svm import SVC\n",
    "from sklearn.naive_bayes import MultinomialNB\n",
    "from sklearn.neighbors import KNeighborsClassifier \n",
    "from sklearn.ensemble import RandomForestClassifier\n",
    "from lightgbm import LGBMClassifier\n",
    "import xgboost as xgb\n",
    "from xgboost.sklearn import XGBClassifier"
   ]
  },
  {
   "cell_type": "code",
   "execution_count": 22,
   "metadata": {
    "colab": {},
    "colab_type": "code",
    "id": "Cvmji2F49-31"
   },
   "outputs": [],
   "source": [
    "svc = SVC(kernel='rbf', gamma=\"scale\")\n",
    "knc = KNeighborsClassifier(n_neighbors=49)\n",
    "mnb = MultinomialNB(alpha=0.2)\n",
    "lrc = LogisticRegression(solver='liblinear', penalty='l2',C=10.)\n",
    "rfc = RandomForestClassifier(n_estimators=500, random_state=111,n_jobs=-1,max_depth=10,max_features='sqrt')\n",
    "lgbm = LGBMClassifier(n_estimators=200,learning_rate=0.3,max_depth=8,max_features=\"sqrt\")\n",
    "xgb = XGBClassifier(n_estimators=150,learning_rate=0.2)"
   ]
  },
  {
   "cell_type": "code",
   "execution_count": 23,
   "metadata": {
    "colab": {},
    "colab_type": "code",
    "id": "xTB_MTS99-34"
   },
   "outputs": [],
   "source": [
    "clfs = {'SVC' : svc,'KN' : knc, 'NB': mnb, 'LR': lrc, 'RF': rfc,'LGBM':lgbm,'XGB':xgb}"
   ]
  },
  {
   "cell_type": "markdown",
   "metadata": {},
   "source": [
    "## Writing some standard functions to run all classifiers easily"
   ]
  },
  {
   "cell_type": "code",
   "execution_count": 24,
   "metadata": {
    "colab": {},
    "colab_type": "code",
    "id": "90xnl8ja9-38"
   },
   "outputs": [],
   "source": [
    "def train(clf, features, targets):    \n",
    "    clf.fit(features, targets)\n",
    "\n",
    "def predict(clf, features):\n",
    "    return (clf.predict(features))"
   ]
  },
  {
   "cell_type": "code",
   "execution_count": 25,
   "metadata": {
    "colab": {},
    "colab_type": "code",
    "id": "_6IwXOFH9-3_"
   },
   "outputs": [],
   "source": [
    "pred_scores_word_vectors = []\n",
    "for k,v in clfs.items():\n",
    "    train(v, X_train, Y_train)\n",
    "    pred = predict(v, X_val)\n",
    "    pred_scores_word_vectors.append((k, [accuracy_score(Y_val,pred)]))"
   ]
  },
  {
   "cell_type": "markdown",
   "metadata": {},
   "source": [
    "## Let's check the validation accuracy scores"
   ]
  },
  {
   "cell_type": "code",
   "execution_count": 26,
   "metadata": {
    "colab": {
     "base_uri": "https://localhost:8080/",
     "height": 80
    },
    "colab_type": "code",
    "id": "1Q2oQZzt9-4D",
    "outputId": "5f651f7a-b48c-4fd1-c266-f0f1cfab1c8b"
   },
   "outputs": [
    {
     "name": "stderr",
     "output_type": "stream",
     "text": [
      "C:\\Users\\risha\\Anaconda3\\lib\\site-packages\\ipykernel_launcher.py:1: FutureWarning: from_items is deprecated. Please use DataFrame.from_dict(dict(items), ...) instead. DataFrame.from_dict(OrderedDict(items)) may be used to preserve the key order.\n",
      "  \"\"\"Entry point for launching an IPython kernel.\n"
     ]
    },
    {
     "data": {
      "text/html": [
       "<div>\n",
       "<style scoped>\n",
       "    .dataframe tbody tr th:only-of-type {\n",
       "        vertical-align: middle;\n",
       "    }\n",
       "\n",
       "    .dataframe tbody tr th {\n",
       "        vertical-align: top;\n",
       "    }\n",
       "\n",
       "    .dataframe thead th {\n",
       "        text-align: right;\n",
       "    }\n",
       "</style>\n",
       "<table border=\"1\" class=\"dataframe\">\n",
       "  <thead>\n",
       "    <tr style=\"text-align: right;\">\n",
       "      <th></th>\n",
       "      <th>Score</th>\n",
       "    </tr>\n",
       "  </thead>\n",
       "  <tbody>\n",
       "    <tr>\n",
       "      <th>SVC</th>\n",
       "      <td>0.706284</td>\n",
       "    </tr>\n",
       "    <tr>\n",
       "      <th>KN</th>\n",
       "      <td>0.598361</td>\n",
       "    </tr>\n",
       "    <tr>\n",
       "      <th>NB</th>\n",
       "      <td>0.707650</td>\n",
       "    </tr>\n",
       "    <tr>\n",
       "      <th>LR</th>\n",
       "      <td>0.724044</td>\n",
       "    </tr>\n",
       "    <tr>\n",
       "      <th>RF</th>\n",
       "      <td>0.722678</td>\n",
       "    </tr>\n",
       "    <tr>\n",
       "      <th>LGBM</th>\n",
       "      <td>0.728142</td>\n",
       "    </tr>\n",
       "    <tr>\n",
       "      <th>XGB</th>\n",
       "      <td>0.725410</td>\n",
       "    </tr>\n",
       "  </tbody>\n",
       "</table>\n",
       "</div>"
      ],
      "text/plain": [
       "         Score\n",
       "SVC   0.706284\n",
       "KN    0.598361\n",
       "NB    0.707650\n",
       "LR    0.724044\n",
       "RF    0.722678\n",
       "LGBM  0.728142\n",
       "XGB   0.725410"
      ]
     },
     "execution_count": 26,
     "metadata": {},
     "output_type": "execute_result"
    }
   ],
   "source": [
    "predictions = pd.DataFrame.from_items(pred_scores_word_vectors,orient='index', columns=['Score'])\n",
    "predictions"
   ]
  },
  {
   "cell_type": "markdown",
   "metadata": {},
   "source": [
    "# As we can see above, the validation accuracy for majority of the classifiers is close to 72%"
   ]
  },
  {
   "cell_type": "code",
   "execution_count": 27,
   "metadata": {
    "colab": {},
    "colab_type": "code",
    "id": "IEKBQeCX9-4H"
   },
   "outputs": [],
   "source": [
    "import matplotlib.pyplot as plt\n",
    "import numpy as np"
   ]
  },
  {
   "cell_type": "code",
   "execution_count": 28,
   "metadata": {
    "colab": {
     "base_uri": "https://localhost:8080/",
     "height": 332
    },
    "colab_type": "code",
    "id": "eeGdwOXp9-4L",
    "outputId": "04e53d74-481a-4142-e807-9877e332ba00"
   },
   "outputs": [
    {
     "data": {
      "image/png": "[encoded data removed]",
      "text/plain": [
       "<Figure size 504x360 with 1 Axes>"
      ]
     },
     "metadata": {
      "needs_background": "light"
     },
     "output_type": "display_data"
    }
   ],
   "source": [
    "predictions.plot(kind='bar', ylim=(0.3,0.9), figsize=(7,5), align='center', colormap=\"Accent\")\n",
    "plt.xticks(np.arange(7), predictions.index)\n",
    "\n",
    "plt.ylabel('Validation Accuracy Score')\n",
    "plt.title('Distribution by Classifier')\n",
    "plt.legend(bbox_to_anchor=(1.05, 1), loc=2, borderaxespad=0.)\n",
    "plt.show()"
   ]
  },
  {
   "cell_type": "markdown",
   "metadata": {
    "colab_type": "text",
    "id": "UI37i3Uu9-4S"
   },
   "source": [
    "## Let's test our models on the test set provided with our various classifiers"
   ]
  },
  {
   "cell_type": "code",
   "execution_count": 29,
   "metadata": {
    "colab": {},
    "colab_type": "code",
    "id": "TEnUs6gq9-4T"
   },
   "outputs": [],
   "source": [
    "test_pred=test_pred.map({\"No\":0,\"Yes\":1})"
   ]
  },
  {
   "cell_type": "code",
   "execution_count": 30,
   "metadata": {
    "colab": {},
    "colab_type": "code",
    "id": "3Os3o27L9-4X"
   },
   "outputs": [],
   "source": [
    "tester = pd.DataFrame()"
   ]
  },
  {
   "cell_type": "code",
   "execution_count": 31,
   "metadata": {
    "colab": {},
    "colab_type": "code",
    "id": "ewhCHuRx9-4a"
   },
   "outputs": [],
   "source": [
    "tester['LR_Model']=lrc.predict(X_test_tfidf)\n",
    "tester['SVC_Model']=svc.predict(X_test_tfidf)\n",
    "tester['RF_Model']=rfc.predict(X_test_tfidf)\n",
    "tester['KNC_Model']=knc.predict(X_test_tfidf)\n",
    "tester['NB_Model']=mnb.predict(X_test_tfidf)\n",
    "tester['LGBM_Model']=lgbm.predict(X_test_tfidf)\n",
    "tester['XGB_Model']=xgb.predict(X_test_tfidf)"
   ]
  },
  {
   "cell_type": "markdown",
   "metadata": {
    "colab_type": "text",
    "id": "LyrtsS529-4e"
   },
   "source": [
    "## Logistic Regression Model"
   ]
  },
  {
   "cell_type": "code",
   "execution_count": 32,
   "metadata": {
    "colab": {
     "base_uri": "https://localhost:8080/",
     "height": 221
    },
    "colab_type": "code",
    "id": "9JyDKOyG9-4e",
    "outputId": "fc099ab7-37c5-4453-9deb-d264c46b5d55"
   },
   "outputs": [
    {
     "name": "stdout",
     "output_type": "stream",
     "text": [
      "Testing accuracy: 0.7691532258064516\n",
      "Classification Report:\n",
      "              precision    recall  f1-score   support\n",
      "\n",
      "           0       0.81      0.85      0.83       648\n",
      "           1       0.69      0.62      0.65       344\n",
      "\n",
      "   micro avg       0.77      0.77      0.77       992\n",
      "   macro avg       0.75      0.73      0.74       992\n",
      "weighted avg       0.76      0.77      0.77       992\n",
      "\n"
     ]
    }
   ],
   "source": [
    "print('Testing accuracy: %s' % accuracy_score(tester['LR_Model'],test_pred))\n",
    "print('Classification Report:')\n",
    "print(classification_report(tester['LR_Model'],test_pred))"
   ]
  },
  {
   "cell_type": "markdown",
   "metadata": {
    "colab_type": "text",
    "id": "5_dRzcaI9-4k"
   },
   "source": [
    "## SVC Model"
   ]
  },
  {
   "cell_type": "code",
   "execution_count": 33,
   "metadata": {
    "colab": {
     "base_uri": "https://localhost:8080/",
     "height": 221
    },
    "colab_type": "code",
    "id": "NmqGOHHp9-4k",
    "outputId": "b2b95222-d922-4faf-f004-5924c7f400d9"
   },
   "outputs": [
    {
     "name": "stdout",
     "output_type": "stream",
     "text": [
      "Testing accuracy: 0.7872983870967742\n",
      "Classification Report:\n",
      "              precision    recall  f1-score   support\n",
      "\n",
      "           0       0.88      0.82      0.85       730\n",
      "           1       0.58      0.69      0.63       262\n",
      "\n",
      "   micro avg       0.79      0.79      0.79       992\n",
      "   macro avg       0.73      0.76      0.74       992\n",
      "weighted avg       0.80      0.79      0.79       992\n",
      "\n"
     ]
    }
   ],
   "source": [
    "print('Testing accuracy: %s' % accuracy_score(tester['SVC_Model'],test_pred))\n",
    "print('Classification Report:')\n",
    "print(classification_report(tester['SVC_Model'],test_pred))"
   ]
  },
  {
   "cell_type": "markdown",
   "metadata": {
    "colab_type": "text",
    "id": "V_0LA5sK9-4o"
   },
   "source": [
    "## Random Forest Model"
   ]
  },
  {
   "cell_type": "code",
   "execution_count": 34,
   "metadata": {
    "colab": {
     "base_uri": "https://localhost:8080/",
     "height": 221
    },
    "colab_type": "code",
    "id": "8TMFIEBq9-4q",
    "outputId": "33fbf589-ece2-4623-881f-7518c3ef27e2"
   },
   "outputs": [
    {
     "name": "stdout",
     "output_type": "stream",
     "text": [
      "Testing accuracy: 0.7903225806451613\n",
      "Classification Report:\n",
      "              precision    recall  f1-score   support\n",
      "\n",
      "           0       0.89      0.82      0.85       743\n",
      "           1       0.57      0.70      0.63       249\n",
      "\n",
      "   micro avg       0.79      0.79      0.79       992\n",
      "   macro avg       0.73      0.76      0.74       992\n",
      "weighted avg       0.81      0.79      0.80       992\n",
      "\n"
     ]
    }
   ],
   "source": [
    "print('Testing accuracy: %s' % accuracy_score(tester['RF_Model'],test_pred))\n",
    "print('Classification Report:')\n",
    "print(classification_report(tester['RF_Model'],test_pred))"
   ]
  },
  {
   "cell_type": "markdown",
   "metadata": {},
   "source": [
    "## Checking Feature Importances of RFC using TF-IDF"
   ]
  },
  {
   "cell_type": "code",
   "execution_count": 35,
   "metadata": {},
   "outputs": [
    {
     "name": "stdout",
     "output_type": "stream",
     "text": [
      "[(0.0011141416580911136, 'able'), (0.0010760165374051206, 'access'), (0.0020340826202232096, 'account'), (0.004304760143888287, 'add'), (0.0028159115398376264, 'address'), (0.0027537380845503896, 'also'), (0.0017226600144843436, 'app'), (0.0004736870143240584, 'attached'), (0.002012650651910703, 'available'), (0.002758667391397481, 'back'), (0.000550933921011666, 'best'), (0.0023894214954763297, 'book'), (0.0015742495731019806, 'business'), (0.08688040794261087, 'call'), (0.002405506458533947, 'check'), (0.0043079208466673576, 'click'), (0.0029373106805670743, 'com'), (0.004183103685504146, 'come'), (0.0020915951453901876, 'conference'), (0.003691530363516496, 'contact'), (0.0056464763492734904, 'copy'), (0.023547563186358186, 'could'), (0.0032440399355784214, 'day'), (0.0010788934815688879, 'days'), (0.0007508779665398203, 'deal'), (0.0013152425193534746, 'dinner'), (0.11509886253008532, 'discuss'), (0.006756419557168841, 'email'), (0.002388628736148121, 'enron'), (0.0015530876992287457, 'feel'), (0.0022044880693714904, 'find'), (0.0016276848653005284, 'first'), (0.003047541756141035, 'follow'), (0.001013537526468248, 'following'), (0.0015713146044379663, 'forward'), (0.001931969765198656, 'free'), (0.0016635744902849501, 'friday'), (0.0021556887834382667, 'gas'), (0.008341700375143996, 'get'), (0.008715300796136598, 'getting'), (0.017534439123534716, 'give'), (0.002029867947262202, 'given'), (0.0038985487633769605, 'go'), (0.001996220401349928, 'going'), (0.001268749339855253, 'good'), (0.0011290550308358316, 'great'), (0.0018561259925310364, 'group'), (0.0036837008306815884, 'help'), (0.0029984909509132305, 'information'), (0.001746655192602014, 'issues'), (0.019383970619163363, 'join'), (0.0014563293235656122, 'keep'), (0.029023068467429407, 'know'), (0.0014254959648974646, 'last'), (0.05371372654950533, 'let'), (0.012394852028883598, 'like'), (0.008204252447244124, 'link'), (0.002636253087635787, 'list'), (0.0009417841347472552, 'look'), (0.011180537253142265, 'lunch'), (0.004472666344249916, 'mail'), (0.010330056511110106, 'make'), (0.0023294071589817222, 'may'), (0.04235353003860204, 'meet'), (0.0046829955187352905, 'meeting'), (0.0012612858429025715, 'message'), (0.0017954583007308443, 'might'), (0.0009524694147174005, 'monday'), (0.011292232060949607, 'need'), (0.004675584607039414, 'new'), (0.0031026231665872246, 'next'), (0.003031214594704464, 'night'), (0.0015609173437644707, 'number'), (0.002879595504691929, 'one'), (0.0028647842385358456, 'phone'), (0.2361208470440146, 'please'), (0.00027550941115460104, 'pm'), (0.0018443987591768008, 'possible'), (0.004219406170326309, 'power'), (0.0014632796939376277, 'provide'), (0.01074797996531304, 'questions'), (0.009503103608004857, 'receive'), (0.0033251120139700654, 'review'), (0.0009374711409398225, 'right'), (0.007915674806268619, 'schedule'), (0.0025956337252644643, 'see'), (0.008485748674384768, 'send'), (0.0038983956610764868, 'set'), (0.0004403610372356151, 'share'), (0.0008946078074285869, 'still'), (0.0015491819137959054, 'support'), (0.0026622666166932745, 'sure'), (0.0020687744117384383, 'take'), (0.007805471939451144, 'talk'), (0.0013983507649935238, 'th'), (0.0036635619009776073, 'think'), (0.000625653681113164, 'thursday'), (0.002276004041086638, 'time'), (0.0025559670241708976, 'today'), (0.005467922900387645, 'together'), (0.003449734804773635, 'tomorrow'), (0.004724907014822022, 'try'), (0.00128526698435129, 'two'), (0.014520442653839177, 'us'), (0.0029744855838811975, 'use'), (0.009823722740521203, 'visit'), (0.010881783264904727, 'want'), (0.001176048668260127, 'wednesday'), (0.0033379399987969716, 'week'), (0.0009469901728561455, 'work'), (0.02231986054291199, 'would')]\n"
     ]
    }
   ],
   "source": [
    "print(list(zip(rfc.feature_importances_,tfidf_vec.get_feature_names(),)))"
   ]
  },
  {
   "cell_type": "markdown",
   "metadata": {
    "colab_type": "text",
    "id": "_uxO2f3E9-4u"
   },
   "source": [
    "## K-Neighbours Classifier"
   ]
  },
  {
   "cell_type": "code",
   "execution_count": 36,
   "metadata": {
    "colab": {
     "base_uri": "https://localhost:8080/",
     "height": 221
    },
    "colab_type": "code",
    "id": "JH1bTvDE9-4u",
    "outputId": "af6bc44e-d4fd-47b4-fb6f-7f7c7492e5b3"
   },
   "outputs": [
    {
     "name": "stdout",
     "output_type": "stream",
     "text": [
      "Testing accuracy: 0.7298387096774194\n",
      "Classification Report:\n",
      "              precision    recall  f1-score   support\n",
      "\n",
      "           0       0.94      0.74      0.83       863\n",
      "           1       0.28      0.66      0.39       129\n",
      "\n",
      "   micro avg       0.73      0.73      0.73       992\n",
      "   macro avg       0.61      0.70      0.61       992\n",
      "weighted avg       0.85      0.73      0.77       992\n",
      "\n"
     ]
    }
   ],
   "source": [
    "print('Testing accuracy: %s' % accuracy_score(tester['KNC_Model'],test_pred))\n",
    "print('Classification Report:')\n",
    "print(classification_report(tester['KNC_Model'],test_pred))"
   ]
  },
  {
   "cell_type": "markdown",
   "metadata": {
    "colab_type": "text",
    "id": "QuJWjK4k9-4y"
   },
   "source": [
    "## Multinomial Naive Bayes Model"
   ]
  },
  {
   "cell_type": "code",
   "execution_count": 37,
   "metadata": {
    "colab": {
     "base_uri": "https://localhost:8080/",
     "height": 221
    },
    "colab_type": "code",
    "id": "o7xG5dmC9-4y",
    "outputId": "fbab8abe-c7a5-411c-a5cc-e77aa793de77"
   },
   "outputs": [
    {
     "name": "stdout",
     "output_type": "stream",
     "text": [
      "Testing accuracy: 0.7399193548387096\n",
      "Classification Report:\n",
      "              precision    recall  f1-score   support\n",
      "\n",
      "           0       0.78      0.83      0.81       647\n",
      "           1       0.64      0.57      0.61       345\n",
      "\n",
      "   micro avg       0.74      0.74      0.74       992\n",
      "   macro avg       0.71      0.70      0.71       992\n",
      "weighted avg       0.73      0.74      0.74       992\n",
      "\n"
     ]
    }
   ],
   "source": [
    "print('Testing accuracy: %s' % accuracy_score(tester['NB_Model'],test_pred))\n",
    "print('Classification Report:')\n",
    "print(classification_report(tester['NB_Model'],test_pred))"
   ]
  },
  {
   "cell_type": "markdown",
   "metadata": {},
   "source": [
    "## LGBM Classifier"
   ]
  },
  {
   "cell_type": "code",
   "execution_count": 38,
   "metadata": {},
   "outputs": [
    {
     "name": "stdout",
     "output_type": "stream",
     "text": [
      "Testing accuracy: 0.7338709677419355\n",
      "Classification Report:\n",
      "              precision    recall  f1-score   support\n",
      "\n",
      "           0       0.76      0.84      0.80       617\n",
      "           1       0.68      0.56      0.61       375\n",
      "\n",
      "   micro avg       0.73      0.73      0.73       992\n",
      "   macro avg       0.72      0.70      0.71       992\n",
      "weighted avg       0.73      0.73      0.73       992\n",
      "\n"
     ]
    }
   ],
   "source": [
    "print('Testing accuracy: %s' % accuracy_score(tester['LGBM_Model'],test_pred))\n",
    "print('Classification Report:')\n",
    "print(classification_report(tester['LGBM_Model'],test_pred))"
   ]
  },
  {
   "cell_type": "markdown",
   "metadata": {},
   "source": [
    "# XGBoost Model"
   ]
  },
  {
   "cell_type": "code",
   "execution_count": 39,
   "metadata": {},
   "outputs": [
    {
     "name": "stdout",
     "output_type": "stream",
     "text": [
      "Testing accuracy: 0.7560483870967742\n",
      "Classification Report:\n",
      "              precision    recall  f1-score   support\n",
      "\n",
      "           0       0.79      0.84      0.82       641\n",
      "           1       0.68      0.60      0.63       351\n",
      "\n",
      "   micro avg       0.76      0.76      0.76       992\n",
      "   macro avg       0.73      0.72      0.73       992\n",
      "weighted avg       0.75      0.76      0.75       992\n",
      "\n"
     ]
    }
   ],
   "source": [
    "print('Testing accuracy: %s' % accuracy_score(tester['XGB_Model'],test_pred))\n",
    "print('Classification Report:')\n",
    "print(classification_report(tester['XGB_Model'],test_pred))"
   ]
  },
  {
   "cell_type": "markdown",
   "metadata": {},
   "source": [
    "# Post analyzing the results, Random Forest has performed the best giving an accuracy of 77.7% on our test set. It's now time to tune these parameters using GridSearch"
   ]
  }
 ],
 "metadata": {
  "colab": {
   "collapsed_sections": [],
   "name": "Enron_Intent_Detection - TF-IDF.ipynb",
   "provenance": []
  },
  "kernelspec": {
   "display_name": "Python 3",
   "language": "python",
   "name": "python3"
  },
  "language_info": {
   "codemirror_mode": {
    "name": "ipython",
    "version": 3
   },
   "file_extension": ".py",
   "mimetype": "text/x-python",
   "name": "python",
   "nbconvert_exporter": "python",
   "pygments_lexer": "ipython3",
   "version": "3.7.3"
  }
 },
 "nbformat": 4,
 "nbformat_minor": 1
}
