{
 "cells": [
  {
   "cell_type": "markdown",
   "metadata": {
    "colab_type": "text",
    "id": "-ExzPI0_-rdl"
   },
   "source": [
    "**Intent Detection - Enron**\n"
   ]
  },
  {
   "cell_type": "code",
   "execution_count": 39,
   "metadata": {
    "colab": {},
    "colab_type": "code",
    "id": "QqbyErpA9-2M"
   },
   "outputs": [],
   "source": [
    "import pandas as pd\n",
    "import re\n",
    "from nltk.stem import WordNetLemmatizer\n",
    "from nltk import word_tokenize\n",
    "from nltk.corpus import stopwords\n",
    "from sklearn.model_selection import train_test_split\n",
    "from sklearn.pipeline import Pipeline\n",
    "from sklearn.feature_extraction.text import TfidfVectorizer\n",
    "from sklearn.linear_model import LogisticRegression\n",
    "from sklearn.ensemble import RandomForestClassifier\n",
    "\n",
    "from sklearn.metrics import accuracy_score, f1_score\n",
    "from sklearn.metrics import classification_report"
   ]
  },
  {
   "cell_type": "code",
   "execution_count": 40,
   "metadata": {
    "colab": {},
    "colab_type": "code",
    "id": "XcE_YVhY9-2Y"
   },
   "outputs": [],
   "source": [
    "df_train=pd.read_csv(\"enron_train.txt\",sep=\"\\t\",header=None)\n",
    "df_test=pd.read_csv(\"enron_test.txt\",sep=\"\\t\",header=None)"
   ]
  },
  {
   "cell_type": "code",
   "execution_count": 41,
   "metadata": {
    "colab": {},
    "colab_type": "code",
    "id": "nHbsVyq79-2f"
   },
   "outputs": [],
   "source": [
    "df_train.columns=[\"pred\",\"content\"]\n",
    "df_test.columns=[\"pred\",\"content\"]"
   ]
  },
  {
   "cell_type": "code",
   "execution_count": 42,
   "metadata": {
    "colab": {
     "base_uri": "https://localhost:8080/",
     "height": 68
    },
    "colab_type": "code",
    "id": "9-CjYJVR9-2m",
    "outputId": "b5ea9fad-32a1-483e-c954-622358dada70"
   },
   "outputs": [
    {
     "data": {
      "text/plain": [
       "No     1938\n",
       "Yes    1719\n",
       "Name: pred, dtype: int64"
      ]
     },
     "execution_count": 42,
     "metadata": {},
     "output_type": "execute_result"
    }
   ],
   "source": [
    "df_train['pred'].value_counts()"
   ]
  },
  {
   "cell_type": "code",
   "execution_count": 43,
   "metadata": {
    "colab": {
     "base_uri": "https://localhost:8080/",
     "height": 68
    },
    "colab_type": "code",
    "id": "wxk_1Bvo9-2w",
    "outputId": "fd12c272-ab40-47b5-f47d-4043ce875fce"
   },
   "outputs": [
    {
     "data": {
      "text/plain": [
       "No     683\n",
       "Yes    309\n",
       "Name: pred, dtype: int64"
      ]
     },
     "execution_count": 43,
     "metadata": {},
     "output_type": "execute_result"
    }
   ],
   "source": [
    "df_test['pred'].value_counts()"
   ]
  },
  {
   "cell_type": "code",
   "execution_count": 44,
   "metadata": {
    "colab": {},
    "colab_type": "code",
    "id": "X7mYdt_n9-23"
   },
   "outputs": [],
   "source": [
    "#REPLACE_BY_SPACE_RE = re.compile('[/(){}\\[\\]\\|@,#]')\n",
    "#BAD_SYMBOLS_RE = re.compile('[^0-9a-z #+_]')\n",
    "#STOPWORDS = set(stopwords.words('english'))\n",
    "\n",
    "#def clean_text(text):\n",
    "#    text = text.lower()\n",
    "#    text = text.lstrip()\n",
    "#    text = text.rstrip()\n",
    "#    text = REPLACE_BY_SPACE_RE.sub(' ', text) # replace REPLACE_BY_SPACE_RE symbols by space in text. substitute the matched string in REPLACE_BY_SPACE_RE with space.\n",
    "#    text = BAD_SYMBOLS_RE.sub(' ', text) # remove symbols which are in BAD_SYMBOLS_RE from text. substitute the matched string in BAD_SYMBOLS_RE with nothing. \n",
    "#    text = re.sub(r'\\d+', '', text)\n",
    "#    text = re.sub(r\"\\s+\",\" \",text)\n",
    "#    text = ' '.join(word for word in text.split() if word not in STOPWORDS) # remove stopwors from text\n",
    "#    return text"
   ]
  },
  {
   "cell_type": "code",
   "execution_count": 45,
   "metadata": {
    "colab": {},
    "colab_type": "code",
    "id": "f9kUt0BJ9-3B"
   },
   "outputs": [],
   "source": [
    "REPLACE_BY_SPACE_RE = re.compile('[/(){}\\[\\]\\|@,?#]')\n",
    "def clean_text(text):\n",
    "    text = text.lower()\n",
    "    text = text.strip()\n",
    "    text = text.lstrip()   \n",
    "    text = text.rstrip()\n",
    "    text = REPLACE_BY_SPACE_RE.sub(' ', text)\n",
    "    text = re.sub(r\"https?://(?:[-\\w.]|(?:%[\\da-fA-F]{2}))+\",\"$WEBLINKS\",text)\n",
    "    text = re.sub(r\"\\$\\d+\", \"$CASH\",text)\n",
    "    text = re.sub(r'[\\w\\.-]+@[\\w\\.-]+', \"$EMAIL\",text)\n",
    "    text = re.sub(r'\\b(me|her|him|us|them|there|that)\\b', \"$NOUN\",text)  \n",
    "    return text"
   ]
  },
  {
   "cell_type": "code",
   "execution_count": 46,
   "metadata": {
    "colab": {},
    "colab_type": "code",
    "id": "2ZxZFlUo9-3H"
   },
   "outputs": [],
   "source": [
    "df_train['content'] = df_train['content'].astype(str).apply(clean_text)\n",
    "df_test['content'] = df_test['content'].astype(str).apply(clean_text)"
   ]
  },
  {
   "cell_type": "code",
   "execution_count": 47,
   "metadata": {
    "colab": {},
    "colab_type": "code",
    "id": "kWTJmeC89-3N"
   },
   "outputs": [],
   "source": [
    "df_train.to_excel('train_analyze.xlsx')\n",
    "df_test.to_excel('test_analyze.xlsx')"
   ]
  },
  {
   "cell_type": "code",
   "execution_count": 48,
   "metadata": {},
   "outputs": [],
   "source": [
    "STOPWORDS = set(stopwords.words('english'))"
   ]
  },
  {
   "cell_type": "code",
   "execution_count": 49,
   "metadata": {
    "colab": {},
    "colab_type": "code",
    "id": "dUuJo8Hv9-3R"
   },
   "outputs": [],
   "source": [
    "lemmatizer = WordNetLemmatizer()\n",
    "\n",
    "def tokenizer(text):\n",
    "    return [lemmatizer.lemmatize(word) for word in word_tokenize(text) if len(word)>2 and (word not in STOPWORDS)]"
   ]
  },
  {
   "cell_type": "markdown",
   "metadata": {},
   "source": [
    "# Create TF-IDF Vectors"
   ]
  },
  {
   "cell_type": "code",
   "execution_count": 50,
   "metadata": {
    "colab": {},
    "colab_type": "code",
    "id": "0x5tnzjH9-3U"
   },
   "outputs": [
    {
     "name": "stderr",
     "output_type": "stream",
     "text": [
      "C:\\Users\\risha\\Anaconda3\\lib\\site-packages\\sklearn\\feature_extraction\\text.py:300: UserWarning: Your stop_words may be inconsistent with your preprocessing. Tokenizing the stop words generated tokens [\"'ll\", \"'re\", \"'ve\", 'could', 'might', 'must', \"n't\", 'need', 'sha', 'would'] not in stop_words.\n",
      "  'stop_words.' % sorted(inconsistent))\n"
     ]
    }
   ],
   "source": [
    "from sklearn.feature_extraction.text import TfidfVectorizer\n",
    "tfidf_vec = TfidfVectorizer(min_df=0.01,tokenizer=tokenizer,stop_words=STOPWORDS)\n",
    "\n",
    "X_train_tfidf = tfidf_vec.fit_transform(df_train['content'])"
   ]
  },
  {
   "cell_type": "code",
   "execution_count": 70,
   "metadata": {},
   "outputs": [
    {
     "name": "stdout",
     "output_type": "stream",
     "text": [
      "{\"'ll\": 4.45973970058756, \"'re\": 5.19733864371834, \"'ve\": 5.491099762246503, '...': 5.127134385045092, 'able': 5.42048219503255, 'access': 5.541110182821164, 'account': 5.292648823522665, 'add': 5.144228818404391, 'address': 4.661377046680807, 'also': 4.693812322433961, 'app': 5.567085669224425, 'attached': 5.515792374836875, 'available': 4.65079493735027, 'back': 4.773855030107498, 'best': 5.541110182821164, 'book': 5.398009339180491, 'business': 5.292648823522665, 'call': 3.7240329056088197, 'cash': 5.3128515308401845, 'chance': 5.491099762246503, 'change': 5.127134385045092, 'check': 4.970565324353552, 'click': 5.11032726672871, 'come': 5.0937979647775, 'company': 5.4670022106674425, 'conference': 5.354524227240752, 'contact': 4.941991951909495, 'copy': 5.292648823522665, 'could': 4.27019789582012, 'customer': 5.567085669224425, 'day': 4.531842994488905, 'deal': 5.045788745591139, 'dinner': 5.354524227240752, 'discus': 3.8386958139289598, 'discussion': 5.253428110369383, 'e-mail': 4.941991951909495, 'email': 3.8480855542787986, 'enron': 5.07753744390572, 'feel': 5.567085669224425, 'find': 5.161620561116261, 'first': 5.376030432461716, 'following': 5.4434717132572485, 'forward': 4.352641565031194, 'free': 4.87393848866448, 'friday': 5.179320138215662, 'gas': 5.272846196226485, 'get': 3.181224235989778, 'getting': 4.8871837154145, 'give': 4.221065207242475, 'given': 5.541110182821164, 'going': 4.87393848866448, 'good': 5.398009339180491, 'great': 5.398009339180491, 'group': 5.234379915398689, 'guy': 5.491099762246503, 'help': 4.468473380556316, 'information': 4.785831221154213, 'issue': 4.773855030107498, 'join': 5.11032726672871, 'keep': 5.4434717132572485, 'know': 3.8865518351065944, 'last': 5.179320138215662, 'let': 3.820176766161722, 'like': 3.5417113488148653, 'link': 4.000665141874016, 'list': 5.11032726672871, 'look': 4.8871837154145, 'lunch': 5.3128515308401845, 'mail': 5.11032726672871, 'make': 3.8575642982333425, 'may': 4.661377046680807, 'meet': 4.750324532697303, 'meeting': 4.148426023602503, 'message': 4.956176586901452, 'might': 5.253428110369383, 'minute': 5.3128515308401845, 'monday': 4.822645194276929, \"n't\": 3.843379663241386, 'need': 3.99518567610939, 'new': 4.59950164296272, 'next': 4.451081637844446, 'night': 5.354524227240752, 'note': 5.515792374836875, 'noun': 2.0665987949064637, 'number': 4.985164123774704, 'offer': 5.541110182821164, 'one': 4.682883251901771, 'phone': 5.42048219503255, 'plan': 5.253428110369383, 'please': 2.6767139113282603, 'point': 5.515792374836875, 'possible': 5.061537102559278, 'power': 5.541110182821164, 'provide': 5.541110182821164, 'question': 4.716035459218672, 'receive': 4.928005709934755, 'review': 5.161620561116261, 'right': 5.061537102559278, 'schedule': 5.11032726672871, 'see': 4.5699428407211755, 'send': 4.221065207242475, 'service': 5.215687782386537, 'set': 5.272846196226485, 'share': 5.398009339180491, 'still': 5.491099762246503, 'support': 5.376030432461716, 'sure': 4.956176586901452, 'take': 4.716035459218672, 'talk': 5.0937979647775, 'team': 5.541110182821164, 'tell': 5.567085669224425, 'thing': 5.234379915398689, 'think': 4.640323637482975, 'thursday': 5.292648823522665, 'time': 4.180791308104535, 'today': 4.750324532697303, 'together': 4.941991951909495, 'tomorrow': 4.425548335839282, 'try': 4.985164123774704, 'two': 5.491099762246503, 'update': 5.4670022106674425, 'use': 4.970565324353552, 'visit': 4.999979209559845, 'want': 3.6062498699524363, 'way': 5.567085669224425, 'wednesday': 5.567085669224425, 'week': 4.057177352137358, 'work': 4.822645194276929, 'would': 3.436350833157039, 'year': 5.4670022106674425}\n"
     ]
    }
   ],
   "source": [
    "print(dict(zip(tfidf_vec.get_feature_names(), tfidf_vec.idf_)))"
   ]
  },
  {
   "cell_type": "code",
   "execution_count": 51,
   "metadata": {},
   "outputs": [],
   "source": [
    "X_test_tfidf  = tfidf_vec.transform(df_test['content'])"
   ]
  },
  {
   "cell_type": "code",
   "execution_count": 71,
   "metadata": {},
   "outputs": [
    {
     "name": "stdout",
     "output_type": "stream",
     "text": [
      "{\"'ll\": 4.45973970058756, \"'re\": 5.19733864371834, \"'ve\": 5.491099762246503, '...': 5.127134385045092, 'able': 5.42048219503255, 'access': 5.541110182821164, 'account': 5.292648823522665, 'add': 5.144228818404391, 'address': 4.661377046680807, 'also': 4.693812322433961, 'app': 5.567085669224425, 'attached': 5.515792374836875, 'available': 4.65079493735027, 'back': 4.773855030107498, 'best': 5.541110182821164, 'book': 5.398009339180491, 'business': 5.292648823522665, 'call': 3.7240329056088197, 'cash': 5.3128515308401845, 'chance': 5.491099762246503, 'change': 5.127134385045092, 'check': 4.970565324353552, 'click': 5.11032726672871, 'come': 5.0937979647775, 'company': 5.4670022106674425, 'conference': 5.354524227240752, 'contact': 4.941991951909495, 'copy': 5.292648823522665, 'could': 4.27019789582012, 'customer': 5.567085669224425, 'day': 4.531842994488905, 'deal': 5.045788745591139, 'dinner': 5.354524227240752, 'discus': 3.8386958139289598, 'discussion': 5.253428110369383, 'e-mail': 4.941991951909495, 'email': 3.8480855542787986, 'enron': 5.07753744390572, 'feel': 5.567085669224425, 'find': 5.161620561116261, 'first': 5.376030432461716, 'following': 5.4434717132572485, 'forward': 4.352641565031194, 'free': 4.87393848866448, 'friday': 5.179320138215662, 'gas': 5.272846196226485, 'get': 3.181224235989778, 'getting': 4.8871837154145, 'give': 4.221065207242475, 'given': 5.541110182821164, 'going': 4.87393848866448, 'good': 5.398009339180491, 'great': 5.398009339180491, 'group': 5.234379915398689, 'guy': 5.491099762246503, 'help': 4.468473380556316, 'information': 4.785831221154213, 'issue': 4.773855030107498, 'join': 5.11032726672871, 'keep': 5.4434717132572485, 'know': 3.8865518351065944, 'last': 5.179320138215662, 'let': 3.820176766161722, 'like': 3.5417113488148653, 'link': 4.000665141874016, 'list': 5.11032726672871, 'look': 4.8871837154145, 'lunch': 5.3128515308401845, 'mail': 5.11032726672871, 'make': 3.8575642982333425, 'may': 4.661377046680807, 'meet': 4.750324532697303, 'meeting': 4.148426023602503, 'message': 4.956176586901452, 'might': 5.253428110369383, 'minute': 5.3128515308401845, 'monday': 4.822645194276929, \"n't\": 3.843379663241386, 'need': 3.99518567610939, 'new': 4.59950164296272, 'next': 4.451081637844446, 'night': 5.354524227240752, 'note': 5.515792374836875, 'noun': 2.0665987949064637, 'number': 4.985164123774704, 'offer': 5.541110182821164, 'one': 4.682883251901771, 'phone': 5.42048219503255, 'plan': 5.253428110369383, 'please': 2.6767139113282603, 'point': 5.515792374836875, 'possible': 5.061537102559278, 'power': 5.541110182821164, 'provide': 5.541110182821164, 'question': 4.716035459218672, 'receive': 4.928005709934755, 'review': 5.161620561116261, 'right': 5.061537102559278, 'schedule': 5.11032726672871, 'see': 4.5699428407211755, 'send': 4.221065207242475, 'service': 5.215687782386537, 'set': 5.272846196226485, 'share': 5.398009339180491, 'still': 5.491099762246503, 'support': 5.376030432461716, 'sure': 4.956176586901452, 'take': 4.716035459218672, 'talk': 5.0937979647775, 'team': 5.541110182821164, 'tell': 5.567085669224425, 'thing': 5.234379915398689, 'think': 4.640323637482975, 'thursday': 5.292648823522665, 'time': 4.180791308104535, 'today': 4.750324532697303, 'together': 4.941991951909495, 'tomorrow': 4.425548335839282, 'try': 4.985164123774704, 'two': 5.491099762246503, 'update': 5.4670022106674425, 'use': 4.970565324353552, 'visit': 4.999979209559845, 'want': 3.6062498699524363, 'way': 5.567085669224425, 'wednesday': 5.567085669224425, 'week': 4.057177352137358, 'work': 4.822645194276929, 'would': 3.436350833157039, 'year': 5.4670022106674425}\n"
     ]
    }
   ],
   "source": [
    "print(dict(zip(tfidf_vec.get_feature_names(), tfidf_vec.idf_)))"
   ]
  },
  {
   "cell_type": "code",
   "execution_count": 52,
   "metadata": {
    "colab": {
     "base_uri": "https://localhost:8080/",
     "height": 51
    },
    "colab_type": "code",
    "id": "rGHkx0bD9-3Z",
    "outputId": "1701ee91-b9d1-4fe0-e8ef-ff66874117bd"
   },
   "outputs": [
    {
     "name": "stdout",
     "output_type": "stream",
     "text": [
      "Train Shape :  (3657, 130)\n",
      "Test Shape  :  (992, 130)\n"
     ]
    }
   ],
   "source": [
    "print(\"Train Shape : \",X_train_tfidf.shape)\n",
    "print(\"Test Shape  : \",X_test_tfidf.shape)"
   ]
  },
  {
   "cell_type": "code",
   "execution_count": 53,
   "metadata": {
    "colab": {},
    "colab_type": "code",
    "id": "f9ZJGQhT9-3d"
   },
   "outputs": [],
   "source": [
    "train_pred=df_train[\"pred\"]\n",
    "test_pred=df_test[\"pred\"]"
   ]
  },
  {
   "cell_type": "markdown",
   "metadata": {
    "colab_type": "text",
    "id": "Ay9Ck4Vh9-3h"
   },
   "source": [
    "# Splitting Original Training Set into 80% Train & 20% Validation"
   ]
  },
  {
   "cell_type": "code",
   "execution_count": 54,
   "metadata": {
    "colab": {},
    "colab_type": "code",
    "id": "DE2GScaD9-3i"
   },
   "outputs": [],
   "source": [
    "from sklearn.model_selection import train_test_split"
   ]
  },
  {
   "cell_type": "code",
   "execution_count": 55,
   "metadata": {
    "colab": {},
    "colab_type": "code",
    "id": "R9j5roeA9-3l"
   },
   "outputs": [],
   "source": [
    "X_train,X_val,Y_train,Y_val=train_test_split(X_train_tfidf,train_pred,test_size=.20,random_state=40)"
   ]
  },
  {
   "cell_type": "markdown",
   "metadata": {
    "colab_type": "text",
    "id": "1BISPTQS9-3q"
   },
   "source": [
    "# Changing predictor values into numerics"
   ]
  },
  {
   "cell_type": "code",
   "execution_count": 56,
   "metadata": {
    "colab": {},
    "colab_type": "code",
    "id": "cOemjP959-3r"
   },
   "outputs": [],
   "source": [
    "Y_train=Y_train.map({\"No\":0,\"Yes\":1})\n",
    "Y_val=Y_val.map({\"No\":0,\"Yes\":1})"
   ]
  },
  {
   "cell_type": "markdown",
   "metadata": {
    "colab_type": "text",
    "id": "WsuDGHEq9-3v"
   },
   "source": [
    "# Checking Validation Accuracy with various classifiers"
   ]
  },
  {
   "cell_type": "code",
   "execution_count": 57,
   "metadata": {
    "colab": {},
    "colab_type": "code",
    "id": "SaZ_3KQf9-3w"
   },
   "outputs": [],
   "source": [
    "from sklearn.linear_model import LogisticRegression\n",
    "from sklearn.svm import SVC\n",
    "from sklearn.naive_bayes import MultinomialNB\n",
    "from sklearn.neighbors import KNeighborsClassifier \n",
    "from sklearn.ensemble import RandomForestClassifier\n",
    "# try library : LightGBM and XGBoost\n"
   ]
  },
  {
   "cell_type": "code",
   "execution_count": 58,
   "metadata": {
    "colab": {},
    "colab_type": "code",
    "id": "Cvmji2F49-31"
   },
   "outputs": [],
   "source": [
    "svc = SVC(kernel='rbf', gamma=\"scale\")\n",
    "knc = KNeighborsClassifier(n_neighbors=49)\n",
    "mnb = MultinomialNB(alpha=0.2)\n",
    "lrc = LogisticRegression(solver='liblinear', penalty='l2',C=10.)\n",
    "rfc = RandomForestClassifier(n_estimators=100, random_state=111,n_jobs=-1,max_depth=7) "
   ]
  },
  {
   "cell_type": "code",
   "execution_count": 59,
   "metadata": {
    "colab": {},
    "colab_type": "code",
    "id": "xTB_MTS99-34"
   },
   "outputs": [],
   "source": [
    "clfs = {'SVC' : svc,'KN' : knc, 'NB': mnb, 'LR': lrc, 'RF': rfc}"
   ]
  },
  {
   "cell_type": "code",
   "execution_count": 60,
   "metadata": {
    "colab": {},
    "colab_type": "code",
    "id": "90xnl8ja9-38"
   },
   "outputs": [],
   "source": [
    "def train(clf, features, targets):    \n",
    "    clf.fit(features, targets)\n",
    "\n",
    "def predict(clf, features):\n",
    "    return (clf.predict(features))"
   ]
  },
  {
   "cell_type": "code",
   "execution_count": 61,
   "metadata": {
    "colab": {},
    "colab_type": "code",
    "id": "_6IwXOFH9-3_"
   },
   "outputs": [],
   "source": [
    "pred_scores_word_vectors = []\n",
    "for k,v in clfs.items():\n",
    "    train(v, X_train, Y_train)\n",
    "    pred = predict(v, X_val)\n",
    "    pred_scores_word_vectors.append((k, [accuracy_score(Y_val,pred)]))"
   ]
  },
  {
   "cell_type": "code",
   "execution_count": 62,
   "metadata": {
    "colab": {
     "base_uri": "https://localhost:8080/",
     "height": 80
    },
    "colab_type": "code",
    "id": "1Q2oQZzt9-4D",
    "outputId": "5f651f7a-b48c-4fd1-c266-f0f1cfab1c8b"
   },
   "outputs": [
    {
     "name": "stderr",
     "output_type": "stream",
     "text": [
      "C:\\Users\\risha\\Anaconda3\\lib\\site-packages\\ipykernel_launcher.py:1: FutureWarning: from_items is deprecated. Please use DataFrame.from_dict(dict(items), ...) instead. DataFrame.from_dict(OrderedDict(items)) may be used to preserve the key order.\n",
      "  \"\"\"Entry point for launching an IPython kernel.\n"
     ]
    },
    {
     "data": {
      "text/html": [
       "<div>\n",
       "<style scoped>\n",
       "    .dataframe tbody tr th:only-of-type {\n",
       "        vertical-align: middle;\n",
       "    }\n",
       "\n",
       "    .dataframe tbody tr th {\n",
       "        vertical-align: top;\n",
       "    }\n",
       "\n",
       "    .dataframe thead th {\n",
       "        text-align: right;\n",
       "    }\n",
       "</style>\n",
       "<table border=\"1\" class=\"dataframe\">\n",
       "  <thead>\n",
       "    <tr style=\"text-align: right;\">\n",
       "      <th></th>\n",
       "      <th>Score</th>\n",
       "    </tr>\n",
       "  </thead>\n",
       "  <tbody>\n",
       "    <tr>\n",
       "      <th>SVC</th>\n",
       "      <td>0.711749</td>\n",
       "    </tr>\n",
       "    <tr>\n",
       "      <th>KN</th>\n",
       "      <td>0.594262</td>\n",
       "    </tr>\n",
       "    <tr>\n",
       "      <th>NB</th>\n",
       "      <td>0.700820</td>\n",
       "    </tr>\n",
       "    <tr>\n",
       "      <th>LR</th>\n",
       "      <td>0.733607</td>\n",
       "    </tr>\n",
       "    <tr>\n",
       "      <th>RF</th>\n",
       "      <td>0.700820</td>\n",
       "    </tr>\n",
       "  </tbody>\n",
       "</table>\n",
       "</div>"
      ],
      "text/plain": [
       "        Score\n",
       "SVC  0.711749\n",
       "KN   0.594262\n",
       "NB   0.700820\n",
       "LR   0.733607\n",
       "RF   0.700820"
      ]
     },
     "execution_count": 62,
     "metadata": {},
     "output_type": "execute_result"
    }
   ],
   "source": [
    "predictions = pd.DataFrame.from_items(pred_scores_word_vectors,orient='index', columns=['Score'])\n",
    "predictions"
   ]
  },
  {
   "cell_type": "code",
   "execution_count": 63,
   "metadata": {
    "colab": {},
    "colab_type": "code",
    "id": "IEKBQeCX9-4H"
   },
   "outputs": [],
   "source": [
    "import matplotlib.pyplot as plt\n",
    "import numpy as np"
   ]
  },
  {
   "cell_type": "code",
   "execution_count": 64,
   "metadata": {
    "colab": {
     "base_uri": "https://localhost:8080/",
     "height": 332
    },
    "colab_type": "code",
    "id": "eeGdwOXp9-4L",
    "outputId": "04e53d74-481a-4142-e807-9877e332ba00"
   },
   "outputs": [
    {
     "data": {
      "image/png": "[encoded data removed]",
      "text/plain": [
       "<Figure size 504x360 with 1 Axes>"
      ]
     },
     "metadata": {
      "needs_background": "light"
     },
     "output_type": "display_data"
    }
   ],
   "source": [
    "predictions.plot(kind='bar', ylim=(0.3,1.0), figsize=(7,5), align='center', colormap=\"Accent\")\n",
    "plt.xticks(np.arange(5), predictions.index)\n",
    "plt.ylabel('Validation Accuracy Score')\n",
    "plt.title('Distribution by Classifier')\n",
    "plt.legend(bbox_to_anchor=(1.05, 1), loc=2, borderaxespad=0.)\n",
    "plt.show()"
   ]
  },
  {
   "cell_type": "markdown",
   "metadata": {
    "colab_type": "text",
    "id": "UI37i3Uu9-4S"
   },
   "source": [
    "# Let's test our model on the test set provided with our various classifiers"
   ]
  },
  {
   "cell_type": "code",
   "execution_count": 65,
   "metadata": {
    "colab": {},
    "colab_type": "code",
    "id": "TEnUs6gq9-4T"
   },
   "outputs": [],
   "source": [
    "test_pred=test_pred.map({\"No\":0,\"Yes\":1})"
   ]
  },
  {
   "cell_type": "code",
   "execution_count": 66,
   "metadata": {
    "colab": {},
    "colab_type": "code",
    "id": "3Os3o27L9-4X"
   },
   "outputs": [],
   "source": [
    "tester = pd.DataFrame()"
   ]
  },
  {
   "cell_type": "code",
   "execution_count": 67,
   "metadata": {
    "colab": {},
    "colab_type": "code",
    "id": "ewhCHuRx9-4a"
   },
   "outputs": [],
   "source": [
    "tester['LR_Model']=lrc.predict(X_test_tfidf)\n",
    "tester['SVC_Model']=svc.predict(X_test_tfidf)\n",
    "tester['RF_Model']=rfc.predict(X_test_tfidf)\n",
    "tester['KNC_Model']=knc.predict(X_test_tfidf)\n",
    "tester['NB_Model']=mnb.predict(X_test_tfidf)"
   ]
  },
  {
   "cell_type": "markdown",
   "metadata": {
    "colab_type": "text",
    "id": "LyrtsS529-4e"
   },
   "source": [
    "# Logistic Regression Model"
   ]
  },
  {
   "cell_type": "code",
   "execution_count": 68,
   "metadata": {
    "colab": {
     "base_uri": "https://localhost:8080/",
     "height": 221
    },
    "colab_type": "code",
    "id": "9JyDKOyG9-4e",
    "outputId": "fc099ab7-37c5-4453-9deb-d264c46b5d55"
   },
   "outputs": [
    {
     "name": "stdout",
     "output_type": "stream",
     "text": [
      "Testing accuracy: 0.7661290322580645\n",
      "Testing F1 score: 0.649546827794562\n",
      "Classification Report:\n",
      "              precision    recall  f1-score   support\n",
      "\n",
      "           0       0.80      0.85      0.82       639\n",
      "           1       0.70      0.61      0.65       353\n",
      "\n",
      "   micro avg       0.77      0.77      0.77       992\n",
      "   macro avg       0.75      0.73      0.74       992\n",
      "weighted avg       0.76      0.77      0.76       992\n",
      "\n"
     ]
    }
   ],
   "source": [
    "print('Testing accuracy: %s' % accuracy_score(tester['LR_Model'],test_pred))\n",
    "print('Testing F1 score: {}'.format(f1_score(tester['LR_Model'],test_pred), average='weighted'))\n",
    "print('Classification Report:')\n",
    "print(classification_report(tester['LR_Model'],test_pred))"
   ]
  },
  {
   "cell_type": "markdown",
   "metadata": {
    "colab_type": "text",
    "id": "5_dRzcaI9-4k"
   },
   "source": [
    "# SVC Model"
   ]
  },
  {
   "cell_type": "code",
   "execution_count": 31,
   "metadata": {
    "colab": {
     "base_uri": "https://localhost:8080/",
     "height": 221
    },
    "colab_type": "code",
    "id": "NmqGOHHp9-4k",
    "outputId": "b2b95222-d922-4faf-f004-5924c7f400d9"
   },
   "outputs": [
    {
     "name": "stdout",
     "output_type": "stream",
     "text": [
      "Testing accuracy: 0.7842741935483871\n",
      "Testing F1 score: 0.6284722222222222\n",
      "Classification Report:\n",
      "              precision    recall  f1-score   support\n",
      "\n",
      "           0       0.87      0.82      0.85       725\n",
      "           1       0.59      0.68      0.63       267\n",
      "\n",
      "   micro avg       0.78      0.78      0.78       992\n",
      "   macro avg       0.73      0.75      0.74       992\n",
      "weighted avg       0.80      0.78      0.79       992\n",
      "\n"
     ]
    }
   ],
   "source": [
    "print('Testing accuracy: %s' % accuracy_score(tester['SVC_Model'],test_pred))\n",
    "print('Testing F1 score: {}'.format(f1_score(tester['SVC_Model'],test_pred), average='weighted'))\n",
    "print('Classification Report:')\n",
    "print(classification_report(tester['SVC_Model'],test_pred))"
   ]
  },
  {
   "cell_type": "markdown",
   "metadata": {
    "colab_type": "text",
    "id": "V_0LA5sK9-4o"
   },
   "source": [
    "# Random Forest Model"
   ]
  },
  {
   "cell_type": "code",
   "execution_count": 32,
   "metadata": {
    "colab": {
     "base_uri": "https://localhost:8080/",
     "height": 221
    },
    "colab_type": "code",
    "id": "8TMFIEBq9-4q",
    "outputId": "33fbf589-ece2-4623-881f-7518c3ef27e2"
   },
   "outputs": [
    {
     "name": "stdout",
     "output_type": "stream",
     "text": [
      "Testing accuracy: 0.7973790322580645\n",
      "Testing F1 score: 0.6298342541436465\n",
      "Classification Report:\n",
      "              precision    recall  f1-score   support\n",
      "\n",
      "           0       0.91      0.82      0.86       758\n",
      "           1       0.55      0.73      0.63       234\n",
      "\n",
      "   micro avg       0.80      0.80      0.80       992\n",
      "   macro avg       0.73      0.77      0.75       992\n",
      "weighted avg       0.82      0.80      0.81       992\n",
      "\n"
     ]
    }
   ],
   "source": [
    "print('Testing accuracy: %s' % accuracy_score(tester['RF_Model'],test_pred))\n",
    "print('Testing F1 score: {}'.format(f1_score(tester['RF_Model'],test_pred), average='weighted'))\n",
    "print('Classification Report:')\n",
    "print(classification_report(tester['RF_Model'],test_pred))"
   ]
  },
  {
   "cell_type": "markdown",
   "metadata": {},
   "source": [
    "# Checking Feature Importances of RF"
   ]
  },
  {
   "cell_type": "code",
   "execution_count": 72,
   "metadata": {},
   "outputs": [
    {
     "name": "stdout",
     "output_type": "stream",
     "text": [
      "{\"'ll\": 0.002073239439388362, \"'re\": 0.0007762551772150313, \"'ve\": 0.0017424582733723917, '...': 0.0006828505200295851, 'able': 0.00038794996741555945, 'access': 0.0008775354709102634, 'account': 0.0008501852103154805, 'add': 0.0033867917841217156, 'address': 0.0019032105072934742, 'also': 0.0015068757869964367, 'app': 0.0018777492410849811, 'attached': 3.817124157499585e-05, 'available': 0.0007554244881770401, 'back': 0.0008996444009069294, 'best': 0.0006048181485114511, 'book': 0.0024113713523134877, 'business': 0.002054392196917253, 'call': 0.0874875952907968, 'cash': 0.0016578362125546893, 'chance': 0.001096029691442392, 'change': 0.0026834711278233155, 'check': 0.0016747670048873084, 'click': 0.003572643938688133, 'come': 0.0029434849455780205, 'company': 0.002810707383009429, 'conference': 0.001379477342599763, 'contact': 0.0024008353102397424, 'copy': 0.004360847916420917, 'could': 0.02780105504094692, 'customer': 0.0008607410848980348, 'day': 0.00967403082864298, 'deal': 0.0002892603478199739, 'dinner': 0.001351153347090735, 'discus': 0.09642856304221763, 'discussion': 0.0009683956382732086, 'e-mail': 0.001159521498036252, 'email': 0.006308587308190188, 'enron': 0.0010785934633357735, 'feel': 0.0015115104422843092, 'find': 0.0014913522602696303, 'first': 0.0004751021838523659, 'following': 0.0003816758861981407, 'forward': 0.0007567191076819619, 'free': 0.0015658039675953816, 'friday': 0.0009282378421987217, 'gas': 0.001229012303948119, 'get': 0.006347160406320398, 'getting': 0.0076595232301054006, 'give': 0.014432525672623521, 'given': 0.002614557713440463, 'going': 0.0010682708327783312, 'good': 0.001271588935221544, 'great': 0.0022777336371227887, 'group': 0.000988981679549728, 'guy': 0.000871672445278044, 'help': 0.0015477214856942942, 'information': 0.0016154315334988942, 'issue': 0.0008901106206206832, 'join': 0.016283669919263923, 'keep': 0.0011695968234192607, 'know': 0.03435919125966833, 'last': 0.0007661959154258617, 'let': 0.06722289553100114, 'like': 0.007291664311847427, 'link': 0.0067025828559547215, 'list': 0.0019095076728919476, 'look': 0.0005606016430803793, 'lunch': 0.01350003502686857, 'mail': 0.0035521024156220534, 'make': 0.013933156620100157, 'may': 0.0016536051531885186, 'meet': 0.035501522339601105, 'meeting': 0.004238295672105158, 'message': 0.0016002772251324316, 'might': 0.00029335392911494573, 'minute': 0.003487807418653459, 'monday': 0.00044154324280535695, \"n't\": 0.016474185130745465, 'need': 0.009666720749531893, 'new': 0.0034276580944745277, 'next': 0.0023850913231841554, 'night': 0.0001029070558975617, 'note': 0.001097819801764179, 'noun': 0.023856481594140996, 'number': 0.0012236311451494643, 'offer': 0.000523703861171951, 'one': 0.0031357721779299358, 'phone': 0.0025989756954242745, 'plan': 0.00040630770942595874, 'please': 0.2527468859315655, 'point': 0.0010871413530237468, 'possible': 0.0015668436641178625, 'power': 0.004160337227425471, 'provide': 0.0009509071942634512, 'question': 0.008533634166629918, 'receive': 0.009685530181420505, 'review': 0.002196219238969961, 'right': 0.0008407971174146788, 'schedule': 0.001586696298299109, 'see': 0.001723114502435373, 'send': 0.0059624147822115205, 'service': 0.001774509833708996, 'set': 0.006956226510314556, 'share': 0.0011719334676651171, 'still': 0.0010214305961997038, 'support': 0.0008174009268092031, 'sure': 0.0007480596621252141, 'take': 0.0031334421251604716, 'talk': 0.006952214163605118, 'team': 0.0008530049299377086, 'tell': 0.0024015468932263046, 'thing': 0.0020647103936275914, 'think': 0.003608237969798172, 'thursday': 2.570047690602129e-05, 'time': 0.001526770725422594, 'today': 0.0012678519405922412, 'together': 0.0012449770943491264, 'tomorrow': 0.00169540286832614, 'try': 0.004089237633388517, 'two': 0.0003689471942083962, 'update': 0.0015543897381108676, 'use': 0.0014112167312528756, 'visit': 0.010605680021096789, 'want': 0.006899521784625496, 'way': 0.003268306097265676, 'wednesday': 0.0007891384758367963, 'week': 0.0029993725185182905, 'work': 0.0018472403676265351, 'would': 0.025053934134725155, 'year': 0.002701000596888694}\n"
     ]
    }
   ],
   "source": [
    "print(dict(zip(tfidf_vec.get_feature_names(), rfc.feature_importances_)))"
   ]
  },
  {
   "cell_type": "markdown",
   "metadata": {
    "colab_type": "text",
    "id": "_uxO2f3E9-4u"
   },
   "source": [
    "# K-Neighbours Classifier"
   ]
  },
  {
   "cell_type": "code",
   "execution_count": 33,
   "metadata": {
    "colab": {
     "base_uri": "https://localhost:8080/",
     "height": 221
    },
    "colab_type": "code",
    "id": "JH1bTvDE9-4u",
    "outputId": "af6bc44e-d4fd-47b4-fb6f-7f7c7492e5b3"
   },
   "outputs": [
    {
     "name": "stdout",
     "output_type": "stream",
     "text": [
      "Testing accuracy: 0.7379032258064516\n",
      "Testing F1 score: 0.3719806763285024\n",
      "Classification Report:\n",
      "              precision    recall  f1-score   support\n",
      "\n",
      "           0       0.96      0.74      0.83       887\n",
      "           1       0.25      0.73      0.37       105\n",
      "\n",
      "   micro avg       0.74      0.74      0.74       992\n",
      "   macro avg       0.60      0.74      0.60       992\n",
      "weighted avg       0.88      0.74      0.79       992\n",
      "\n"
     ]
    }
   ],
   "source": [
    "print('Testing accuracy: %s' % accuracy_score(tester['KNC_Model'],test_pred))\n",
    "print('Testing F1 score: {}'.format(f1_score(tester['KNC_Model'],test_pred), average='weighted'))\n",
    "print('Classification Report:')\n",
    "print(classification_report(tester['KNC_Model'],test_pred))"
   ]
  },
  {
   "cell_type": "markdown",
   "metadata": {
    "colab_type": "text",
    "id": "QuJWjK4k9-4y"
   },
   "source": [
    "# Multinomial Naive Bayes Model"
   ]
  },
  {
   "cell_type": "code",
   "execution_count": 34,
   "metadata": {
    "colab": {
     "base_uri": "https://localhost:8080/",
     "height": 221
    },
    "colab_type": "code",
    "id": "o7xG5dmC9-4y",
    "outputId": "fbab8abe-c7a5-411c-a5cc-e77aa793de77"
   },
   "outputs": [
    {
     "name": "stdout",
     "output_type": "stream",
     "text": [
      "Testing accuracy: 0.7399193548387096\n",
      "Testing F1 score: 0.6205882352941177\n",
      "Classification Report:\n",
      "              precision    recall  f1-score   support\n",
      "\n",
      "           0       0.77      0.84      0.80       621\n",
      "           1       0.68      0.57      0.62       371\n",
      "\n",
      "   micro avg       0.74      0.74      0.74       992\n",
      "   macro avg       0.72      0.71      0.71       992\n",
      "weighted avg       0.73      0.74      0.73       992\n",
      "\n"
     ]
    }
   ],
   "source": [
    "print('Testing accuracy: %s' % accuracy_score(tester['NB_Model'],test_pred))\n",
    "print('Testing F1 score: {}'.format(f1_score(tester['NB_Model'],test_pred), average='weighted'))\n",
    "print('Classification Report:')\n",
    "print(classification_report(tester['NB_Model'],test_pred))"
   ]
  },
  {
   "cell_type": "markdown",
   "metadata": {},
   "source": [
    "# LGBM Classifier"
   ]
  },
  {
   "cell_type": "code",
   "execution_count": 35,
   "metadata": {
    "colab": {},
    "colab_type": "code",
    "id": "K97rT6UZ9-42"
   },
   "outputs": [],
   "source": [
    "from lightgbm import LGBMClassifier"
   ]
  },
  {
   "cell_type": "code",
   "execution_count": 36,
   "metadata": {
    "colab": {},
    "colab_type": "code",
    "id": "tkD_ydAfLm6I"
   },
   "outputs": [],
   "source": [
    "lgbm = LGBMClassifier(max_depth=10, n_estimators = 150).fit(X_train,Y_train)"
   ]
  },
  {
   "cell_type": "code",
   "execution_count": 37,
   "metadata": {
    "colab": {},
    "colab_type": "code",
    "id": "bVLsemOcLYGn"
   },
   "outputs": [],
   "source": [
    "tester['LGBM_Model']=lgbm.predict(X_test_tfidf)"
   ]
  },
  {
   "cell_type": "code",
   "execution_count": 38,
   "metadata": {},
   "outputs": [
    {
     "name": "stdout",
     "output_type": "stream",
     "text": [
      "Testing accuracy: 0.7711693548387096\n",
      "Testing F1 score: 0.6513056835637481\n",
      "Classification Report:\n",
      "              precision    recall  f1-score   support\n",
      "\n",
      "           0       0.81      0.85      0.83       650\n",
      "           1       0.69      0.62      0.65       342\n",
      "\n",
      "   micro avg       0.77      0.77      0.77       992\n",
      "   macro avg       0.75      0.74      0.74       992\n",
      "weighted avg       0.77      0.77      0.77       992\n",
      "\n"
     ]
    }
   ],
   "source": [
    "print('Testing accuracy: %s' % accuracy_score(tester['LGBM_Model'],test_pred))\n",
    "print('Testing F1 score: {}'.format(f1_score(tester['LGBM_Model'],test_pred), average='weighted'))\n",
    "print('Classification Report:')\n",
    "print(classification_report(tester['LGBM_Model'],test_pred))"
   ]
  },
  {
   "cell_type": "code",
   "execution_count": null,
   "metadata": {},
   "outputs": [],
   "source": []
  },
  {
   "cell_type": "code",
   "execution_count": null,
   "metadata": {},
   "outputs": [],
   "source": []
  }
 ],
 "metadata": {
  "colab": {
   "collapsed_sections": [],
   "name": "Enron_Intent_Detection - TF-IDF.ipynb",
   "provenance": []
  },
  "kernelspec": {
   "display_name": "Python 3",
   "language": "python",
   "name": "python3"
  },
  "language_info": {
   "codemirror_mode": {
    "name": "ipython",
    "version": 3
   },
   "file_extension": ".py",
   "mimetype": "text/x-python",
   "name": "python",
   "nbconvert_exporter": "python",
   "pygments_lexer": "ipython3",
   "version": "3.7.3"
  }
 },
 "nbformat": 4,
 "nbformat_minor": 1
}
